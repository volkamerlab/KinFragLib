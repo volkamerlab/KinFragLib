{
 "cells": [
  {
   "cell_type": "markdown",
   "id": "a2c6d3e2-8fc9-47bf-8d42-10114ffe3c70",
   "metadata": {},
   "source": [
    "# Filter for pairwise retrosynthesizability"
   ]
  },
  {
   "cell_type": "markdown",
   "id": "8f269914-05af-47eb-9cbe-d84f2499cc45",
   "metadata": {},
   "source": [
    "## Aim of this notebook"
   ]
  },
  {
   "cell_type": "markdown",
   "id": "c98ff012-da23-461c-80a6-a06063814536",
   "metadata": {},
   "source": [
    "This notebook is filtering the fragments for pairwise retrosynthesizability using the web API from [ASKCOS](https://askcos.mit.edu/).\n",
    "\n",
    "We build all valid fragment pairs and look if a retrosynthetic route can be found to create this pair from the fragments given. To reduce the number of requests we, first apply all filters from the previous notebooks."
   ]
  },
  {
   "cell_type": "markdown",
   "id": "ac3d7a2a-6ef0-4589-8d9b-05a590f26562",
   "metadata": {
    "tags": []
   },
   "source": [
    "## Table of contents\n",
    "1. Load fragment library\n",
    "2. Apply filters\n",
    "    \n",
    "    2.1. Apply pre-filters\n",
    "    \n",
    "    2.2. Apply filters for unwanted substructures\n",
    "    \n",
    "        2.2.1. PAINS filter\n",
    "        \n",
    "        2.2.2 Brenk filter\n",
    "    \n",
    "    2.3. Apply filters for drug likeness\n",
    "        \n",
    "        2.3.1. Rule of Three filter\n",
    "        \n",
    "        2.3.2. Quantitative Estimate of Druglikeness filter\n",
    "        \n",
    "    2.4. Apply filters for synthesizability\n",
    "    \n",
    "        2.4.1. Filter for buyable building blocks\n",
    "        \n",
    "        2.4.2. Filter for Synthetic Bayesian Estimation\n",
    "        \n",
    "    2.5. Process filtering results\n",
    "        \n",
    "        2.5.1. Check which fragments pass all filters applied\n",
    "        \n",
    "        2.5.2. Save the values computed by each filtering step\n",
    "    \n",
    "    2.6. Remove fragments not passing the previous filtering steps\n",
    "    \n",
    "3. Apply pairwise retrosynthesizability\n",
    "\n",
    "    3.1. Get valid fragment pairs\n",
    "    \n",
    "    3.2. Calculate pairwise retrosynthesizability\n",
    "    \n",
    "4. Analyze accepted/ rejected fragments\n",
    "\n",
    "    4.1. Count number of accepted/rejected fragments\n",
    "    \n",
    "    4.2. Plot number of retrosynthetic routes found per fragment and subpocket\n",
    "    \n",
    "    4.3. Inspect fragments with no retrosynthetic routes found and with most retrosynthetic routes found\n",
    "    \n",
    "    4.4 Save custom filtered fragment library\n",
    "    \n",
    "        4.4.1. Add results from pairwise retrosynthesizability to the filtering results\n",
    "        \n",
    "        4.4.2. Save fragment_library_custom_filtered to data"
   ]
  },
  {
   "cell_type": "markdown",
   "id": "af64d85b-04f4-466d-af18-b5ccd06a17b3",
   "metadata": {},
   "source": [
    "## Imports and preprocessing"
   ]
  },
  {
   "cell_type": "code",
   "execution_count": 1,
   "id": "01c3d56e-ec28-4e3b-8ccd-f9330bbb748c",
   "metadata": {},
   "outputs": [],
   "source": [
    "import warnings\n",
    "import pandas as pd\n",
    "from pathlib import Path\n",
    "from rdkit.Chem import PandasTools\n",
    "from IPython.core.display import HTML\n",
    "from kinfraglib import filters, utils"
   ]
  },
  {
   "cell_type": "code",
   "execution_count": 2,
   "id": "0e733735-05c5-45cf-99e1-05be23b7b5ad",
   "metadata": {},
   "outputs": [],
   "source": [
    "%load_ext autoreload\n",
    "%autoreload 2"
   ]
  },
  {
   "cell_type": "code",
   "execution_count": 3,
   "id": "26f66b6d-5405-4e07-8999-5d187a819d4e",
   "metadata": {},
   "outputs": [],
   "source": [
    "# Needed to display ROMol images in DataFrames\n",
    "PandasTools.RenderImagesInAllDataFrames(images=True)"
   ]
  },
  {
   "cell_type": "markdown",
   "id": "5ba93340-d630-450e-827e-d086ed243216",
   "metadata": {},
   "source": [
    "### Define global paths"
   ]
  },
  {
   "cell_type": "code",
   "execution_count": 4,
   "id": "f9aca1d4-c22d-4c73-839c-9a9000f81fcd",
   "metadata": {},
   "outputs": [],
   "source": [
    "# Path to data\n",
    "HERE = Path().resolve()\n",
    "PATH_DATA = HERE / \"../../data\"\n",
    "PATH_DATA_BRENK = PATH_DATA / \"filters/Brenk\"\n",
    "PATH_DATA_ENAMINE = HERE / \"../../data/filters/Enamine\"\n",
    "PATH_DATA_RETRO = HERE / \"../../data/filters/retrosynthesizability\"\n",
    "PATH_DATA_CUSTOM = PATH_DATA / \"fragment_library_custom_filtered\""
   ]
  },
  {
   "cell_type": "markdown",
   "id": "41adb7e7-9985-43e8-b43f-e181d6ac3e22",
   "metadata": {},
   "source": [
    "## 1. Load fragment library"
   ]
  },
  {
   "cell_type": "code",
   "execution_count": 5,
   "id": "62f4cf77-0b8b-4bef-903b-924e79ed8cc7",
   "metadata": {},
   "outputs": [],
   "source": [
    "fragment_library = utils.read_fragment_library(PATH_DATA / \"fragment_library\")"
   ]
  },
  {
   "cell_type": "code",
   "execution_count": 6,
   "id": "79aecd8e-fbf2-4a60-a656-11a6f7e7adba",
   "metadata": {},
   "outputs": [
    {
     "data": {
      "text/plain": [
       "dict_keys(['AP', 'FP', 'SE', 'GA', 'B1', 'B2', 'X'])"
      ]
     },
     "execution_count": 6,
     "metadata": {},
     "output_type": "execute_result"
    }
   ],
   "source": [
    "fragment_library.keys()"
   ]
  },
  {
   "cell_type": "code",
   "execution_count": 7,
   "id": "ca64d645-2bda-426e-9d64-ec820b9356a4",
   "metadata": {},
   "outputs": [
    {
     "data": {
      "text/plain": [
       "(7486, 15)"
      ]
     },
     "execution_count": 7,
     "metadata": {},
     "output_type": "execute_result"
    }
   ],
   "source": [
    "pd.concat(fragment_library).reset_index(drop=True).shape"
   ]
  },
  {
   "cell_type": "markdown",
   "id": "92118459-57c7-4b54-a1e5-65cadc72dcc0",
   "metadata": {},
   "source": [
    "## 2. Apply filters\n",
    "\n",
    "    2.2. Apply filters for unwanted substructures\n",
    "    \n",
    "        2.2.1. PAINS filter\n",
    "        \n",
    "        2.2.2 Brenk filter\n",
    "    \n",
    "    2.3. Apply filters for drug likeness\n",
    "        \n",
    "        2.3.1. Rule of Three filter\n",
    "        \n",
    "        2.3.2. Qunatitative Estimate of Druglikeness filter\n",
    "        \n",
    "    2.4. Apply filters for synthesizability\n",
    "    \n",
    "        2.4.1. Filter for buyable building blocks\n",
    "        \n",
    "        2.4.2. Filter for Synthetic Bayesian Estimation\n",
    "        \n",
    "    2.5. Process filtering results\n",
    "        \n",
    "        2.5.1. Check which fragments pass all filters applied\n",
    "        \n",
    "        2.5.2. Save the values computed by each filtering step\n",
    "    \n",
    "    2.6. Remove fragments not passing the previous filtering steps"
   ]
  },
  {
   "cell_type": "markdown",
   "id": "09a9082c-df5b-4061-9c8f-38f138f03e8f",
   "metadata": {},
   "source": [
    "These filters are applied to reduce the number of fragments before building pairs for the pairwise retrosynthesizability filter to avoid the combinatorial explosion and enable this analysis."
   ]
  },
  {
   "cell_type": "markdown",
   "id": "9d20c6ef-d5c8-432d-aa6b-d019fbddd5d0",
   "metadata": {},
   "source": [
    "### 2.1. Apply pre-filters\n",
    "Pre-filters are \n",
    "- removing fragments in pool X\n",
    "- removing duplicates\n",
    "- removing fragments without dummy atoms (unfragmented ligands)\n",
    "- removing fragments only connecting to pool X"
   ]
  },
  {
   "cell_type": "code",
   "execution_count": 8,
   "id": "31db9422-b201-4136-942a-c4654f82b3a6",
   "metadata": {},
   "outputs": [],
   "source": [
    "fragment_library = filters.prefilters.pre_filters(fragment_library)"
   ]
  },
  {
   "cell_type": "markdown",
   "id": "21e3b8dc-ebbd-4d10-b028-d3d7cc0cbf1a",
   "metadata": {},
   "source": [
    "### 2.2. Apply filters for unwanted substructures\n",
    "Filter out fragments that could cause unwanted side effects.\n",
    "\n",
    "For more information, check [/notebooks/custom_kinfraglib/1_1_custom_filters_unwanted_substructures.ipynb](https://github.com/sonjaleo/KinFragLib/blob/custom-base/notebooks/custom_kinfraglib/1_1_custom_filters_unwanted_substructures.ipynb)"
   ]
  },
  {
   "cell_type": "markdown",
   "id": "0cc5b943-2290-498f-8050-b740a440e3d2",
   "metadata": {},
   "source": [
    "#### 2.2.1. PAINS filter\n",
    "Remove fragments that can appear as false positive hits in HTS assays.\n",
    "\n",
    "[ J. Med. Chem. 2010, 53, 7, 2719–2740](https://pubs.acs.org/doi/abs/10.1021/jm901137j)"
   ]
  },
  {
   "cell_type": "code",
   "execution_count": 9,
   "id": "76cbf696-84a9-41fa-9c3d-f6cd725245b5",
   "metadata": {},
   "outputs": [],
   "source": [
    "fragment_library, _ = filters.unwanted_substructures.get_pains(fragment_library)"
   ]
  },
  {
   "cell_type": "markdown",
   "id": "ca4e28a6-9b05-4b64-aa73-8e32cafb1984",
   "metadata": {},
   "source": [
    "#### 2.2.2 Brenk filter\n",
    "Remove fragments containing substructures which do not enrich libraries for lead like compounds, defined by Brenk et al. ([ChemMedChem, 2008, 3(3),435--444](https://chemistry-europe.onlinelibrary.wiley.com/doi/full/10.1002/cmdc.200700139))."
   ]
  },
  {
   "cell_type": "code",
   "execution_count": 10,
   "id": "c2259261-f754-40b7-aa14-95c9af5e345e",
   "metadata": {},
   "outputs": [
    {
     "name": "stdout",
     "output_type": "stream",
     "text": [
      "Number of unwanted substructures in Brenk et al. collection: 104\n"
     ]
    }
   ],
   "source": [
    "fragment_library, brenk_structs = filters.unwanted_substructures.get_brenk(\n",
    "    fragment_library, PATH_DATA_BRENK\n",
    ")"
   ]
  },
  {
   "cell_type": "markdown",
   "id": "bbd034f4-5b12-4a4d-adba-67d8e1fb4acf",
   "metadata": {},
   "source": [
    "### 2.3. Apply filters for drug likeness\n",
    "For more information, check [/notebooks/custom_kinfraglib/1_2_custom_filters_drug_likeness.ipynb](https://github.com/sonjaleo/KinFragLib/blob/custom-base/notebooks/custom_kinfraglib/1_2_custom_filters_drug_likeness.ipynb)"
   ]
  },
  {
   "cell_type": "markdown",
   "id": "7caff38b-cafd-4b43-9243-d67d366edbd3",
   "metadata": {},
   "source": [
    "#### 2.3.1. Rule of Three filter\n",
    "Filter the fragments according to the Rule of Three ([Drug Discovery Today, 2003, 8(19):876-877](https://www.sciencedirect.com/science/article/abs/pii/S1359644603028319?via%3Dihub))."
   ]
  },
  {
   "cell_type": "code",
   "execution_count": 11,
   "id": "e8ededec-2f36-49c5-8f4a-31d36d8383ea",
   "metadata": {},
   "outputs": [],
   "source": [
    "fragment_library = filters.drug_likeness.get_ro3_frags(fragment_library)"
   ]
  },
  {
   "cell_type": "markdown",
   "id": "dfe2a2db-4955-4154-834c-60c3ed210fc0",
   "metadata": {},
   "source": [
    "####  2.3.2. Quantitative Estimate of Druglikeness filter\n",
    "The Quantitative Estimate of Druglikeness reflects the molecular properties ([Nat Chem. 2012 Jan 24; 4(2): 90–98](https://www.nature.com/articles/nchem.1243))."
   ]
  },
  {
   "cell_type": "code",
   "execution_count": 12,
   "id": "36a60b40-8fb5-4fc0-b00c-976705253af5",
   "metadata": {},
   "outputs": [],
   "source": [
    "fragment_library = filters.drug_likeness.get_qed(fragment_library, cutoff_val=0.492)"
   ]
  },
  {
   "cell_type": "markdown",
   "id": "3f35c52a-abd6-484d-8d9e-08128f168f48",
   "metadata": {
    "tags": []
   },
   "source": [
    "### 2.4. Apply filters for synthesizability\n",
    "\n",
    "For more information, check [/notebooks/custom_kinfraglib/1_3_custom_filters_synthesizability.ipynb](https://github.com/sonjaleo/KinFragLib/blob/custom-base/notebooks/custom_kinfraglib/1_3_custom_filters_synthesizability.ipynb)"
   ]
  },
  {
   "cell_type": "markdown",
   "id": "49834ec2-0c9f-42af-82a5-29bef4c522a3",
   "metadata": {},
   "source": [
    "#### 2.4.1. Filter for buyable building blocks\n",
    "Building blocks can be used to synthesize molecules on demand.\n",
    "\n",
    "**Note**: A description to the generation of the `\"/filters/DataWarrior/Enamine_Building_Blocks.sdf\"` file used in this function can be found in the [README](https://github.com/sonjaleo/KinFragLib/blob/review-update/data/filters/DataWarrior/README.md) file in the `\"data/filters/DataWarrior\"` directory."
   ]
  },
  {
   "cell_type": "code",
   "execution_count": 13,
   "id": "f6b5c7c3-a54a-4300-87fb-6ff3dbf98a94",
   "metadata": {},
   "outputs": [
    {
     "name": "stdout",
     "output_type": "stream",
     "text": [
      "Number of building blocks: 1562\n"
     ]
    }
   ],
   "source": [
    "fragment_library = filters.synthesizability.check_building_blocks(\n",
    "    fragment_library,\n",
    "    str(str(PATH_DATA_ENAMINE) + \"/Enamine_Building_Blocks.sdf\"),\n",
    ")"
   ]
  },
  {
   "cell_type": "markdown",
   "id": "74d78673-5f57-4e82-8111-49936fcf3271",
   "metadata": {},
   "source": [
    "#### 2.4.2. Filter for Synthetic Bayesian Estimation\n",
    "The Synthetic Bayesian Estimation is a fragment based estimate, determining whether a molecule is easy or hard to synthesize.\n",
    "\n",
    "[(J Cheminform 12, 35 (2020))](https://jcheminf.biomedcentral.com/articles/10.1186/s13321-020-00439-2) "
   ]
  },
  {
   "cell_type": "code",
   "execution_count": 14,
   "id": "7f9edb39-3542-4d4b-914e-f9cea422f643",
   "metadata": {},
   "outputs": [],
   "source": [
    "fragment_library = filters.synthesizability.calc_syba(fragment_library, cutoff=0)"
   ]
  },
  {
   "cell_type": "markdown",
   "id": "b6f96499-9758-4e62-91c2-6acf3e0741c5",
   "metadata": {
    "tags": []
   },
   "source": [
    "### 2.5. Process filtering results\n",
    "* 2.5.1. Check which fragments pass all filters applied\n",
    "* 2.5.2. Save the values computed by each filtering step"
   ]
  },
  {
   "cell_type": "markdown",
   "id": "2db5b757-427b-4a82-a84f-6d071c748ff1",
   "metadata": {},
   "source": [
    "#### 2.5.1. Check which fragments pass all filters applied"
   ]
  },
  {
   "cell_type": "markdown",
   "id": "5d8015d5-75ea-4040-ab7a-7c4387630e8d",
   "metadata": {},
   "source": [
    "Check which fragments pass all filters applied."
   ]
  },
  {
   "cell_type": "code",
   "execution_count": 15,
   "id": "33791673-b26c-4ce3-85d1-ea2f2f69f95a",
   "metadata": {},
   "outputs": [
    {
     "data": {
      "text/plain": [
       "(2859, 27)"
      ]
     },
     "execution_count": 15,
     "metadata": {},
     "output_type": "execute_result"
    }
   ],
   "source": [
    "fragment_library = filters.analysis.number_of_accepted(\n",
    "    fragment_library, columns=[\n",
    "        \"bool_pains\",\n",
    "        \"bool_brenk\",\n",
    "        \"bool_ro3\",\n",
    "        \"bool_qed\",\n",
    "        \"bool_bb\",\n",
    "        \"bool_syba\",\n",
    "    ],\n",
    "    min_accepted=6)\n",
    "pd.concat(fragment_library).reset_index(drop=True).shape"
   ]
  },
  {
   "cell_type": "markdown",
   "id": "d36e754b-9081-490d-b3d6-02cc81a07142",
   "metadata": {},
   "source": [
    "Count number of fragments pre-filtered and accepted by all filters, or not accepted by at least one filter."
   ]
  },
  {
   "cell_type": "code",
   "execution_count": 16,
   "id": "7e6740cd-147b-4bc6-8a96-68926dfb50b8",
   "metadata": {},
   "outputs": [
    {
     "data": {
      "text/html": [
       "<div>\n",
       "<style scoped>\n",
       "    .dataframe tbody tr th:only-of-type {\n",
       "        vertical-align: middle;\n",
       "    }\n",
       "\n",
       "    .dataframe tbody tr th {\n",
       "        vertical-align: top;\n",
       "    }\n",
       "\n",
       "    .dataframe thead th {\n",
       "        text-align: right;\n",
       "    }\n",
       "</style>\n",
       "<table border=\"1\" class=\"dataframe\">\n",
       "  <thead>\n",
       "    <tr style=\"text-align: right;\">\n",
       "      <th></th>\n",
       "      <th>pre_filtered</th>\n",
       "      <th>accepted_filtered</th>\n",
       "      <th>rejected_filtered</th>\n",
       "    </tr>\n",
       "  </thead>\n",
       "  <tbody>\n",
       "    <tr>\n",
       "      <th>AP</th>\n",
       "      <td>1001</td>\n",
       "      <td>233</td>\n",
       "      <td>768</td>\n",
       "    </tr>\n",
       "    <tr>\n",
       "      <th>FP</th>\n",
       "      <td>862</td>\n",
       "      <td>174</td>\n",
       "      <td>688</td>\n",
       "    </tr>\n",
       "    <tr>\n",
       "      <th>SE</th>\n",
       "      <td>606</td>\n",
       "      <td>165</td>\n",
       "      <td>441</td>\n",
       "    </tr>\n",
       "    <tr>\n",
       "      <th>GA</th>\n",
       "      <td>306</td>\n",
       "      <td>100</td>\n",
       "      <td>206</td>\n",
       "    </tr>\n",
       "    <tr>\n",
       "      <th>B1</th>\n",
       "      <td>42</td>\n",
       "      <td>9</td>\n",
       "      <td>33</td>\n",
       "    </tr>\n",
       "    <tr>\n",
       "      <th>B2</th>\n",
       "      <td>42</td>\n",
       "      <td>18</td>\n",
       "      <td>24</td>\n",
       "    </tr>\n",
       "    <tr>\n",
       "      <th>Total</th>\n",
       "      <td>2859</td>\n",
       "      <td>699</td>\n",
       "      <td>2160</td>\n",
       "    </tr>\n",
       "  </tbody>\n",
       "</table>\n",
       "</div>"
      ],
      "text/plain": [
       "       pre_filtered  accepted_filtered  rejected_filtered\n",
       "AP             1001                233                768\n",
       "FP              862                174                688\n",
       "SE              606                165                441\n",
       "GA              306                100                206\n",
       "B1               42                  9                 33\n",
       "B2               42                 18                 24\n",
       "Total          2859                699               2160"
      ]
     },
     "execution_count": 16,
     "metadata": {},
     "output_type": "execute_result"
    }
   ],
   "source": [
    "num_fragments_filter = pd.concat([filters.analysis.count_fragments(\n",
    "    fragment_library,\n",
    "    \"pre_filtered\"),\n",
    "           filters.analysis.count_accepted_rejected(\n",
    "              fragment_library,\n",
    "              \"bool\", \"filtered\")],\n",
    "          axis=1)\n",
    "num_fragments_filter = pd.concat([num_fragments_filter, num_fragments_filter.sum().rename(\"Total\").to_frame().T])\n",
    "num_fragments_filter\n",
    "# NBVAL_CHECK_OUTPUT"
   ]
  },
  {
   "cell_type": "markdown",
   "id": "a23453ca-f1be-4b5e-931f-02e92cc050b3",
   "metadata": {},
   "source": [
    "#### 2.5.2. Save the values computed by each filtering step\n",
    "\n",
    "Save filtering results for analysis to [/data/filters/fragment_library_custom_filtered/custom_filter_results.csv](https://github.com/sonjaleo/KinFragLib/blob/fragment_pairs/data/fragment_library_custom_filtered/custom_filter_results.csv)."
   ]
  },
  {
   "cell_type": "code",
   "execution_count": 17,
   "id": "79c48c15-1328-4b56-b5f4-4e4051d37dd4",
   "metadata": {},
   "outputs": [],
   "source": [
    "columns = [\n",
    "    \"bool_pains\",\n",
    "    \"bool_brenk\",\n",
    "    \"bool_ro3\",\n",
    "    \"bool_qed\",\n",
    "    \"qed\",\n",
    "    \"bool_bb\",\n",
    "    \"bool_syba\",\n",
    "    \"syba\",\n",
    "]\n",
    "filters.retro.save_filter_results(fragment_library, columns, PATH_DATA_CUSTOM)"
   ]
  },
  {
   "cell_type": "markdown",
   "id": "a971c87a-b3a9-46dd-90b8-d1bf0cb161ea",
   "metadata": {},
   "source": [
    "### 2.6. Remove fragments not passing the previous filtering steps"
   ]
  },
  {
   "cell_type": "markdown",
   "id": "54a63bbf-652a-4237-bb9a-8620d61058f2",
   "metadata": {},
   "source": [
    "We are removing the fragments not passing the previours filtering steps, namely\n",
    "* PAINS filter\n",
    "* Brenk filter\n",
    "* Rule of Three filter\n",
    "* QED filter\n",
    "* Building Block filter\n",
    "* SYBA filter\n",
    "\n",
    "to reduce the number of fragments used in building fragment pairs to avoid the combinatorial explosion and enable the use of the pairwise retrosynthesizability."
   ]
  },
  {
   "cell_type": "code",
   "execution_count": 18,
   "id": "bfc64f6d-282f-44b7-80e4-22a219405081",
   "metadata": {},
   "outputs": [
    {
     "data": {
      "text/plain": [
       "(699, 27)"
      ]
     },
     "execution_count": 18,
     "metadata": {},
     "output_type": "execute_result"
    }
   ],
   "source": [
    "for subpocket in fragment_library.keys():\n",
    "    fragment_library[subpocket].drop(\n",
    "        fragment_library[subpocket].loc[fragment_library[subpocket]['bool'] == 0].index,\n",
    "        inplace=True,\n",
    "    )\n",
    "    fragment_library[subpocket] = fragment_library[subpocket].reset_index(drop=True)\n",
    "pd.concat(fragment_library).reset_index(drop=True).shape"
   ]
  },
  {
   "cell_type": "code",
   "execution_count": 19,
   "id": "e50df849-7063-40a8-8345-95b40531c7c6",
   "metadata": {},
   "outputs": [
    {
     "data": {
      "text/html": [
       "<div>\n",
       "<style scoped>\n",
       "    .dataframe tbody tr th:only-of-type {\n",
       "        vertical-align: middle;\n",
       "    }\n",
       "\n",
       "    .dataframe tbody tr th {\n",
       "        vertical-align: top;\n",
       "    }\n",
       "\n",
       "    .dataframe thead th {\n",
       "        text-align: right;\n",
       "    }\n",
       "</style>\n",
       "<table border=\"1\" class=\"dataframe\">\n",
       "  <thead>\n",
       "    <tr style=\"text-align: right;\">\n",
       "      <th></th>\n",
       "      <th>subpocket</th>\n",
       "      <th>smiles</th>\n",
       "      <th>ROMol</th>\n",
       "      <th>ROMol_dummy</th>\n",
       "      <th>ROMol_original</th>\n",
       "      <th>kinase</th>\n",
       "      <th>family</th>\n",
       "      <th>group</th>\n",
       "      <th>complex_pdb</th>\n",
       "      <th>ligand_pdb</th>\n",
       "      <th>alt</th>\n",
       "      <th>chain</th>\n",
       "      <th>atom_subpockets</th>\n",
       "      <th>atom_environments</th>\n",
       "      <th>smiles_dummy</th>\n",
       "      <th>fragment_count</th>\n",
       "      <th>connections</th>\n",
       "      <th>connections_name</th>\n",
       "      <th>bool_pains</th>\n",
       "      <th>bool_brenk</th>\n",
       "      <th>bool_ro3</th>\n",
       "      <th>bool_qed</th>\n",
       "      <th>qed</th>\n",
       "      <th>bool_bb</th>\n",
       "      <th>bool_syba</th>\n",
       "      <th>syba</th>\n",
       "      <th>bool</th>\n",
       "    </tr>\n",
       "  </thead>\n",
       "  <tbody>\n",
       "    <tr>\n",
       "      <th>0</th>\n",
       "      <td>AP</td>\n",
       "      <td>Nc1c[nH]c2ncccc12</td>\n",
       "      <td><img data-content=\"rdkit/molecule\" src=\"data:image/png;base64,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\" alt=\"Mol\"/></td>\n",
       "      <td><img data-content=\"rdkit/molecule\" src=\"data:image/png;base64,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\" alt=\"Mol\"/></td>\n",
       "      <td><img data-content=\"rdkit/molecule\" src=\"data:image/png;base64,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\" alt=\"Mol\"/></td>\n",
       "      <td>AAK1</td>\n",
       "      <td>NAK</td>\n",
       "      <td>Other</td>\n",
       "      <td>5l4q</td>\n",
       "      <td>LKB</td>\n",
       "      <td>B</td>\n",
       "      <td>A</td>\n",
       "      <td>AP AP AP AP AP AP AP AP AP AP AP AP AP AP AP F...</td>\n",
       "      <td>16 16 16 16 16 16 16 16 16 16 16 16 16 5 5 na na</td>\n",
       "      <td>[11*]c1cnc2[nH]cc(N[27*])c2c1</td>\n",
       "      <td>3</td>\n",
       "      <td>[FP, SE]</td>\n",
       "      <td>[AP=FP, AP=SE]</td>\n",
       "      <td>1</td>\n",
       "      <td>1</td>\n",
       "      <td>1</td>\n",
       "      <td>1</td>\n",
       "      <td>0.565900</td>\n",
       "      <td>1</td>\n",
       "      <td>1</td>\n",
       "      <td>30.950959</td>\n",
       "      <td>1</td>\n",
       "    </tr>\n",
       "    <tr>\n",
       "      <th>1</th>\n",
       "      <td>AP</td>\n",
       "      <td>CNc1ncnc2[nH]ccc12</td>\n",
       "      <td><img data-content=\"rdkit/molecule\" src=\"data:image/png;base64,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\" alt=\"Mol\"/></td>\n",
       "      <td><img data-content=\"rdkit/molecule\" src=\"data:image/png;base64,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\" alt=\"Mol\"/></td>\n",
       "      <td><img data-content=\"rdkit/molecule\" src=\"data:image/png;base64,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\" alt=\"Mol\"/></td>\n",
       "      <td>ACK</td>\n",
       "      <td>Ack</td>\n",
       "      <td>TK</td>\n",
       "      <td>4ewh</td>\n",
       "      <td>T77</td>\n",
       "      <td></td>\n",
       "      <td>B</td>\n",
       "      <td>AP AP AP AP AP AP AP AP AP AP AP AP AP AP AP A...</td>\n",
       "      <td>16 16 16 16 16 16 16 16 16 16 16 5 5 8 8 8 na ...</td>\n",
       "      <td>[26*]c1[nH]c2ncnc(NC[54*])c2c1[37*]</td>\n",
       "      <td>8</td>\n",
       "      <td>[FP, SE, FP]</td>\n",
       "      <td>[AP=FP, AP=SE, AP=FP]</td>\n",
       "      <td>1</td>\n",
       "      <td>1</td>\n",
       "      <td>1</td>\n",
       "      <td>1</td>\n",
       "      <td>0.633912</td>\n",
       "      <td>1</td>\n",
       "      <td>1</td>\n",
       "      <td>38.386371</td>\n",
       "      <td>1</td>\n",
       "    </tr>\n",
       "    <tr>\n",
       "      <th>2</th>\n",
       "      <td>AP</td>\n",
       "      <td>c1cnc2ccnn2c1</td>\n",
       "      <td><img data-content=\"rdkit/molecule\" src=\"data:image/png;base64,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\" alt=\"Mol\"/></td>\n",
       "      <td><img data-content=\"rdkit/molecule\" src=\"data:image/png;base64,iVBORw0KGgoAAAANSUhEUgAAAMgAAADICAIAAAAiOjnJAAAABmJLR0QA/wD/AP+gvaeTAAAYL0lEQVR4nO3de1QTVx4H8N8QXsGwgIoYsMIGBJFaseILBXxQtRbdVom1tWqVxde6qLAefFTd6tqi7lbbLtoopfjatlSx6rpFQamu4CoWRTRqeAiKAvIGBRIIv/1jqEYe4ZU7k9j7OR6Pzkzm/qJfJnMnd+4wiAgUpWtGfBdAvZxosCgiaLAoImiwKCJosCgiaLAoImiwKCJosCgiaLAoImiwKCJosCgiaLAoImiwKCJosCgiaLAoImiwKCJosCgiaLAoImiwKCJosCgiaLAoImiwKCJosCgiaLAoImiwKCJosCgiaLAoImiwKCJosCgiaLAoImiwKCJosCgiaLAoImiwKCJosCgiaLAoImiwKCJosCgiaLAoImiwKCJosCgiaLAoImiwKCJosCgiaLAoImiwKCJosCgiaLAoImiwKCJosCgiaLAoImiwOmHHDjhw4IUlZ87AoUM8VaPfGPqw8Y4zMQG1GhITYcKEpiXLlsGNG3DxIq9l6SV6xOociQSWLweViu869F53g6VSqV599VWdlGIQwsKguBi2b+e7Dr3XfrAePny4ZMmS+Ph4AEDEgwcPBgUFLV26tKCgYO3atT///POIESOOHTu2/bfxj21jA1u2wCefQHY236Xot/aD9dFHHzEMk5mZCQCRkZGpqanbt29ftWqVra1tYGBgWlra+fPnHz9+HBAQQL5avRAcDB4e8Kc/PV+iUEBYGMhkkJQEDx/yV5k+Mda++ujRo7a2tu7u7k+ePAGA/fv3JyQk1NfXu7q6AoCTk1NycrJMJvvyyy/nzp3LRb16QCCAr76CkSPh2LGmJamp8NlnzzcwMwNnZ/DwAIkEJBIYNAgGDwYrK16K5Y22YJWXl+/evTsuLi4uLg4AVCpVaWlpSEiIUCjMzs6OiYkxNjZeuHChv79/QUHBb6p3OWwYBAfD6tXg5wcA8PrrEBEBCgUoFHD3LhQXg1wOcvkLL7GzAzc3cHUFV1cYNOiqs7NIIpGYmpryUj8HtF1uWL58uaWl5dSpU+Pj4+vq6tasWePj45ORkWFiYrJ3797KysrVq1cDwM2bN8PDw6OiosRiMYeV88DEBA4ehNmzAQDKymDgQFAqYfDg5pcbKiogOxtyciAnB27dArkcFAqorn6+gZPTpNzcBAAQi8UeHh4SiUQikQwaNMjDw8PJycnI6GXoqms7Yrm4uDx9+vTChQvZ2dn19fXV1dUODg4PHjyQSCRlZWUmJibsZlu3br127VpwcPDRo0fNzMw4KZt/PXvCtm2wcGErq6ytYdgwGDbs+RJEyM9vOqRlZkJmZg+BwDkvL6+goKCgoEDztRYWFgMGDHD9lZubm6urq42NDeF3QwB2QHR09BdffIGI58+f9/Pz++CDDyZPnlxcXMyuLSsrGz16tFgsXr58eUf2ZrgmT8akpOd/bWzEBQtwxYou7k2lUmVnZyckJMhkspCQEH9/f4lEwjBMs/8gqVSalpami/I51aEr7yqVChHZo1FDQ0NJSYmdnZ3mP4FCoZg2bVp1dfX69ev/pNlfeink5sLChbBvHzg7E2+rqqpKoVAoFIq7d+8qFIobN25kZWX169cvKyurZeb0mq4SGh8f7+Dg4ODgcPr0aV3tUx88eYJDhiAAzpvHQ+tqtdrJyQkAEhMTeWi+GwR//etfdRJQFxcXgUBw8eLFxMREf39/W1tbneyWd/Pnw9mz4OYGcXFgbt7+9uvWwb59cOMGPHoESiWIRB16VVsYhqmurk5KSlIqlYGBgV3fEfd0GNLGxsZly5aJxeIRI0aUlJTocM982bEDAdDSEm/d6uhLPD0R4IVfffqgjw8GBeG2bXjsGN6+nadUKjteQ35+vkAgMDU1ffz4cVfeA090PLpBqVTOmDHj2rVrI0eOjI2NfdZzNETnzsHkyaBWww8/wMyZHX3VL7/A7dtw9+7zPuDTpy9s0KfP0MePr3fqQkNAQMCpU6c+++yzVatWde89cUjnUS0sLBw6dKhYLF67dq3Od86ZvDy0tUUA3Lixu7u6fx/PnsU9e3DVKpw+vWHAAFdj41au8giFwiFDhsyePbuxsbHZHn788UcAGDhwYMtVekv3wULE9PR0iUQiFotjYmJI7J+02lr08kIAnDQJGxp0v38tFxpcXFxabl9fX29vbw8AFy9e1H01ZBAJFiIeOXJELBb379//v//9L6EmyFmwAAFwwAAsL+eu0crKytTU1CTNC2Ua1q1bBwDz58/nrqDuIRUsRNyyZYtYLHZ3d7937x65VnRu1y4EQJEIMzL4LkVDTk6OkZGRUCgsKyvju5YOIRgstVo9b948sVjs6+tbWVlJriEdSk5GU1NkGPz+e75LaWHixIkAEBkZyXchHUIwWIhYVVXl5+cnFouXLVumVquJttV9jx6hWIwAqJ+9ju+++w4AXnvtNb4L6RCywULEe/fuTZs2TSwWh4eHk26rO+rq6t5+e76jYyahE/buUyqV7GXnq1ev8l1L+4gHCxEvXLjADjz6+uuvOWiua4KCggBgyJDXS0v1t0sfGhoKAIsXL+a7kPZxESxEjIyMBABzc/NLly5x02Kn7N69m72S9Msvv/BdizZ37txhGEYkElVVVfFdSzs4ChYiLl26FAD69u374MEDzhrtiJSUFHbghkFcdRs7dqyeH/tZ3AVLpVJNmDABAIYOHfr06VPO2tWuoKDAwcEBAMLCwviupUNiYmIAYPTo0XwX0g7ugoWIpaWlLi4uABAYGKgP306oVCofHx8AmDBhQn19Pd/ldEhNTQ07oPT69et816INp8FCRLlcbmVlBQBbt27luOmWlixZAgD9+/c3rIEDy5YtA4AVXR66ygmug4WIP/30k0AgYBgmNjaW+9afOXDgANufSE1N5bGMLkhPTweAnj171tbW8l1Lm3gIFiJ++umnACASidLT03kpIC0tTSgUGsRZcKu8vLwA4PDhw3wX0iZ+goWIc+bMAQBHR8eioiKOmy4sLOzXrx8AhISEcNy0rnz11VcAMH78eL4LaRNvwaqtrR05ciQAjB07tlMjKrvZaH5+Pttj9/b25qxdnauurra0tGQYRqFQ8F1L6/icH6uwsHD48OH5+fkLFiyIjo7uwh5qa2vLf1VXV6f511bV1dUBQM+ePQUCQUZGhp2dna7fE3eCgoKio6PDw8MjIiL4rqUVPE+8lpaW5uPjU1NT8+WXXy5ZsqSysrKysrK8vLyioqKysrLl78/+wG7T2eJNTU3Nzc2rqqq8vLxSU1MJvSlu/O9//xs9erSdnd2DBw/0cAg4/zP6ffvtt3PmzBGJRNWad6F3jEgksrKysra2bvm7jY2NlZVVs+UWFhZPnjyxt7evrq6Wy+Xu7u4k3hFnPD0909PTjx49OmPGDL5raY7/YAHAoEGD7t27V1dXZ25ubvMioVDYciGrd+/eXZtUIzg4OCoqavXq1YY+p9fnn3++cuXKN9988z//+Q/ftTTHf7Dq6up69uypVCqLiop69+7NQYuXL18eNWpU79698/PzDXqyiYqKCnt7e6VSmZOT4+joyHc5L+B/YpOUlJTa2tohQ4ZwkyoAGDlypKenZ0lJycmTJ7lpkRBra+t33nmnsbHxm2++4buW5vgPVlJSEgBMeDYRMScWLlwIAFFRUVw2SkJwcDAAfP3112q1mu9aXsD/R6G3t/elS5f+/e9/v/XWW13eCSJWVFS01ZcMCAgYP3685vYVFRUODg51dXXZ2dns5AgGChHd3NwyMzNPnTo1depUvst5rp2pIkmrrq6+evWqsbExO8pAU2lpaWlpKRuOZ1ped3j2Vy2t2NraNguWtbX1jBkzDh06FB0dvXnzZt2/Ma4wDBMUFLRmzZqoqCi9ChbPR6xTp04FBAR4e3snJyc3WzVmzJiUlJSO76qt6w5WVlZ+fn7Dhw9vtv2FCxf8/PwcHBzy8vIEAkF33wl/ioqKXnnlFUTMy8tj72vVBzwfsbScYDk6Oj5+/NjKysrGxkYzJa1Gpwtz3vn6+rq7u9++ffunn34yiCmfnzx5UldX17KLY2dnN23atLi4uBUrVoSGhrq6uvbq1YuXCl/A01dJTTw9PQHg7NmzvLS+Y8cOAJg+fTovrXdKY2OjVCp1cnJqdXzf4sWLNQNnY2MzbNgwqVQaHh6+f//+q1evVldX66qShoaGEydOtDtOk89glZSUGBkZmZub19TU8FJAcXGxmZmZsbHxw4cPeSmg49iBRpaWlnK5vNmqs2fPGhsbMwwzbtw4Ly+v3/3udy0PHwzDODo6BgcHr127NioqKikpKTc3t6GN29zUarXmDcYNDQ3P7t1gl48ZMwYRnzx5oqVgPs+xjhw5IpVKJ06cmJiYyFcNUqn0yJEjW7duZSdH0E+JiYlTpkxBxOPHjzf71L5//76Xl1dxcfGGDRue9ULKy8tzcnJu3boll8tzcnJycnLkcnljY2OfPn0aGhqevdbU1PT3v/89O5WSs7OzRCJxd3e/efPm5s2bbW1tHz16tG/fvqysrH/84x+2trbFxcUxMTGhoaGWlpZFRUW9evVCRG1DB7r8M9R97BDbv/3tbzzWcPr06VdfDZ4+XaG392nn5uayH3ObN29utqq2tpbtlEyaNKmtww+rvr4+KysrMTFRJpOFh4dLpdJhw4aJWzh58uSZM2fYSfMiIyO3b99+8uRJ9nD16aefymQyRPzxxx8nTJiQkJCgvWw+gzVw4EAASElJ4bGGxkZ0dkYAbO8fih81NTWvv/46AEyfPr3lHAXsZd4BAwaUd2lanKdPn968efP48eM7d+5cvnz51KlT7969yy7PyMh47733kpOTEbGqquratWtSqfT69esKhWLcuHElJSUjR44sLCzUsnPegvXw4UMAsLS0ZKdk5tGWLQiAs2bxW0Xr5s+fDwCurq7sGCFNX3zxBQCIRKIMXU+LI5fLV69e/fbbb2dmZiJiWlpaaGjozJkz2RtC8/PzEbHds1LegsXeyxAQEMBXAc88eoTGxmhqivp2q87f//539mfv5s2bzVYlJyebmpoyDPM9sWlxTpw4oTlx/8GDB9evX9/xl/P2XSF7BavZBXFeiMUwZQqoVHDwIN+laEhKSlqzZg3DMNHR0R4eHpqrCgoKpFKpSqUKDw+fNWuWbtuNiYlhO55yudza2lomk2VlZTU2Nt6+fbtzFwt1H/WOYb+hu3btGl8FaDp+HAHQzQ314C5aRMS8vDx2YpkNGzY0W6VSqcaMGQMA/v7+2k/YuyY3N3f58uUzZ8786KOPKisr79y5s2TJksDAwE8++aRTJy38BCsrKwsAevXqpSeTZtXXo4MDAqA+zGupva/3xz/+EQAcHR2fPXJGP/ETLJlMBgBSqZSX1lu1fj1vj59ohu3rOTk5tZwrf8+ePQAgFAr1f4osfoI1e/ZsANi9ezcvrbcqJweNjFAoRH7n+NTS17t06ZIBzYrDQ7AaGxv79u0LAHfu3OG+dS38/REAeZzjU0tfr7CwkJ0VJzQ0lJfaOouHYGVkZACAvb09901r9/33CIB8zfH56NEjdtBLyzk1VSqVr68vAIwfP95QZsXhIVi7du0CgLlz53LftHZKJfbpgwDI/SwhKpWKvT974sSJLU/Y2TnrDGtWHB6C9Yc//AEAvvnmG+6bbldYGALgokVct8sOXW+1r/dsVpwrV65wXVY3cB2shoYG9jpbbm4ux013xJ07yDAoEiGXc3yyM3yYm5u37OsZ7qw4XAfrypUr0MYTY/REWBjGxiJnX2A+6+u1PISzY44B4M9//jNH1egO11/pnDt3Dji/2avj7t6F+/ehrAw0J0MIC4NvvyXSXFFRUWBgoFKpDA0N/fDDDzVXNTQ0vPvuuw8ePPD29ma/NDQwHAd50qRJAPDdd99x3G4HJScjAJqZ4e3bzxd6eOC6dUSa27lzJ7TR1wsJCQEAsVis/6NbW8VpsJRKZY8ePRiG0T6Uh0dssEaNwokTny8kFyxEPHDgQMu+3qFDhwDAxMTEEJ+dxuI0WOfPnweAwYMHc9lop7DBSkpCU1M8dKhpIdFgtXT9+nULCwsA2Lt3L3et6hqn51htnWBduXKlC3MYkePqCitWQFgYlJdz3XRZWdmMGTNqamoWL17MXoMwUPwHq7S0dNq0aW5ubnFxcVwWo93GjWBiApo3WOzdCwEBEBYGMhmcOwf5+bpvVK1Wz5kzJycnZ9SoUZ9//rnuG+ASZ8fGp0+fmpmZCQSCZgO0s7KyRowYwRYza9asgoICzkpqif0oZE+XY2PRyAhTU5s+CufPb/54ejMzHDQIpVIMD0eZDBMSsJunjn/5y18AwM7Ojh3+a9C4C1Z8fDwAjBgxouUqtVotk8ksLS0BwNraeteuXXyN09IMFiJOnozjxjUFKzsb4+IwIgKDgnDs2KZHkbf81acP+vpicHDjtm3bjx07JpfLOziF7tGjRxmGMTExOX/+PMF3yBXughUZGSkQCPz8/NoaiPjw4cN33nmHPXT5+Pjc1uzxk1dXh1lZzYOlUKCZGZqYtH7yXl6OV69ibCxGRODcuThsGFpaNsWrX796zY8FsVjs7++/aNGiiIiIEydOZGdnN/vJuXHjRo8ePcBwHqDaLu6CVVtby357/9prr12+fLmtzU6cOMFuZm5uvmnTJm5mzC4uRj8/tLdvGqOseeVowwYE6ESv8P59TEzE6OjiVatWvfnmmy4uLsbGrUyQYWFh4enpKZVK169fv2fPHnagth5+Md9lXF9ucHNzAwAjI6NFixa19dC90tLSDz/8kGEYAHjvvai2Q6gbaWnYvz8C4Cuv4OnTGB6Omg+wrqnBdeswPr7r+1epVNnZ2QkJCTKZLCQkxN/fXyKRsO9O85Dm5eWlz48w6Syur7zX1NRs2rSJnZTW3t4+Li6urS0TExPfeGOWQNAgEOCKFai7WS1e8MMP2KMHAuDo0chlt6GioiI1NfXw4cMbN26cPXt2SkqKgV5hbws/Q5PT09Of9QQDAgLa6gTV1OCmTWhqigBob49th7ArGhsxIgKNjBAA338feZqX5KXF2+1fbE9QJBKxPUGZTNbWzDjp6ThiRNNJcUAA6qQnXluLc+YgAAoEGBGhgx1SzfA8P9a9e/emTJnCHrp8fX3b6gmq1SiToUiEAGhtjTJZt24AzM9HLy8EQEtLPHGi6/uhtOA5WKzY2Ng+ffoAgFAo1NITzMnByZObDl0TJ2JWVlfaSknBvn0RAF1c8NatbpVNaaEXwULE4uLiefPmsYeud9/doGUUbmws2toiw2BiYqdbOXwYzc0RAN94g+fbvF56+hIs1pkzZ7y8RvXqVWpkhIsWtTk+uLgYo6M7t+eGBgwPbzraLVrE3QDR3yz9Chb+2hM0MUEAdHDAY8d0sM+qKpw2DQHQ2Bj/+U8d7JBql94Fi3X9Og4f3nSAkUqxOw9hzcxEd3cEwF69MClJZxVS2ulpsBCxvh537WrqCdrYdLEnePo02tggAA4ejDk5BKqk2qC/wWJp9gR9fbFTN+XLZE0fqW+99cK3NBQH9D1YLLYnCIBCIW7ahO1+Ma1UYlAQAiDDYHg46sdcSb8thhEsRCwrw0WLkGGaple4fBmrqtDfH1eufGGzjz/Gdetw7FgEQAsLJDaRItUO/p/+1SmnT8PSpXDvHggEsH8/fPABAMDx4zB9etMGgYGACDY2EB8Px45BiyfoUBwxsGABQG0tfPwx/PAD/Pwz9O8Pfn6Qmwu3bkGPHgC/Butf/4KKCjDkZ9QbPP4fhNlZQiFERMDNm01JCguDhgb4+OMXtjEzo6nimeEFiyUUNv2hRw/Ytg127YIbN3gtiHqRoQZL0/vvg7c3LF0Khvap/jLj+XmFOsEwsHs3eHrC4cN8l0L96mU4YgHAoEGwciWsXQs1NXyXQgHASxMsANi4ERgGzpzhuw4KAF6mYIlEsHMnqNV810EBgEGfY1lYQEQEODs/XzJzJuzeDX378lcT9SvDu0BKGYSX56OQ0is0WBQRNFgUETRYFBE0WBQRNFgUETRYFBE0WBQRNFgUETRYFBE0WBQRNFgUETRYFBE0WBQRNFgUETRYFBE0WBQRNFgUETRYFBE0WBQRNFgUETRYFBE0WBQRNFgUETRYFBE0WBQRNFgUETRYFBE0WBQRNFgUETRYFBE0WBQRNFgUETRYFBE0WBQRNFgUETRYFBE0WBQRNFgUETRYFBE0WBQRNFgUETRYFBE0WBQRNFgUETRYFBE0WBQRNFgUETRYFBE0WBQRNFgUEf8HVKq4Ia6oYzYAAAEXelRYdHJka2l0UEtMIHJka2l0IDIwMjEuMDkuNQAAeJx7v2/tPQYg4GVAAG4g5gHiBkY2Bw0gzczC5pABopkZ4Qx2iAwzTAWMjxCH64AoYDDQYAQyGBWBhCQHkHAsyc/1K83J0ZBh0IZJ6mGT5GZgzGBiYEpgZE1gYs5gYmZJYGFNYOHIYGJlS2Bjz2Bi50hg4GTg4GIQYWJjAEqzMrKysbJwsIv3gYyEe4p5rqgDG3+ANYijtHGzvc+NqftB7OT7T+wjeDfbg9i572fbhRadB7OFpRT3M594YgdiJ6gt3jv/WRFY/bHoefsvTvgMZrOrKBzQTekBs89IcBz49mUrWP3xvhKHlc/j94HYvequB+YuOwg2UwwAWIZBi7gRJaAAAAF1elRYdE1PTCByZGtpdCAyMDIxLjA5LjUAAHicfZJNa8MwDIbv+RU6D2r04Q/5sEPSlDFGU1i7XUvZZYUxGPT/MzkldcrC7AQk5ZEt6Y38+Mvx9HVpjx+fp/N310BZr/3L+QK3xX1jcfznyTnDuyBis4ViQLd5eh5gfWi7KbLevQ2HPRABseXYvmfbw247RQjWwE4kJVRAhyiUwmiUVTPZOHIeRb3AihwljFEWQBnBpIoxmSFZ1S8d6GGwqKAP0ep0kY1PC1yw81Zo37Ox9t37qKILYLQDDcSUS2FmZa8qvECmQpJjSZRisTKyhqXLtVzOLiCTjd1IzFFxicxXkjgGKmVKCKJLfRPCA4hTJjbQymTSeHc5bNv9/lHklkGWsRKHikGyzSoQa/6b4eOUsRn6O5Gvsne7oa+ye3u5qltcqRp6C8UqlS+hqkgJhDp3cyqcRjfXCXojUh2TN0Jnw/CG5Fmr467TYnOtZ5q3Nm+k+NO/b3bzC4y6piia5gXGAAABMHpUWHRTTUlMRVMgcmRraXQgMjAyMS4wOS41AAB4nGWQPW8CMQyG/0pHQCHyR+I43MRQdUVq1QUx0NMNVSGH6LUTP74+JpJu8fs8dpzsmVeHHvtCpe8X+yCrw7K3Mz7dFuyVkNCtwROqxOQ68swpoQMPwJhCItehD8Aa3Bo9JhBxnTVAyiI8t+agyqYZJk6os5eBdPbIRyCaE8iieE+QJM4XcIys0SL2oBCDQx+R8n26UGYIJoUgyuo60yFEQZOEQHTeKqlCsoCz2nZLd5zG8+46Xjbgz+PpbZzej6eh9INHS75/Pi5j/zVM/vXZyqH8fl7Hch7K5Mtxgw98u7PykaNsqObUcq45tzzUPLQ81jy2XGouLU//XpweOl62VjYv1nqithNzzXPLEZovg8a4/QGS9rvWU8ZOGgAAAABJRU5ErkJggg==\" alt=\"Mol\"/></td>\n",
       "      <td><img data-content=\"rdkit/molecule\" src=\"data:image/png;base64,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\" alt=\"Mol\"/></td>\n",
       "      <td>ACTR2</td>\n",
       "      <td>STKR</td>\n",
       "      <td>TKL</td>\n",
       "      <td>3q4t</td>\n",
       "      <td>TAK</td>\n",
       "      <td>A</td>\n",
       "      <td>B</td>\n",
       "      <td>AP AP AP AP AP AP AP AP AP AP AP AP SE GA</td>\n",
       "      <td>16 16 16 16 16 16 16 16 16 16 16 16 na na</td>\n",
       "      <td>[33*]c1cnc2c([46*])cnn2c1</td>\n",
       "      <td>10</td>\n",
       "      <td>[SE, GA]</td>\n",
       "      <td>[AP=SE, AP=GA]</td>\n",
       "      <td>1</td>\n",
       "      <td>1</td>\n",
       "      <td>1</td>\n",
       "      <td>1</td>\n",
       "      <td>0.511376</td>\n",
       "      <td>1</td>\n",
       "      <td>1</td>\n",
       "      <td>39.622898</td>\n",
       "      <td>1</td>\n",
       "    </tr>\n",
       "    <tr>\n",
       "      <th>3</th>\n",
       "      <td>AP</td>\n",
       "      <td>Nc1cc(C2CC2)[nH]n1</td>\n",
       "      <td><img data-content=\"rdkit/molecule\" src=\"data:image/png;base64,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\" alt=\"Mol\"/></td>\n",
       "      <td><img data-content=\"rdkit/molecule\" src=\"data:image/png;base64,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\" alt=\"Mol\"/></td>\n",
       "      <td><img data-content=\"rdkit/molecule\" src=\"data:image/png;base64,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\" alt=\"Mol\"/></td>\n",
       "      <td>ACTR2</td>\n",
       "      <td>STKR</td>\n",
       "      <td>TKL</td>\n",
       "      <td>3soc</td>\n",
       "      <td>GVD</td>\n",
       "      <td>A</td>\n",
       "      <td>A</td>\n",
       "      <td>AP AP AP AP AP AP AP AP AP AP AP AP AP AP AP A...</td>\n",
       "      <td>15 15 15 15 15 15 15 15 14 14 14 14 14 14 14 5...</td>\n",
       "      <td>[17*]Nc1cc(C2CC2)[nH]n1</td>\n",
       "      <td>5</td>\n",
       "      <td>[SE]</td>\n",
       "      <td>[AP=SE]</td>\n",
       "      <td>1</td>\n",
       "      <td>1</td>\n",
       "      <td>1</td>\n",
       "      <td>1</td>\n",
       "      <td>0.581756</td>\n",
       "      <td>1</td>\n",
       "      <td>1</td>\n",
       "      <td>18.524861</td>\n",
       "      <td>1</td>\n",
       "    </tr>\n",
       "    <tr>\n",
       "      <th>4</th>\n",
       "      <td>AP</td>\n",
       "      <td>Clc1c[nH]c2ncncc12</td>\n",
       "      <td><img data-content=\"rdkit/molecule\" src=\"data:image/png;base64,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\" alt=\"Mol\"/></td>\n",
       "      <td><img data-content=\"rdkit/molecule\" src=\"data:image/png;base64,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\" alt=\"Mol\"/></td>\n",
       "      <td><img data-content=\"rdkit/molecule\" src=\"data:image/png;base64,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\" alt=\"Mol\"/></td>\n",
       "      <td>AKT1</td>\n",
       "      <td>Akt</td>\n",
       "      <td>AGC</td>\n",
       "      <td>3cqw</td>\n",
       "      <td>CQW</td>\n",
       "      <td>A</td>\n",
       "      <td>A</td>\n",
       "      <td>AP AP AP AP AP AP AP AP AP AP AP AP AP FP</td>\n",
       "      <td>14 14 14 14 14 14 14 14 14 14 14 14 14 na</td>\n",
       "      <td>[17*]c1ncnc2[nH]cc(Cl)c12</td>\n",
       "      <td>1</td>\n",
       "      <td>[FP]</td>\n",
       "      <td>[AP=FP]</td>\n",
       "      <td>1</td>\n",
       "      <td>1</td>\n",
       "      <td>1</td>\n",
       "      <td>1</td>\n",
       "      <td>0.624952</td>\n",
       "      <td>1</td>\n",
       "      <td>1</td>\n",
       "      <td>18.136369</td>\n",
       "      <td>1</td>\n",
       "    </tr>\n",
       "  </tbody>\n",
       "</table>\n",
       "</div>"
      ],
      "text/plain": [
       "<IPython.core.display.HTML object>"
      ]
     },
     "execution_count": 19,
     "metadata": {},
     "output_type": "execute_result"
    }
   ],
   "source": [
    "HTML(fragment_library[\"AP\"].head().to_html(notebook=True))\n",
    "# NBVAL_CHECK_OUTPUT"
   ]
  },
  {
   "cell_type": "markdown",
   "id": "14689485-43a9-4238-9842-e0cc0e69bc24",
   "metadata": {
    "tags": []
   },
   "source": [
    "## 3. Apply pairwise retrosynthesizability\n",
    "\n",
    "    3.1. Get valid fragment pairs\n",
    "    \n",
    "    3.2. Calculate pairwise retrosynthesizability"
   ]
  },
  {
   "cell_type": "markdown",
   "id": "42a78877-0e1a-4285-a452-a757be2cdc8a",
   "metadata": {
    "tags": []
   },
   "source": [
    "### 3.1. Get valid fragment pairs\n",
    "First we need to get all valid fragment pairs, meaning fragments which have adjacent subpockets, the same bond type and matching BRICS [(J. Chem. Inf. Model. 2017, 57, 4, 627–631)](https://doi.org/10.1021/acs.jcim.6b00596) environment types."
   ]
  },
  {
   "cell_type": "code",
   "execution_count": 20,
   "id": "03aa03a9-791b-4eb9-93a0-dac1edb2809e",
   "metadata": {},
   "outputs": [
    {
     "name": "stdout",
     "output_type": "stream",
     "text": [
      "\u001b[0;31mSignature:\u001b[0m \u001b[0mfilters\u001b[0m\u001b[0;34m.\u001b[0m\u001b[0mretro\u001b[0m\u001b[0;34m.\u001b[0m\u001b[0mget_valid_fragment_pairs\u001b[0m\u001b[0;34m(\u001b[0m\u001b[0mfragment_library\u001b[0m\u001b[0;34m)\u001b[0m\u001b[0;34m\u001b[0m\u001b[0;34m\u001b[0m\u001b[0m\n",
      "\u001b[0;31mDocstring:\u001b[0m\n",
      "Gets all possible fragment pairs and validates if their bond type, BRICS environment type\n",
      "and adjacent subpockets are matching. Then it creates the SMILES string from the combined\n",
      "pairs.\n",
      "\n",
      "Parameters\n",
      "----------\n",
      "fragment_libray : dict\n",
      "    fragments organized in subpockets including all information\n",
      "\n",
      "Returns\n",
      "-------\n",
      "DataFrame\n",
      "    SMILES from valid paired fragments.\n",
      "\u001b[0;31mFile:\u001b[0m      ~/KinFragLib/kinfraglib/filters/retro.py\n",
      "\u001b[0;31mType:\u001b[0m      function"
     ]
    }
   ],
   "source": [
    "?filters.retro.get_valid_fragment_pairs"
   ]
  },
  {
   "cell_type": "markdown",
   "id": "db9b43d7-dded-4935-9fbe-cdf0cb747f42",
   "metadata": {},
   "source": [
    "Note: this function might take a few minutes"
   ]
  },
  {
   "cell_type": "code",
   "execution_count": 21,
   "id": "1117a8b8-b194-4c0f-b351-759de62cb7d5",
   "metadata": {},
   "outputs": [
    {
     "name": "stdout",
     "output_type": "stream",
     "text": [
      "Number of fragments:  699\n",
      "Number of unique pairs: 39976\n"
     ]
    }
   ],
   "source": [
    "valid_fragment_pairs, unique_pairs = filters.retro.get_valid_fragment_pairs(fragment_library)"
   ]
  },
  {
   "cell_type": "markdown",
   "id": "3b41ee6c-81e6-43a0-9a02-ed93b2da1b7b",
   "metadata": {},
   "source": [
    "Note: valid_fragment_pairs contains also the duplicated pairs like [AP_0, SE_0] and [SE_0, AP_0]"
   ]
  },
  {
   "cell_type": "markdown",
   "id": "7047f58c-4888-4afd-ad13-3f7c21e1abab",
   "metadata": {},
   "source": [
    "### 3.2. Calculate pairwise retrosynthesizability\n",
    "ASKCOS is used to check if for the fragment pairs a retrosynthetic route can be found. We will exclude all fragments without at least one retrosynthetic route found.\n",
    "\n",
    "For each fragment pair, we will start an ASKCOS query, requesting if ASKCOS can find a one step retrosynthetic route building this fragment pair. For all routes found, we will retrieve the children building the requested fragment pair and also the plausibility of this reaction.\n",
    "Afterwards, we will compare the children retrieved from ASKCOS with the fragments building the pair. If the fragments are substructures of the children their `retro_count` is increased by one and the fragments, pair, children and plausibility are stored in the `mol_df` dataframe. If they are no substructures, we will store the information in the `diff_df` dataframe.\n",
    "\n",
    "[ASKCOS webpage for One-step Retrosynthesis](https://askcos.mit.edu/retro/)"
   ]
  },
  {
   "cell_type": "markdown",
   "id": "fea233ff-ad56-4bcd-97c5-be9e8ae06acf",
   "metadata": {},
   "source": [
    "ASKCOS query is started for fragment pairs which were not already requested (already requested fragment pairs can be found in [/data/filters/retrosynthesizability/retro.txt](https://github.com/sonjaleo/KinFragLib/blob/fragment_pairs/data/filters/retrosynthesizability/retro.txt)) and children retrieved from ASKCOS get compared with the fragments building the pairs.\n",
    "Depending on the number of new queries and molecule comparisons this could run a long time (a query of 1000 fragment pairs takes about 1h 30min on an 8 core machine).\n",
    "\n",
    "Note: If your internet connection is instable, you might need to run this several times. When starting it again it will only compute the pairs which were not yet computed."
   ]
  },
  {
   "cell_type": "code",
   "execution_count": 22,
   "id": "b95e14ee-d016-44ed-b2ed-63a0cb01bab7",
   "metadata": {},
   "outputs": [
    {
     "name": "stdout",
     "output_type": "stream",
     "text": [
      "ASKCOS query started for 0 fragments.\n",
      "ASKCOS query finished.\n",
      "Comparing ASKCOS children with fragments..\n",
      "Checking if all fragment pairs were requested..\n",
      "All fragment pairs were requested.\n",
      "Done.\n",
      "CPU times: user 8min 5s, sys: 2.08 s, total: 8min 7s\n",
      "Wall time: 9min\n"
     ]
    }
   ],
   "source": [
    "%%time\n",
    "warnings.filterwarnings(\"ignore\")\n",
    "fragment_library, mol_df, diff_df = filters.retro.get_pairwise_retrosynthesizability(\n",
    "    unique_pairs,\n",
    "    PATH_DATA_RETRO,\n",
    "    valid_fragment_pairs,\n",
    "    fragment_library,\n",
    ")"
   ]
  },
  {
   "cell_type": "markdown",
   "id": "d571d72e-5a14-4e0b-91eb-c22ebbaeaa8b",
   "metadata": {},
   "source": [
    "Note: if not all fragment pairs were requested, please run this function again."
   ]
  },
  {
   "cell_type": "markdown",
   "id": "23ffbc33-356a-4d1c-860a-bc372b5454f3",
   "metadata": {},
   "source": [
    "Inspect individual subpockets, including the new column if at least one retrosynthetic route was found or not per fragment (`bool_retro`) and number of retrosynthetic routes found (`retro_count`). "
   ]
  },
  {
   "cell_type": "code",
   "execution_count": 23,
   "id": "27ec3820-7d31-491c-953a-a8680a3b5d17",
   "metadata": {},
   "outputs": [
    {
     "data": {
      "text/html": [
       "<div>\n",
       "<style scoped>\n",
       "    .dataframe tbody tr th:only-of-type {\n",
       "        vertical-align: middle;\n",
       "    }\n",
       "\n",
       "    .dataframe tbody tr th {\n",
       "        vertical-align: top;\n",
       "    }\n",
       "\n",
       "    .dataframe thead th {\n",
       "        text-align: right;\n",
       "    }\n",
       "</style>\n",
       "<table border=\"1\" class=\"dataframe\">\n",
       "  <thead>\n",
       "    <tr style=\"text-align: right;\">\n",
       "      <th></th>\n",
       "      <th>subpocket</th>\n",
       "      <th>smiles</th>\n",
       "      <th>ROMol</th>\n",
       "      <th>ROMol_dummy</th>\n",
       "      <th>ROMol_original</th>\n",
       "      <th>kinase</th>\n",
       "      <th>family</th>\n",
       "      <th>group</th>\n",
       "      <th>complex_pdb</th>\n",
       "      <th>ligand_pdb</th>\n",
       "      <th>alt</th>\n",
       "      <th>chain</th>\n",
       "      <th>atom_subpockets</th>\n",
       "      <th>atom_environments</th>\n",
       "      <th>smiles_dummy</th>\n",
       "      <th>fragment_count</th>\n",
       "      <th>connections</th>\n",
       "      <th>connections_name</th>\n",
       "      <th>bool_pains</th>\n",
       "      <th>bool_brenk</th>\n",
       "      <th>bool_ro3</th>\n",
       "      <th>bool_qed</th>\n",
       "      <th>qed</th>\n",
       "      <th>bool_bb</th>\n",
       "      <th>bool_syba</th>\n",
       "      <th>syba</th>\n",
       "      <th>bool</th>\n",
       "      <th>retro_count</th>\n",
       "      <th>bool_retro</th>\n",
       "    </tr>\n",
       "  </thead>\n",
       "  <tbody>\n",
       "    <tr>\n",
       "      <th>0</th>\n",
       "      <td>AP</td>\n",
       "      <td>Nc1c[nH]c2ncccc12</td>\n",
       "      <td><img data-content=\"rdkit/molecule\" src=\"data:image/png;base64,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\" alt=\"Mol\"/></td>\n",
       "      <td><img data-content=\"rdkit/molecule\" src=\"data:image/png;base64,iVBORw0KGgoAAAANSUhEUgAAAMgAAADICAIAAAAiOjnJAAAABmJLR0QA/wD/AP+gvaeTAAAZDElEQVR4nO2deVRUR9qHf9000s0qKiqCe6KOSxQxg4CKKIIaFzJxSURFGcWM+nmMGSFqYibGBbOYmKgjHqM4IY4x4kTOKLKIyqIom9sYN8QBFYMoDb3R0N31/XGZtgE1gF33dpt6DsfTVMOtF3moW/VW3SoRIQQMhrkRCx0A4+WEicWgAhOLQQUmFoMKTCwGFZhYDCowsRhUYGIxqMDEYlCBicWgAhOLQQUmFoMKTCwGFZhYDCowsRhUYGIxqMDEYlCBicWgAhOLQQUmFoMKTCwGFZhYDCowsRhUYGIxqMDEYlCBicWgAhOLQQUmFoMKTCwGFZhYDCowsRhUYGIxqMDEYlCBicWgAhOLQQUmFoMKTCwGFZhYDCowsRhUYGIxqMDEYlCBicWgAhOLQQUmFkXq6nDmDJTKBoUXL6K0VKCAeISJRZFHj+Dvj8uXGxTOnYvvvhMoIB5hYjGowMRiUEEidAAvPxUVuH//yac6nXCh8AgTizpTpggdgRCwWyF1zpwBIU8+XntN6IB4gYnFoAITi0EFJhaDCqzzThEnJ6xfj27dGhT+3/+hb1+BAuIR1mJRxMEBajWSkhoU/vorZDKBAuIRESFE6BheZuzsoNMhKwu+vvUl7u7YsAEREYKGRR/WYlHHywuLF/9e8qJGmFjUiYpCWRm++UboOPiFiUUdZ2fExODjj38Xq2WMMLH4IDwcgwdj+XKh4+ARlm7gA5EIO3di6FCkpAgdCl+wFosKej2OHm1QMnAgli5FVBQMBoFi4hcmlvm5dQtjxmDSJBw50qD8k09QUYHycgDYuRM//CBIdDzBxDInOh1iYjBoEDIy0LUrHB0bvOvkhC++AIBff8WyZZg9G++99/KmIYg1kJdHsrIalFy8SP7zH4GieQZXrpDXXycAAcj06eTxY0IIuX2bqFQNvqyoiFRXk337iExGADJyJCkrEyReuliHWIGBBCAnTjwpmTaNREQIF1BD6upITAyxsyMA6d6dpKQ067vy8ki3bgQgHh4kJ4dyiLxjNbdCNzcsWQKtVug4mnD5Mnx98cEHqK1FZCQuX8a4cc36Rm9v5OUhMBD37iEg4GV7dMdqxAoPR00NPvtM6DhMqKvD5s0YNgx5eejRA6mpiI2Fk1MLruDmhpQUREdDq8WCBVi0CLW11MLlF6sRSyrFF19g40bcuiV0KACAS5cwfDg++AB1dfUN1dixrbmORIKYGMTHQybDrl0YMwZlZeaOVQisRiwAb72FUaOwZMmTEpUKdXV8h6HVaj//PMXbGwUFeOUVnDqF2NjGA8CWEhaG7Gz06IHsbAwbhpwcM8UqHNYkFoDt25GRgX/9q/7Tv/8dbdti3Dhs3oysLD4ku3DhwvDhw6OiQoYNux8ZicJCjBplnit7eSE3F2PH4v59jB6NXbvMc1nBEHr00CwCA8mHH9a//ugj0rs3mTyZRESQd98lIlH9CB8grq4kNJR88w25csX8MWg0mqioKBsbGwB9+/bNzj5r/joIqasj0dEEICNGxM2ZM0etVtOohQesTyy1mvTsSdq0qU83lJeTgwdJZCTp3/+JYQDp2JFMn05iY80j2dmzZ//whz8AEIvFkZGRSqXSDBd9NgcOyNu2bQvA19f33r17VOuihKWLlZNDdLoGYhFCkpII8JQ8VnEx2bOHzJ5N3N0bSNazJ1m4UBcf/8P9+/dbGoBarY6OjuYaqv79++fwlXEqLCzs2bMnADc3t/T0dH4qNSMWLVZiImnThsycSeLjSUZGg7d27SLHjj3ve4uKSGwsmT6dtG9PADJgwDnu1t+rV6/IyMiDBw9WVFT8ZgDZ2dl9+/YFIJFIoqOja2pqXuwHahkVFRXjxo3jao+JieGz6hfHcsVKTiZSKQHI8uUvdB29nuTnk507z02YMMHRZPAmFou9vb1XrlyZlJTU9NbGNVRisRjAwIEDz58//0JBtBadThcdHS0SiQDMnj3birpcFipWSkq9VcuWmfOyOp0uLy8vJiYmKChIKpUaJZNIJN7e3tHR0ampqRqNJjMzs0+fPkI1VE05cOCAg4MDAC8vr+LiYmGDaSaWKFZGBnFwIABZsIAYDM36lrQ0cudOy2pRq9WpqamrVq3y8fHhulAcUqmUayGGDBlSWFjYivhpcPHixd69ewPo0KFDWlqa0OH8NhYnVmYmcXSs75vr9c36Fr2etGtHAOLuXj8SLC1tWaVKpTI1NTU6Otrb29vGxkYqlYaFhWm12lbET4+qqqqpU6daS5fLssTKziZOTgQg8+c31ypCSEUFCQ0lrq5PhoEiERk4kCxbRn7+mVRWtiyGRYsWAVi7dm1Lg+cBnU63atUqrkGdM2dObW2t0BE9EwsS68yZeqvCw1tglRGdjuTmks2bSUhI/Z2U+7CxIdOmvfvBBx+kpKSoGq2NehpHjx4F4OPj05qfgRcSExPt7e39/f0tuS9vKWLl59c3OTNmkLq6F71aXR3JyyMxMSQoiLi6qtq0adO0k/6sLrlKpbKzs7OxsWlOPkIQDAZDt27dAKSmpgodyzOxCLEKCuo7SdOmmcGqRiiV2uPHj0dFRQ0bNsy0k+7g4DB+/PjPPvusrMkKzjFjxgD48ccfzRxKyykuLjY0Gb+cOnUKgKenp06nEySq5iC8WAUFhQMHailZ1QiFQmHspHM9FQC//PJLoy/bvHkzgAihl6hqtVo3N7dXXnmlvLzctHz+/PkAPjSdi7A8BBbrwoUL7du379JleESEgueeaFlZ2f79+5c/Lf164cIFAB4eHk1bCz45fPgwgAEDBpgWKpVKJycnANeuXRMqsOYgpFi//PJL586dAUyYMEHwJKQpBoPB3d0dwBUayySaDZdc+OKLL0wL4+LiAPj7+wsVVTMRTKxr165xv7zx48dblFUcc+fOBfDll18KFUB5ebmtra1EImnUBQwMDASwa9cuoQJrJsKIdf369S5dugAIDg7WaDSCxPB8fvjhBwAhISFCBfDVV18BmDx5smnhnTt3xGKxTCarbGl2jncEEOvmzZucVUFBQRabiXn48KFYLJZKpUJFOGTIEACHDh0yLfzkk08AhIWFCRJSi+BbrDt37vTo0QPAyJEjaS+Xe0G8vb0BJCcn81/1pUuXALRr1860k2AwGLjpwpRmPrgoKLyueS8pKQkMDLxz546/v/+xY8e4GXuLJTg4GEBycjL/Ve/ZswfArFmz7OzsjIWZmZlFRUUeHh5cms3S4U3hkpKSXr16AfDz86uuruat3lbD5SEbjfZ5oK6urlOnTgByc3NNyyMiIgCsXr2a53haB09ilZaWcs24r6+vVVhFCKmtrXV2dgZQUlLCZ70///xzU6FVKhWXvmqazrVMeLoVbtu2raioyMfHJykpyalFDwsLh62t7ejRowGkpqbyWe++ffsAzJs3z7QwISFBoVD4+fn169ePz2BaDw/y6vX6wYMHi0SioqIiHqozI9u3bwcwc+ZM3mqsqKiws7OTSCSNnvsYO3YsgNjYWN4ieUH4aLHEYnGHDh0IIbm5uTxUZ0YmTJgAICUlRa/X81NjfHy8VqsdP348lz3muHv37qlTp6RS6YwZM/gJ48Xh6VYYEhKCZ4ywdBa89VjPnj179+5dWVmZn5/PT43cfTA8PNy0cO/evXq9/s033+QeNrQKeBWLS8AYC3U63cSJE93c3NRqNT9htILn/EmYnStXrhQWFrZr127y5Mmm5dw0QCPbLByexBo0aFCXLl3u3bt39epVY6FEIqmoqJDL5adPn+YnjFbAZzaLS1+98847pumrrKys69eve3h4BAUF8RCDueBJLJFIxD172eg3xGd70DrGjBlja2ubk5NTWVlJtSKdTvfPf/4TTVom7uY4d+5c01WKVgBvwwSuPQ8ODjYtzMzMBNCvXz/ewmgFo0aNApCQkEC1liNHjgDo37+/aaFareb6VdaSvjLC35ROcHCwWCzOyMgw7VENHz7cxcXl2rVrJSUlvEXSUvhpVp+VvpLL5b6+vlaTvvof/InVoUMHLy+vmpoarpXikEgk3MxXigWf2cCDWI8ePTp69KiNjU1YWJhp+VMHiVYBr5PQT/0NCTjX20y8vLw6duz43//+98aNG5Sq2L9/v1arDQkJ4RYUcdy9e/fkyZPWlb4yIrxY48ePB5CWlmaxCS2xWMyNyOjZ/9SWad++fXq9PjQ01NXVlVK9FOGzQ1dXV+fi4oIm07qvvvoqgDNnzvAZTIvgVpq/8cYbNC5uMBh27949YcKERotpuX5VUlISjUppw/dCP+4Bge+++860cOnSpQA+/vhjnoNpPmVlZSKRyMHBgbfl+VlZWQC6dOliyQ8PPge+N7d96t3QmJfnOZjm07lz50GDBqlUquzsbH5qtNb0lRGeRb59+zYAV1dX0z9EpVLJPdX+6NEjnuNpPitXrgQQFRXFQ13G9NXVq1d5qI4GfLdYxmndvLw8Y6GDg4Ofn59er09PT+c5nqbcuHHj3LlzTcv5nCQ4fPiwXC738fHhdtS1RgQ4YTUkJGTHjh3Jyck+Pj7GwuDg4JMnTyYnJ0+bNo3/kIzcunVrzJgxCoXi9OnT3HMyRkaOHCmTyS5evDh27Nj27ds7OTnJZDJHR0cnJyepVOrk5GR84ejoKJPJuBdSqZRbhtoirDd9ZURETJYb8ENiYuLUqVP9/PxM+yuFhYVDhw719PQsFe5I7pKSkoCAgDt37owYMSIpKcmx4WkTO3fuXLx4cefOnctafiaJ0TAHBweZTMa9kEqlLi4uxhf29vYymczFxUWj0URERNja2t6/f98qEw0ABBFLpVK1b99ep9OVl5e3a9eOKySEeHh4lJWVXb16VZD2v7S0NCAgoLi42M/P7/jx443WT+/Zs2fhwoWEkPfff3/06NFqtbqqqqqmpkalUhlfVFdXazQa7kVNTY1SqTS+aGkwnTp1cnd3LywsNN/PxzcC3AodHByGDx9++vTpkydPvvXWW1yhSCQaO3ZsfHx8cnIy/2LdvXs3MDCwuLjY19e3qVVxcXELFy40GAwxMTHR0dGtuL5CodBoNEqlUqFQ1NTUKBQKpVKp0Wgavaipqamurq6oqMjIyHj06FFubu7rr79uph+RdwQZMmzcuBFAZGSkaeH3338PYMKECTwHU1ZWxqUihw4d+pg7F9WEAwcOcAP+jRs38hYSNwLt16+fZe4/0ByEEYtb6du9e3fTwgcPHohEIplMxudT7Q8ePOAaSC8vr6bJjoMHD0okEgDr16/nLSRCSE1NTf/+/QGsWbOGz3rNiDBiGQyGjh07oskmT15eXuBxB8Rff/11wIABAIYMGdJ0Y8hDhw5xVq1bt46feEw5e/asjY2NRCJp9NiqtSDYNkazZs0CsHXrVtNCrgfz17/+lYcAysvLBw4cCOC1115ralVCQoKtrS0EnWhavnw5F56lbQzeHAQTi0vVTJw40bSQS5AOGjSIdu2PHz8eOnQo14958OBBo3ePHTvGrTrnR/FnoVKpuOl5S55FfRaCicVN69rb25tO62q1WkdHR5FIRPUstcrKSm4nmb59+zY9DywpKYmzasWKFfRiaCbZ2dlisVgikeTn5wsdS8sQcqvIwYMHA2h0gMf333+flZVVR22bW7lczo3h+/Tp01Tf5ORk7oydp+5NKgjc0o/Bgwdb8nEBTRFSrKioKPA1rcshl8v/+Mc/Anj11VebWpWSksJZtWzZMmG3tTVFpVJx+6l8+umnQsfSAoQU68SJE9zfIj/VKZXKkSNHcmmOO02OdMrIyOD261qwYIHlWMWRnp4uEonatGlz6dIloWNpLkKKZexRteLg05aiUqkCAgIAdOvW7fbt243ezczM5GYGIyIi9K04boU+7777LoCJE5fQ3grfXAi8z/sbb7wBYN++fVRrUalU3GbDXbt2bbrjTXZ2NjeHM2/ePMu0ihBSXV09deq/7O3Jpk1Ch9I8BBZr69atAGbNmkWvCrVazT1h5unpeevWrUbvnjlzhrMqPDzcYq3iOHGCiETEzs48x6fTRviTKQA4OjouXbo0ISGBxgrS1atXA/Dw8Lhx40ajt/Lz87l1KTNmzKA3DjUjCxYQgPj4EMtfBy+kWGq1mttPzHisjVgs7t+/P3cYuFwuN1ctc+fObXpASEFBAbdoZ9q0aVZhFSGkqop07UoA0vC0CktEMLG0Wi3XwerYsWN8fPy6detGjx5tusuKra3tiBEj1q5de+rUKbM/G1NYWNi+fXsAf/rTn6zFKo7U1Pob4n/+I3Qoz0UYsbRa7aRJkzirTM+rUavVmZmZ3GHgxkMGAchkMn9/f+6cwRfPE168eJGzKjQ01Lqyjhzh4QQgvr4WfUMUQCytVjtlyhQAbm5uly9fftaXmZ7TLBY/eejD0dExKCgoJiYmLy+vFd1t48lQlnmGT3OQy4mnJwHI118LHcqz4Vus2tra0NBQAK6urs2f/3r48GFiYiInmekqRTc3t+nTp3/99dd5eXnNuY7xZKiQkBDrXUNHCPn3vwlA7O3JzZtCh/IMeBVLp9O9/fbbANq2bdvqZUZlZWUHDx6MjIzs3r27qWTu7u7Tp0+PjY1tmlXnMJ4MNW7cOKu2iiMsjADE378152fzAH9i6XQ6bg2Wi4vL+fPnzXLNoqKi2NjYOXPmeHh4mErWq1cvbmhpXGh148YNyz8ZqkVUVJDOnQlAtm0TOpSnwZNYOp1u9uzZAJydnXNycsx+fb1ef+HChS1btkyaNMn0UQixWOzl5bVw4ULOqhEjRigUCrPXLhRHjhCAODiQJnlfuqxZs+Y3/xv5ePzLYDDMnz//H//4h4ODw7Fjx7idF+nBSZaWlpaWlpadna3RaAB0797d09Pz+PHjjZ4WtHbefhsKBXbtQsMm+4XQ6XSJiYkPHjwICAhwcHDgticBIJPJ3NzcOnTosHnz5s2bN+fm5jba3bkBtO02GAyLFi0CYG9vf+rUKdrVNUKj0Zw4ceLDDz8sLi626rbKYCBr1pBGG5Hu3UsSEsj16yQ6mpw9+6S8tJRER5NWH9q3du3aTZs2paenjxo1Ki8vLyMjIyMj48cff5w6dWpmZubq1auHDBny3nvv/fTTT8+5CF2xDAbDqlWrJk6caG9vn56eTrWulxudjgDkyJEGhUFBZPFicvw4AcgrrxDjgOT8eQKQ8vJW11WfH1u7du2R/1X56aefHj16lBCyfv363bt3z5o16/kr8SluCkIIWbNmTVxc3PXr11NTU7n1BQwa2NhAKsWmTea6mg0AvV6fn5/PrfJVKpUZGRlcjkYmk/35z38ODAyUy+XPuQjFJ6E3bNgQFxfXpk2b2NhYPz8/ehUxRCJ8/jlCQxEWhj59Gryl0UAuR1UVqqrqX8jlEImuV1QcVigU1f9DoVBUVVUpFIqPPvpo9uzZXKMQHBzM5XT279//zjvv2NjYyGSyFStWAFiwYMHzQ6Il1oYNG3bs2GFra7t7925uppnx4qSmorz8yaf37z/RaPx4BAfjL39BWlp9SUUFPD1RW/uU6wQE3L5x49unVlFdXa1UKleuXDlo0KDFixcD0Ov1hw8fTkhIaFGoVMTatGnT9u3bOaus66AOCycnB7dvP/nUVDIAW7diwADs319vm5MTamthZwcXF7RtW/8v99GrV78334x2dnZ2cnJycXFxcnJyNmHGjBnXrl17/Pjx6dOnZ86cKZFIuOFhy2JtZQfv2cTExLi7u3fr1k2QY7pfVp7feZdI6kvWrSOdO5O0tPrOu4DzC2buvH/++edbt261sbH59ttvuQ3cGXwSFQVnZ3z5Zf2nUqlgkZjzVrhjx46vvvqKs4pbv8DgGTs7bNsGS/iLNluLtXPnzvXr19vY2GzdupVbv8AQhHHjMH260EHgBfpYV65cMT7mFhsb6+7u7unpeejQITPdoxmNKSggVVUNSm7dIqWlpKqKNFp/JJeTvDwi7MLY35gr1Gg0jx8/Nq4duH37do8ePfR6/d27d8+dO0cIGTly5NWrV+fNmycWi7ds2WKNp74waPA8sbZt23b06NFOnTrFxcWdP39+y5YtBQUFBQUFcrl8xYoVIpFILBaLRKINGzZ88803Pj4+3ForBgN47q2wsrLy1q1b4eHhhJCqqiqdThcSEsJN5T569GjJkiURERFN91ZkMMjz0w2mZ6Y7Ozubnr2xd+/e0NDQKVOm/PTTTxStZ1gtrUw3vP/+++aNg/GSwfeRJ4zfCTZ/+9vfnvVeVlZWYmJiQUFBXV1d165d4+LiuC3R3N3dTe+SDEZTnjcqLCsre/jwIQCxWNy7d++bN29y5T169GjF+TCM3xUCHHnC+D3A+lgMKjCxGFRgYjGowMRiUIGJxaACE4tBBSYWgwpMLAYVmFgMKjCxGFRgYjGowMRiUIGJxaACE4tBBSYWgwpMLAYVmFgMKjCxGFRgYjGowMRiUIGJxaACE4tBBSYWgwpMLAYVmFgMKjCxGFRgYjGowMRiUIGJxaACE4tBBSYWgwpMLAYVmFgMKjCxGFRgYjGowMRiUIGJxaACE4tBBSYWgwpMLAYVmFgMKjCxGFRgYjGo8P9Unx/Jf9BKHwAAASd6VFh0cmRraXRQS0wgcmRraXQgMjAyMS4wOS41AAB4nHu/b+09BiDgZUAAHii/gZHNQQNIM7OwOWSAaGZGdogAM1wAoQJCsztYgGhGTBXsDGABJkYGAw1GIItRGkhIcgAJx5L8XL/SnBwNGQZtmCQ3NkluBsYMJgbmBEamBCbWDCZmlgwmFtYEFo4EVrYENvYEdo4MJg5OBU4uBgZuBhEmNqClrEyMrGysLBzs4rNApsJ96P5R7AB7UuB+ECeqz+BA7iYFexD7S+Wt/U3WN8HsMO6M/Z9uzACrWf5CxK4g6/9eENuupGnfZOGVYDXZIvX2nLWcDiD2svtcDrzJsyF6cy/Zd6Y47wOxX2vKOVybvANszv4/tQ4SH9dAzHSKOuA3+SOYLQYAYQRGW9bi0ugAAAGNelRYdE1PTCByZGtpdCAyMDIxLjA5LjUAAHicfZNNa8MwDIbv/RU6D2IkWf7QYYe2KWOMprB2u5ayywplMOj/Z3JK6hTMnAQs+dFrS1bCRX6Pp8t1dfz6Pp1/lgso471/O1/hPrhfmB//eVUVPj0iLrZQJrDavLwOsD4sV5NnvfsYDnsgBvIWY88juzzstpOHYA0dOx+ypAQdukxJkQEdjqPG8o1MIcecbT1ySuwboIcBOnIJo2kCuaiJWBugFEV0ilFMyEJIhZgaZDASHUkQ0hJCLIlCA4w3SQ6S1NvenlEJG2CyQ9rWGgUDsElnDqnBZRO05ahqXnJMXmNLT42zVMWWeTyhYqZWdew0gyna+T3mkrQII7UKTgRP4J3GHAIV0gcizDMStsv9/pnTPYItovNOCD2N4jkn3wghmkI2Q//QD7cOWe2GvnaI2Me1DYop9bLFXL5eqZgr1nsrjlBvx4y6mkZTa6nFiFQrKkbkWd3EEJ1Vh4whnCVPhaq5Wf0LRDxPdp5asacfx+aLP/FzsSICgJloAAABQ3pUWHRTTUlMRVMgcmRraXQgMjAyMS4wOS41AAB4nGWQP08DMQzFvwpjqXJW7Dh/fJ0YQEyoEoil6lCiGxBtrioHUz88vpuasNnvZz9bb4e43mfMJdOuPO9zXr3sKK7395ky3l1XnQNG68h0CClFh2bTETifOJnOQsIolhYt+hTEWAgUIzmVEKINyRuEIBFnxQJ5juJUcmRFvSyIBLbeECAnCmajRRDRCUIn2us2z4Uuo9g0+xCw+uH8EjNZtXEgesnPivOIizGyZ5Rlj3TeL/fFBtbndA6Fkcy9OUzjaXsZz72F03h8G6f3w3EoeQBU5fvn4zzmr2GC10dth/L7eRnLaSgTlEOPN/xhq+0tx9BTzanlruau5VxzbrmvuW95qHloeax5bHmqeaq47+VfYHKz8LTVtg3MNonZ9iS2mbahXv8AfOzL7IZh+woAAAAASUVORK5CYII=\" alt=\"Mol\"/></td>\n",
       "      <td><img data-content=\"rdkit/molecule\" src=\"data:image/png;base64,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\" alt=\"Mol\"/></td>\n",
       "      <td>AAK1</td>\n",
       "      <td>NAK</td>\n",
       "      <td>Other</td>\n",
       "      <td>5l4q</td>\n",
       "      <td>LKB</td>\n",
       "      <td>B</td>\n",
       "      <td>A</td>\n",
       "      <td>AP AP AP AP AP AP AP AP AP AP AP AP AP AP AP F...</td>\n",
       "      <td>16 16 16 16 16 16 16 16 16 16 16 16 16 5 5 na na</td>\n",
       "      <td>[11*]c1cnc2[nH]cc(N[27*])c2c1</td>\n",
       "      <td>3</td>\n",
       "      <td>[FP, SE]</td>\n",
       "      <td>[AP=FP, AP=SE]</td>\n",
       "      <td>1</td>\n",
       "      <td>1</td>\n",
       "      <td>1</td>\n",
       "      <td>1</td>\n",
       "      <td>0.565900</td>\n",
       "      <td>1</td>\n",
       "      <td>1</td>\n",
       "      <td>30.950959</td>\n",
       "      <td>1</td>\n",
       "      <td>0</td>\n",
       "      <td>0</td>\n",
       "    </tr>\n",
       "    <tr>\n",
       "      <th>1</th>\n",
       "      <td>AP</td>\n",
       "      <td>CNc1ncnc2[nH]ccc12</td>\n",
       "      <td><img data-content=\"rdkit/molecule\" src=\"data:image/png;base64,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\" alt=\"Mol\"/></td>\n",
       "      <td><img data-content=\"rdkit/molecule\" src=\"data:image/png;base64,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\" alt=\"Mol\"/></td>\n",
       "      <td><img data-content=\"rdkit/molecule\" src=\"data:image/png;base64,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\" alt=\"Mol\"/></td>\n",
       "      <td>ACK</td>\n",
       "      <td>Ack</td>\n",
       "      <td>TK</td>\n",
       "      <td>4ewh</td>\n",
       "      <td>T77</td>\n",
       "      <td></td>\n",
       "      <td>B</td>\n",
       "      <td>AP AP AP AP AP AP AP AP AP AP AP AP AP AP AP A...</td>\n",
       "      <td>16 16 16 16 16 16 16 16 16 16 16 5 5 8 8 8 na ...</td>\n",
       "      <td>[26*]c1[nH]c2ncnc(NC[54*])c2c1[37*]</td>\n",
       "      <td>8</td>\n",
       "      <td>[FP, SE, FP]</td>\n",
       "      <td>[AP=FP, AP=SE, AP=FP]</td>\n",
       "      <td>1</td>\n",
       "      <td>1</td>\n",
       "      <td>1</td>\n",
       "      <td>1</td>\n",
       "      <td>0.633912</td>\n",
       "      <td>1</td>\n",
       "      <td>1</td>\n",
       "      <td>38.386371</td>\n",
       "      <td>1</td>\n",
       "      <td>0</td>\n",
       "      <td>0</td>\n",
       "    </tr>\n",
       "    <tr>\n",
       "      <th>2</th>\n",
       "      <td>AP</td>\n",
       "      <td>c1cnc2ccnn2c1</td>\n",
       "      <td><img data-content=\"rdkit/molecule\" src=\"data:image/png;base64,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\" alt=\"Mol\"/></td>\n",
       "      <td><img data-content=\"rdkit/molecule\" src=\"data:image/png;base64,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\" alt=\"Mol\"/></td>\n",
       "      <td><img data-content=\"rdkit/molecule\" src=\"data:image/png;base64,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\" alt=\"Mol\"/></td>\n",
       "      <td>ACTR2</td>\n",
       "      <td>STKR</td>\n",
       "      <td>TKL</td>\n",
       "      <td>3q4t</td>\n",
       "      <td>TAK</td>\n",
       "      <td>A</td>\n",
       "      <td>B</td>\n",
       "      <td>AP AP AP AP AP AP AP AP AP AP AP AP SE GA</td>\n",
       "      <td>16 16 16 16 16 16 16 16 16 16 16 16 na na</td>\n",
       "      <td>[33*]c1cnc2c([46*])cnn2c1</td>\n",
       "      <td>10</td>\n",
       "      <td>[SE, GA]</td>\n",
       "      <td>[AP=SE, AP=GA]</td>\n",
       "      <td>1</td>\n",
       "      <td>1</td>\n",
       "      <td>1</td>\n",
       "      <td>1</td>\n",
       "      <td>0.511376</td>\n",
       "      <td>1</td>\n",
       "      <td>1</td>\n",
       "      <td>39.622898</td>\n",
       "      <td>1</td>\n",
       "      <td>152</td>\n",
       "      <td>1</td>\n",
       "    </tr>\n",
       "  </tbody>\n",
       "</table>\n",
       "</div>"
      ],
      "text/plain": [
       "<IPython.core.display.HTML object>"
      ]
     },
     "execution_count": 23,
     "metadata": {},
     "output_type": "execute_result"
    }
   ],
   "source": [
    "HTML(fragment_library[\"AP\"].head(3).to_html(notebook=True))\n",
    "# NBVAL_CHECK_OUTPUT"
   ]
  },
  {
   "cell_type": "code",
   "execution_count": 24,
   "id": "3faadcb8-2f14-4682-a483-7ba4deee749b",
   "metadata": {},
   "outputs": [],
   "source": [
    "HTML(mol_df.to_html(notebook=True))\n",
    "# NBVAL_CHECK_OUTPUT"
   ]
  },
  {
   "cell_type": "code",
   "execution_count": null,
   "id": "2623b6c3-9471-4e1d-93f9-1488a285cf10",
   "metadata": {},
   "outputs": [],
   "source": [
    "HTML(diff_df.head(3).to_html(notebook=True))\n",
    "# NBVAL_CHECK_OUTPUT"
   ]
  },
  {
   "cell_type": "markdown",
   "id": "0baf9851-65ad-4b9f-b035-2b33d57fd625",
   "metadata": {
    "tags": []
   },
   "source": [
    "## 4. Analyze accepted/ rejected fragments\n",
    "\n",
    "    4.1. Count number of accepted/rejected fragments\n",
    "    \n",
    "    4.2. Plot number of retrosynthetic routes found per fragment and subpocket\n",
    "    \n",
    "    4.3. Inspect fragments with no retrosynthetic routes found and with most retrosynthetic routes found\n",
    "    \n",
    "    4.4 Save custom filtered fragment library\n",
    "    \n",
    "        4.4.1. Add results from pairwise retrosynthesizability to the filtering results\n",
    "        \n",
    "        4.4.2. Save fragment_library_custom_filtered to data"
   ]
  },
  {
   "cell_type": "markdown",
   "id": "6cab8269-47eb-403e-aef5-504155546de5",
   "metadata": {},
   "source": [
    "### 4.1. Count number of accepted/rejected fragments"
   ]
  },
  {
   "cell_type": "code",
   "execution_count": null,
   "id": "1de5d54c-aab5-4441-9b36-4e3df55ffb4e",
   "metadata": {},
   "outputs": [],
   "source": [
    "num_fragments_retro = pd.concat(\n",
    "    [\n",
    "        filters.analysis.count_fragments(\n",
    "            fragment_library, \"custom_filtered\"\n",
    "        ),\n",
    "        filters.analysis.count_accepted_rejected(\n",
    "            fragment_library, \"bool_retro\", \"pairwise_retosynthesizability\"\n",
    "        ),\n",
    "    ],\n",
    "    axis=1,\n",
    ")\n",
    "num_fragments_retro = pd.concat([num_fragments_retro, num_fragments_retro.sum().rename(\"Total\").to_frame().T])\n",
    "num_fragments_retro\n",
    "# NBVAL_CHECK_OUTPUT"
   ]
  },
  {
   "cell_type": "markdown",
   "id": "1eed107d-5000-4519-8811-8d3cd163e243",
   "metadata": {},
   "source": [
    "### 4.2. Plot number of retrosynthetic routes found per fragment and subpocket"
   ]
  },
  {
   "cell_type": "code",
   "execution_count": null,
   "id": "6a4c85ee-142d-4037-8cd0-42b775d4dd54",
   "metadata": {
    "tags": []
   },
   "outputs": [],
   "source": [
    "filters.plots.make_retro_hists(fragment_library, \"retro_count\", cutoff=0)"
   ]
  },
  {
   "cell_type": "markdown",
   "id": "04dd64c2-ba0e-4ae8-8805-93bb11a421a6",
   "metadata": {},
   "source": [
    "legend: red bars display the number fragments without a retrosynthetic route found"
   ]
  },
  {
   "cell_type": "markdown",
   "id": "1a8b225a-5db9-42bf-a6cb-0ea227c51110",
   "metadata": {},
   "source": [
    "### 4.3. Inspect fragments with no retrosynthetic routes found and with most retrosynthetic routes found"
   ]
  },
  {
   "cell_type": "markdown",
   "id": "17a131a6-afbd-43df-ac17-9e20bc6f3b7b",
   "metadata": {
    "tags": []
   },
   "source": [
    "#### Adenine Pocket (AP)"
   ]
  },
  {
   "cell_type": "code",
   "execution_count": null,
   "id": "7c016b3b-4f15-467c-b4eb-3f393f8faf1d",
   "metadata": {
    "tags": []
   },
   "outputs": [],
   "source": [
    "filters.plots.retro_routes_fragments(\n",
    "    fragment_library,\n",
    "    evaluate=\"none\",\n",
    "    subpocket=\"AP\",\n",
    "    molsPerRow=10,\n",
    ")"
   ]
  },
  {
   "cell_type": "code",
   "execution_count": null,
   "id": "3647f5cc-768e-44c8-ab1f-3741a991f362",
   "metadata": {},
   "outputs": [],
   "source": [
    "filters.plots.retro_routes_fragments(\n",
    "    fragment_library,\n",
    "    evaluate=\"max\",\n",
    "    subpocket=\"AP\",\n",
    "    molsPerRow=10,\n",
    ")"
   ]
  },
  {
   "cell_type": "markdown",
   "id": "a89692ad-0483-4cd4-b5e0-7914f0e09d39",
   "metadata": {
    "tags": []
   },
   "source": [
    "#### Front Pocket (FP)"
   ]
  },
  {
   "cell_type": "code",
   "execution_count": null,
   "id": "b0002a69-70aa-4838-a476-dc2d08616a20",
   "metadata": {},
   "outputs": [],
   "source": [
    "filters.plots.retro_routes_fragments(\n",
    "    fragment_library,\n",
    "    evaluate=\"none\",\n",
    "    subpocket=\"FP\",\n",
    "    molsPerRow=10,\n",
    ")"
   ]
  },
  {
   "cell_type": "code",
   "execution_count": null,
   "id": "a1311af0-e963-47c7-ae8e-b84736c3f621",
   "metadata": {},
   "outputs": [],
   "source": [
    "filters.plots.retro_routes_fragments(\n",
    "    fragment_library,\n",
    "    evaluate=\"max\",\n",
    "    subpocket=\"FP\",\n",
    "    molsPerRow=10,\n",
    ")"
   ]
  },
  {
   "cell_type": "markdown",
   "id": "ee8295b0-8fbd-4695-800c-db885ee6651a",
   "metadata": {},
   "source": [
    "#### Solvent Exposed Pocket (SE)"
   ]
  },
  {
   "cell_type": "code",
   "execution_count": null,
   "id": "f667cf28-1427-4531-9375-d199f15d08b0",
   "metadata": {},
   "outputs": [],
   "source": [
    "filters.plots.retro_routes_fragments(\n",
    "    fragment_library,\n",
    "    evaluate=\"none\",\n",
    "    subpocket=\"SE\",\n",
    "    molsPerRow=10,\n",
    ")"
   ]
  },
  {
   "cell_type": "code",
   "execution_count": null,
   "id": "2a0f93d9-bfc9-45d4-8435-4ba10c6c7a59",
   "metadata": {},
   "outputs": [],
   "source": [
    "filters.plots.retro_routes_fragments(\n",
    "    fragment_library,\n",
    "    evaluate=\"max\",\n",
    "    subpocket=\"SE\",\n",
    "    molsPerRow=10,\n",
    ")"
   ]
  },
  {
   "cell_type": "markdown",
   "id": "ac97a23b-655d-4770-9cda-32aec185695d",
   "metadata": {},
   "source": [
    "#### Gate Area Pocket (GA)"
   ]
  },
  {
   "cell_type": "code",
   "execution_count": null,
   "id": "da6de0e3-7599-4d81-a447-ff49069d8276",
   "metadata": {},
   "outputs": [],
   "source": [
    "filters.plots.retro_routes_fragments(\n",
    "    fragment_library,\n",
    "    evaluate=\"none\",\n",
    "    subpocket=\"GA\",\n",
    "    molsPerRow=10,\n",
    ")"
   ]
  },
  {
   "cell_type": "code",
   "execution_count": null,
   "id": "0b638a55-4846-4f47-822f-3f38b014cef6",
   "metadata": {},
   "outputs": [],
   "source": [
    "filters.plots.retro_routes_fragments(\n",
    "    fragment_library,\n",
    "    evaluate=\"max\",\n",
    "    subpocket=\"GA\",\n",
    "    molsPerRow=10,\n",
    ")"
   ]
  },
  {
   "cell_type": "markdown",
   "id": "2a8165e7-cdd4-452a-9481-665c9b4acb02",
   "metadata": {},
   "source": [
    "#### Back Pocket 1 (B1)"
   ]
  },
  {
   "cell_type": "code",
   "execution_count": null,
   "id": "27f4d1f4-c672-4d7d-ab15-a34b09f16053",
   "metadata": {},
   "outputs": [],
   "source": [
    "filters.plots.retro_routes_fragments(\n",
    "    fragment_library,\n",
    "    evaluate=\"none\",\n",
    "    subpocket=\"B1\",\n",
    "    molsPerRow=10,\n",
    ")"
   ]
  },
  {
   "cell_type": "code",
   "execution_count": null,
   "id": "d13bf3b9-fecb-4a44-a14c-bbf86203646d",
   "metadata": {},
   "outputs": [],
   "source": [
    "filters.plots.retro_routes_fragments(\n",
    "    fragment_library,\n",
    "    evaluate=\"max\",\n",
    "    subpocket=\"B1\",\n",
    "    molsPerRow=10,\n",
    ")"
   ]
  },
  {
   "cell_type": "markdown",
   "id": "6e6a3a24-f4c7-46d0-bfd6-b1c2f6bd37bd",
   "metadata": {},
   "source": [
    "#### Back Pocket 2 (B2)"
   ]
  },
  {
   "cell_type": "code",
   "execution_count": null,
   "id": "5a0787b4-d199-4522-a0f2-4f6d61ecc004",
   "metadata": {},
   "outputs": [],
   "source": [
    "filters.plots.retro_routes_fragments(\n",
    "    fragment_library,\n",
    "    evaluate=\"none\",\n",
    "    subpocket=\"B2\",\n",
    "    molsPerRow=10,\n",
    ")"
   ]
  },
  {
   "cell_type": "code",
   "execution_count": null,
   "id": "ef0cbdad-5684-4d5e-ab0c-5a67a45a5f4c",
   "metadata": {},
   "outputs": [],
   "source": [
    "filters.plots.retro_routes_fragments(\n",
    "    fragment_library,\n",
    "    evaluate=\"max\",\n",
    "    subpocket=\"B2\",\n",
    "    molsPerRow=10,\n",
    ")"
   ]
  },
  {
   "cell_type": "markdown",
   "id": "35480ac5-3c7f-4a3e-876a-594a5126a4f9",
   "metadata": {},
   "source": [
    "### 4.4 Save custom filtered fragment library"
   ]
  },
  {
   "cell_type": "markdown",
   "id": "3fd20c5f-3f06-4807-a9c4-9457420efcef",
   "metadata": {},
   "source": [
    "#### 4.4.1. Add results from pairwise retrosynthesizability to the filtering results"
   ]
  },
  {
   "cell_type": "markdown",
   "id": "b6bc28ef-2434-4053-95b5-7fe8cfcd7f52",
   "metadata": {},
   "source": [
    "Load previous filtering results and values from [/data/filters/fragment_library_custom_filtered/custom_filter_results.csv](https://github.com/sonjaleo/KinFragLib/blob/fragment_pairs/data/fragment_library_custom_filtered/custom_filter_results.csv) file and add retro results to this file."
   ]
  },
  {
   "cell_type": "code",
   "execution_count": null,
   "id": "b1113ffc-909a-42af-a8ea-c165a7aadcb1",
   "metadata": {},
   "outputs": [],
   "source": [
    "saved_filter_results = pd.read_csv(PATH_DATA_CUSTOM / \"custom_filter_results.csv\")"
   ]
  },
  {
   "cell_type": "code",
   "execution_count": null,
   "id": "4dca157d-bc38-4721-9d51-c24b6167c8f1",
   "metadata": {},
   "outputs": [],
   "source": [
    "saved_filter_results.set_index([\"subpocket\", \"smiles\"])"
   ]
  },
  {
   "cell_type": "code",
   "execution_count": null,
   "id": "a76c8868-1d6d-4405-9f97-81b4875bb190",
   "metadata": {},
   "outputs": [],
   "source": [
    "fragment_library_concat = pd.concat(fragment_library)\n",
    "retro_results_df = pd.DataFrame()\n",
    "retro_results_df[\"subpocket\"] = fragment_library_concat[\"subpocket\"]\n",
    "retro_results_df[\"smiles\"] = fragment_library_concat[\"smiles\"]\n",
    "retro_results_df[\"retro_count\"] = fragment_library_concat[\"retro_count\"]\n",
    "retro_results_df[\"bool_retro\"] = fragment_library_concat[\"bool_retro\"]\n",
    "retro_results_df.set_index([\"subpocket\", \"smiles\"])"
   ]
  },
  {
   "cell_type": "code",
   "execution_count": null,
   "id": "3cf3aa42-5df2-459e-836c-82386ee12de8",
   "metadata": {},
   "outputs": [],
   "source": [
    "all_results_df = saved_filter_results.merge(\n",
    "    retro_results_df,\n",
    "    left_on=['subpocket', 'smiles'],\n",
    "    right_on=['subpocket', 'smiles'],\n",
    "    how=\"outer\",\n",
    ")\n",
    "all_results_df.to_csv(PATH_DATA_CUSTOM / \"custom_filter_results.csv\", index=False)"
   ]
  },
  {
   "cell_type": "markdown",
   "id": "e52b50c1-893a-4d80-9f32-624cef38867c",
   "metadata": {},
   "source": [
    "#### 4.4.2. Save fragment_library_custom_filtered to data"
   ]
  },
  {
   "cell_type": "markdown",
   "id": "308082f4-2807-4203-a887-b355e0827b3e",
   "metadata": {},
   "source": [
    "Save custom filtered fragment library as .sdf files to [/data/filters/fragment_library_custom_filtered/](https://github.com/sonjaleo/KinFragLib/blob/fragment_pairs/data/fragment_library_custom_filtered/)"
   ]
  },
  {
   "cell_type": "code",
   "execution_count": null,
   "id": "be565a33-a752-4bcd-96bc-0379e23f04cb",
   "metadata": {},
   "outputs": [],
   "source": [
    "for subpocket in fragment_library.keys():\n",
    "    fragment_library[subpocket].drop(\n",
    "        fragment_library[subpocket].loc[fragment_library[subpocket][\"bool_retro\"] == 0].index,\n",
    "        inplace=True,\n",
    "    )\n",
    "    fragment_library[subpocket] = fragment_library[subpocket].reset_index(drop=True)"
   ]
  },
  {
   "cell_type": "code",
   "execution_count": null,
   "id": "369c413b-62ec-4e09-91e4-deb5c3025584",
   "metadata": {},
   "outputs": [],
   "source": [
    "fragment_library_concat = pd.concat(fragment_library)\n",
    "fragment_library_concat.head()"
   ]
  },
  {
   "cell_type": "code",
   "execution_count": null,
   "id": "b277ca0c-e6e7-46da-9dd3-7b3cc8971922",
   "metadata": {},
   "outputs": [],
   "source": [
    "filters.retro.save_fragment_library_to_sdfs(\n",
    "    PATH_DATA_CUSTOM,\n",
    "    fragment_library_concat,\n",
    ")"
   ]
  },
  {
   "cell_type": "code",
   "execution_count": null,
   "id": "877854e7-7b9a-4839-830d-6cb3bc00cd55",
   "metadata": {},
   "outputs": [],
   "source": []
  }
 ],
 "metadata": {
  "kernelspec": {
   "display_name": "Python 3 (ipykernel)",
   "language": "python",
   "name": "python3"
  },
  "language_info": {
   "codemirror_mode": {
    "name": "ipython",
    "version": 3
   },
   "file_extension": ".py",
   "mimetype": "text/x-python",
   "name": "python",
   "nbconvert_exporter": "python",
   "pygments_lexer": "ipython3",
   "version": "3.8.19"
  }
 },
 "nbformat": 4,
 "nbformat_minor": 5
}
