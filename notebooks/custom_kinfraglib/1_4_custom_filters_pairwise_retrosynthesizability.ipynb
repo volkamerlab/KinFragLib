{
 "cells": [
  {
   "cell_type": "markdown",
   "id": "a2c6d3e2-8fc9-47bf-8d42-10114ffe3c70",
   "metadata": {},
   "source": [
    "# Filter for pairwise retrosynthesizability"
   ]
  },
  {
   "cell_type": "markdown",
   "id": "8f269914-05af-47eb-9cbe-d84f2499cc45",
   "metadata": {},
   "source": [
    "## Aim of this notebook"
   ]
  },
  {
   "cell_type": "markdown",
   "id": "c98ff012-da23-461c-80a6-a06063814536",
   "metadata": {},
   "source": [
    "This notebook is filtering the fragments for pairwise retrosynthesizability using the web API from [ASKCOS](https://askcos.mit.edu/).\n",
    "\n",
    "We build all valid fragment pairs and look if a retrosynthetic route can be found to create this pair from the fragments given. To reduce the number of requests we, first apply all filters from the previous notebooks."
   ]
  },
  {
   "cell_type": "markdown",
   "id": "ac3d7a2a-6ef0-4589-8d9b-05a590f26562",
   "metadata": {
    "tags": []
   },
   "source": [
    "## Table of contents\n",
    "1. Load fragment library\n",
    "2. Apply filters\n",
    "    \n",
    "    2.1. Apply pre-filters\n",
    "    \n",
    "    2.2. Apply filters for unwanted substructures\n",
    "    \n",
    "        2.2.1. PAINS filter\n",
    "        \n",
    "        2.2.2 Brenk filter\n",
    "    \n",
    "    2.3. Apply filters for drug likeness\n",
    "        \n",
    "        2.3.1. Rule of Three filter\n",
    "        \n",
    "        2.3.2. Quantitative Estimate of Druglikeness filter\n",
    "        \n",
    "    2.4. Apply filters for synthesizability\n",
    "    \n",
    "        2.4.1. Filter for buyable building blocks\n",
    "        \n",
    "        2.4.2. Filter for Synthetic Bayesian Estimation\n",
    "        \n",
    "    2.5. Process filtering results\n",
    "        \n",
    "        2.5.1. Check which fragments pass all filters applied\n",
    "        \n",
    "        2.5.2. Save the values computed by each filtering step\n",
    "    \n",
    "    2.6. Remove fragments not passing the previous filtering steps\n",
    "    \n",
    "3. Apply pairwise retrosynthesizability\n",
    "\n",
    "    3.1. Get valid fragment pairs\n",
    "    \n",
    "    3.2. Calculate pairwise retrosynthesizability\n",
    "    \n",
    "4. Analyze accepted/ rejected fragments\n",
    "\n",
    "    4.1. Count number of accepted/rejected fragments\n",
    "    \n",
    "    4.2. Plot number of retrosynthetic routes found per fragment and subpocket\n",
    "    \n",
    "    4.3. Inspect fragments with no retrosynthetic routes found and with most retrosynthetic routes found\n",
    "    \n",
    "    4.4 Save custom filtered fragment library\n",
    "    \n",
    "        4.4.1. Add results from pairwise retrosynthesizability to the filtering results\n",
    "        \n",
    "        4.4.2. Save fragment_library_custom_filtered to data"
   ]
  },
  {
   "cell_type": "markdown",
   "id": "af64d85b-04f4-466d-af18-b5ccd06a17b3",
   "metadata": {},
   "source": [
    "## Imports and preprocessing"
   ]
  },
  {
   "cell_type": "code",
   "execution_count": 1,
   "id": "01c3d56e-ec28-4e3b-8ccd-f9330bbb748c",
   "metadata": {},
   "outputs": [],
   "source": [
    "import warnings\n",
    "import pandas as pd\n",
    "from pathlib import Path\n",
    "from rdkit.Chem import PandasTools\n",
    "from IPython.core.display import HTML\n",
    "from kinfraglib import filters, utils"
   ]
  },
  {
   "cell_type": "code",
   "execution_count": 2,
   "id": "0e733735-05c5-45cf-99e1-05be23b7b5ad",
   "metadata": {},
   "outputs": [],
   "source": [
    "%load_ext autoreload\n",
    "%autoreload 2"
   ]
  },
  {
   "cell_type": "code",
   "execution_count": 3,
   "id": "26f66b6d-5405-4e07-8999-5d187a819d4e",
   "metadata": {},
   "outputs": [],
   "source": [
    "# Needed to display ROMol images in DataFrames\n",
    "PandasTools.RenderImagesInAllDataFrames(images=True)"
   ]
  },
  {
   "cell_type": "markdown",
   "id": "5ba93340-d630-450e-827e-d086ed243216",
   "metadata": {},
   "source": [
    "### Define global paths"
   ]
  },
  {
   "cell_type": "code",
   "execution_count": 4,
   "id": "f9aca1d4-c22d-4c73-839c-9a9000f81fcd",
   "metadata": {},
   "outputs": [],
   "source": [
    "# Path to data\n",
    "HERE = Path().resolve()\n",
    "PATH_DATA = HERE / \"../../data\"\n",
    "PATH_DATA_BRENK = PATH_DATA / \"filters/Brenk\"\n",
    "PATH_DATA_ENAMINE = HERE / \"../../data/filters/Enamine\"\n",
    "PATH_DATA_RETRO = HERE / \"../../data/filters/retrosynthesizability\"\n",
    "PATH_DATA_CUSTOM = PATH_DATA / \"fragment_library_custom_filtered\""
   ]
  },
  {
   "cell_type": "markdown",
   "id": "41adb7e7-9985-43e8-b43f-e181d6ac3e22",
   "metadata": {},
   "source": [
    "## 1. Load fragment library"
   ]
  },
  {
   "cell_type": "code",
   "execution_count": 5,
   "id": "62f4cf77-0b8b-4bef-903b-924e79ed8cc7",
   "metadata": {},
   "outputs": [],
   "source": [
    "fragment_library = utils.read_fragment_library(PATH_DATA / \"fragment_library\")"
   ]
  },
  {
   "cell_type": "code",
   "execution_count": 6,
   "id": "79aecd8e-fbf2-4a60-a656-11a6f7e7adba",
   "metadata": {},
   "outputs": [
    {
     "data": {
      "text/plain": [
       "dict_keys(['AP', 'FP', 'SE', 'GA', 'B1', 'B2', 'X'])"
      ]
     },
     "execution_count": 6,
     "metadata": {},
     "output_type": "execute_result"
    }
   ],
   "source": [
    "fragment_library.keys()"
   ]
  },
  {
   "cell_type": "code",
   "execution_count": 7,
   "id": "ca64d645-2bda-426e-9d64-ec820b9356a4",
   "metadata": {},
   "outputs": [
    {
     "data": {
      "text/plain": [
       "(9505, 15)"
      ]
     },
     "execution_count": 7,
     "metadata": {},
     "output_type": "execute_result"
    }
   ],
   "source": [
    "pd.concat(fragment_library).reset_index(drop=True).shape"
   ]
  },
  {
   "cell_type": "markdown",
   "id": "92118459-57c7-4b54-a1e5-65cadc72dcc0",
   "metadata": {},
   "source": [
    "## 2. Apply filters\n",
    "\n",
    "    2.2. Apply filters for unwanted substructures\n",
    "    \n",
    "        2.2.1. PAINS filter\n",
    "        \n",
    "        2.2.2 Brenk filter\n",
    "    \n",
    "    2.3. Apply filters for drug likeness\n",
    "        \n",
    "        2.3.1. Rule of Three filter\n",
    "        \n",
    "        2.3.2. Qunatitative Estimate of Druglikeness filter\n",
    "        \n",
    "    2.4. Apply filters for synthesizability\n",
    "    \n",
    "        2.4.1. Filter for buyable building blocks\n",
    "        \n",
    "        2.4.2. Filter for Synthetic Bayesian Estimation\n",
    "        \n",
    "    2.5. Process filtering results\n",
    "        \n",
    "        2.5.1. Check which fragments pass all filters applied\n",
    "        \n",
    "        2.5.2. Save the values computed by each filtering step\n",
    "    \n",
    "    2.6. Remove fragments not passing the previous filtering steps"
   ]
  },
  {
   "cell_type": "markdown",
   "id": "09a9082c-df5b-4061-9c8f-38f138f03e8f",
   "metadata": {},
   "source": [
    "These filters are applied to reduce the number of fragments before building pairs for the pairwise retrosynthesizability filter to avoid the combinatorial explosion and enable this analysis."
   ]
  },
  {
   "cell_type": "markdown",
   "id": "9d20c6ef-d5c8-432d-aa6b-d019fbddd5d0",
   "metadata": {},
   "source": [
    "### 2.1. Apply pre-filters\n",
    "Pre-filters are \n",
    "- removing fragments in pool X\n",
    "- removing duplicates\n",
    "- removing fragments without dummy atoms (unfragmented ligands)\n",
    "- removing fragments only connecting to pool X"
   ]
  },
  {
   "cell_type": "code",
   "execution_count": 8,
   "id": "31db9422-b201-4136-942a-c4654f82b3a6",
   "metadata": {},
   "outputs": [],
   "source": [
    "fragment_library = filters.prefilters.pre_filters(fragment_library)"
   ]
  },
  {
   "cell_type": "markdown",
   "id": "21e3b8dc-ebbd-4d10-b028-d3d7cc0cbf1a",
   "metadata": {},
   "source": [
    "### 2.2. Apply filters for unwanted substructures\n",
    "Filter out fragments that could cause unwanted side effects.\n",
    "\n",
    "For more information, check [/notebooks/custom_kinfraglib/1_1_custom_filters_unwanted_substructures.ipynb](https://github.com/sonjaleo/KinFragLib/blob/custom-base/notebooks/custom_kinfraglib/1_1_custom_filters_unwanted_substructures.ipynb)"
   ]
  },
  {
   "cell_type": "markdown",
   "id": "0cc5b943-2290-498f-8050-b740a440e3d2",
   "metadata": {},
   "source": [
    "#### 2.2.1. PAINS filter\n",
    "Remove fragments that can appear as false positive hits in HTS assays.\n",
    "\n",
    "[ J. Med. Chem. 2010, 53, 7, 2719–2740](https://pubs.acs.org/doi/abs/10.1021/jm901137j)"
   ]
  },
  {
   "cell_type": "code",
   "execution_count": 9,
   "id": "76cbf696-84a9-41fa-9c3d-f6cd725245b5",
   "metadata": {},
   "outputs": [],
   "source": [
    "fragment_library, _ = filters.unwanted_substructures.get_pains(fragment_library)"
   ]
  },
  {
   "cell_type": "markdown",
   "id": "ca4e28a6-9b05-4b64-aa73-8e32cafb1984",
   "metadata": {},
   "source": [
    "#### 2.2.2 Brenk filter\n",
    "Remove fragments containing substructures which do not enrich libraries for lead like compounds, defined by Brenk et al. ([ChemMedChem, 2008, 3(3),435--444](https://chemistry-europe.onlinelibrary.wiley.com/doi/full/10.1002/cmdc.200700139))."
   ]
  },
  {
   "cell_type": "code",
   "execution_count": 10,
   "id": "c2259261-f754-40b7-aa14-95c9af5e345e",
   "metadata": {},
   "outputs": [
    {
     "name": "stdout",
     "output_type": "stream",
     "text": [
      "Number of unwanted substructures in Brenk et al. collection: 104\n"
     ]
    }
   ],
   "source": [
    "fragment_library, brenk_structs = filters.unwanted_substructures.get_brenk(\n",
    "    fragment_library, PATH_DATA_BRENK\n",
    ")"
   ]
  },
  {
   "cell_type": "markdown",
   "id": "bbd034f4-5b12-4a4d-adba-67d8e1fb4acf",
   "metadata": {},
   "source": [
    "### 2.3. Apply filters for drug likeness\n",
    "For more information, check [/notebooks/custom_kinfraglib/1_2_custom_filters_drug_likeness.ipynb](https://github.com/sonjaleo/KinFragLib/blob/custom-base/notebooks/custom_kinfraglib/1_2_custom_filters_drug_likeness.ipynb)"
   ]
  },
  {
   "cell_type": "markdown",
   "id": "7caff38b-cafd-4b43-9243-d67d366edbd3",
   "metadata": {},
   "source": [
    "#### 2.3.1. Rule of Three filter\n",
    "Filter the fragments according to the Rule of Three ([Drug Discovery Today, 2003, 8(19):876-877](https://www.sciencedirect.com/science/article/abs/pii/S1359644603028319?via%3Dihub))."
   ]
  },
  {
   "cell_type": "code",
   "execution_count": 11,
   "id": "e8ededec-2f36-49c5-8f4a-31d36d8383ea",
   "metadata": {},
   "outputs": [],
   "source": [
    "fragment_library = filters.drug_likeness.get_ro3_frags(fragment_library)"
   ]
  },
  {
   "cell_type": "markdown",
   "id": "dfe2a2db-4955-4154-834c-60c3ed210fc0",
   "metadata": {},
   "source": [
    "####  2.3.2. Quantitative Estimate of Druglikeness filter\n",
    "The Quantitative Estimate of Druglikeness reflects the molecular properties ([Nat Chem. 2012 Jan 24; 4(2): 90–98](https://www.nature.com/articles/nchem.1243))."
   ]
  },
  {
   "cell_type": "code",
   "execution_count": 12,
   "id": "36a60b40-8fb5-4fc0-b00c-976705253af5",
   "metadata": {},
   "outputs": [],
   "source": [
    "fragment_library = filters.drug_likeness.get_qed(fragment_library, cutoff_val=0.492)"
   ]
  },
  {
   "cell_type": "markdown",
   "id": "3f35c52a-abd6-484d-8d9e-08128f168f48",
   "metadata": {
    "tags": []
   },
   "source": [
    "### 2.4. Apply filters for synthesizability\n",
    "\n",
    "For more information, check [/notebooks/custom_kinfraglib/1_3_custom_filters_synthesizability.ipynb](https://github.com/sonjaleo/KinFragLib/blob/custom-base/notebooks/custom_kinfraglib/1_3_custom_filters_synthesizability.ipynb)"
   ]
  },
  {
   "cell_type": "markdown",
   "id": "49834ec2-0c9f-42af-82a5-29bef4c522a3",
   "metadata": {},
   "source": [
    "#### 2.4.1. Filter for buyable building blocks\n",
    "Building blocks can be used to synthesize molecules on demand.\n",
    "\n",
    "**Note**: A description to the generation of the `\"/filters/DataWarrior/Enamine_Building_Blocks.sdf\"` file used in this function can be found in the [README](https://github.com/sonjaleo/KinFragLib/blob/review-update/data/filters/DataWarrior/README.md) file in the `\"data/filters/DataWarrior\"` directory."
   ]
  },
  {
   "cell_type": "code",
   "execution_count": 13,
   "id": "f6b5c7c3-a54a-4300-87fb-6ff3dbf98a94",
   "metadata": {},
   "outputs": [
    {
     "name": "stdout",
     "output_type": "stream",
     "text": [
      "Number of building blocks: 1562\n"
     ]
    }
   ],
   "source": [
    "fragment_library = filters.synthesizability.check_building_blocks(\n",
    "    fragment_library,\n",
    "    str(str(PATH_DATA_ENAMINE) + \"/Enamine_Building_Blocks.sdf\"),\n",
    ")"
   ]
  },
  {
   "cell_type": "markdown",
   "id": "74d78673-5f57-4e82-8111-49936fcf3271",
   "metadata": {},
   "source": [
    "#### 2.4.2. Filter for Synthetic Bayesian Estimation\n",
    "The Synthetic Bayesian Estimation is a fragment based estimate, determining whether a molecule is easy or hard to synthesize.\n",
    "\n",
    "[(J Cheminform 12, 35 (2020))](https://jcheminf.biomedcentral.com/articles/10.1186/s13321-020-00439-2) "
   ]
  },
  {
   "cell_type": "code",
   "execution_count": 14,
   "id": "7f9edb39-3542-4d4b-914e-f9cea422f643",
   "metadata": {},
   "outputs": [],
   "source": [
    "fragment_library = filters.synthesizability.calc_syba(fragment_library, cutoff=0)"
   ]
  },
  {
   "cell_type": "markdown",
   "id": "b6f96499-9758-4e62-91c2-6acf3e0741c5",
   "metadata": {
    "tags": []
   },
   "source": [
    "### 2.5. Process filtering results\n",
    "* 2.5.1. Check which fragments pass all filters applied\n",
    "* 2.5.2. Save the values computed by each filtering step"
   ]
  },
  {
   "cell_type": "markdown",
   "id": "2db5b757-427b-4a82-a84f-6d071c748ff1",
   "metadata": {},
   "source": [
    "#### 2.5.1. Check which fragments pass all filters applied"
   ]
  },
  {
   "cell_type": "markdown",
   "id": "5d8015d5-75ea-4040-ab7a-7c4387630e8d",
   "metadata": {},
   "source": [
    "Check which fragments pass all filters applied."
   ]
  },
  {
   "cell_type": "code",
   "execution_count": 15,
   "id": "33791673-b26c-4ce3-85d1-ea2f2f69f95a",
   "metadata": {},
   "outputs": [
    {
     "data": {
      "text/plain": [
       "(3505, 27)"
      ]
     },
     "execution_count": 15,
     "metadata": {},
     "output_type": "execute_result"
    }
   ],
   "source": [
    "fragment_library = filters.analysis.number_of_accepted(\n",
    "    fragment_library, columns=[\n",
    "        \"bool_pains\",\n",
    "        \"bool_brenk\",\n",
    "        \"bool_ro3\",\n",
    "        \"bool_qed\",\n",
    "        \"bool_bb\",\n",
    "        \"bool_syba\",\n",
    "    ],\n",
    "    min_accepted=6)\n",
    "pd.concat(fragment_library).reset_index(drop=True).shape"
   ]
  },
  {
   "cell_type": "markdown",
   "id": "d36e754b-9081-490d-b3d6-02cc81a07142",
   "metadata": {},
   "source": [
    "Count number of fragments pre-filtered and accepted by all filters, or not accepted by at least one filter."
   ]
  },
  {
   "cell_type": "code",
   "execution_count": 16,
   "id": "7e6740cd-147b-4bc6-8a96-68926dfb50b8",
   "metadata": {},
   "outputs": [
    {
     "data": {
      "text/html": [
       "<div>\n",
       "<style scoped>\n",
       "    .dataframe tbody tr th:only-of-type {\n",
       "        vertical-align: middle;\n",
       "    }\n",
       "\n",
       "    .dataframe tbody tr th {\n",
       "        vertical-align: top;\n",
       "    }\n",
       "\n",
       "    .dataframe thead th {\n",
       "        text-align: right;\n",
       "    }\n",
       "</style>\n",
       "<table border=\"1\" class=\"dataframe\">\n",
       "  <thead>\n",
       "    <tr style=\"text-align: right;\">\n",
       "      <th></th>\n",
       "      <th>pre_filtered</th>\n",
       "      <th>accepted_filtered</th>\n",
       "      <th>rejected_filtered</th>\n",
       "    </tr>\n",
       "  </thead>\n",
       "  <tbody>\n",
       "    <tr>\n",
       "      <th>AP</th>\n",
       "      <td>1201</td>\n",
       "      <td>248</td>\n",
       "      <td>953</td>\n",
       "    </tr>\n",
       "    <tr>\n",
       "      <th>FP</th>\n",
       "      <td>1100</td>\n",
       "      <td>206</td>\n",
       "      <td>894</td>\n",
       "    </tr>\n",
       "    <tr>\n",
       "      <th>SE</th>\n",
       "      <td>743</td>\n",
       "      <td>179</td>\n",
       "      <td>564</td>\n",
       "    </tr>\n",
       "    <tr>\n",
       "      <th>GA</th>\n",
       "      <td>355</td>\n",
       "      <td>114</td>\n",
       "      <td>241</td>\n",
       "    </tr>\n",
       "    <tr>\n",
       "      <th>B1</th>\n",
       "      <td>47</td>\n",
       "      <td>13</td>\n",
       "      <td>34</td>\n",
       "    </tr>\n",
       "    <tr>\n",
       "      <th>B2</th>\n",
       "      <td>59</td>\n",
       "      <td>18</td>\n",
       "      <td>41</td>\n",
       "    </tr>\n",
       "    <tr>\n",
       "      <th>Total</th>\n",
       "      <td>3505</td>\n",
       "      <td>778</td>\n",
       "      <td>2727</td>\n",
       "    </tr>\n",
       "  </tbody>\n",
       "</table>\n",
       "</div>"
      ],
      "text/plain": [
       "       pre_filtered  accepted_filtered  rejected_filtered\n",
       "AP             1201                248                953\n",
       "FP             1100                206                894\n",
       "SE              743                179                564\n",
       "GA              355                114                241\n",
       "B1               47                 13                 34\n",
       "B2               59                 18                 41\n",
       "Total          3505                778               2727"
      ]
     },
     "execution_count": 16,
     "metadata": {},
     "output_type": "execute_result"
    }
   ],
   "source": [
    "num_fragments_filter = pd.concat([filters.analysis.count_fragments(\n",
    "    fragment_library,\n",
    "    \"pre_filtered\"),\n",
    "           filters.analysis.count_accepted_rejected(\n",
    "              fragment_library,\n",
    "              \"bool\", \"filtered\")],\n",
    "          axis=1)\n",
    "num_fragments_filter = pd.concat([num_fragments_filter, num_fragments_filter.sum().rename(\"Total\").to_frame().T])\n",
    "num_fragments_filter\n",
    "# NBVAL_CHECK_OUTPUT"
   ]
  },
  {
   "cell_type": "markdown",
   "id": "a23453ca-f1be-4b5e-931f-02e92cc050b3",
   "metadata": {},
   "source": [
    "#### 2.5.2. Save the values computed by each filtering step\n",
    "\n",
    "Save filtering results for analysis to [/data/filters/fragment_library_custom_filtered/custom_filter_results.csv](https://github.com/sonjaleo/KinFragLib/blob/fragment_pairs/data/fragment_library_custom_filtered/custom_filter_results.csv)."
   ]
  },
  {
   "cell_type": "code",
   "execution_count": 17,
   "id": "79c48c15-1328-4b56-b5f4-4e4051d37dd4",
   "metadata": {},
   "outputs": [],
   "source": [
    "columns = [\n",
    "    \"bool_pains\",\n",
    "    \"bool_brenk\",\n",
    "    \"bool_ro3\",\n",
    "    \"bool_qed\",\n",
    "    \"qed\",\n",
    "    \"bool_bb\",\n",
    "    \"bool_syba\",\n",
    "    \"syba\",\n",
    "]\n",
    "filters.retro.save_filter_results(fragment_library, columns, PATH_DATA_CUSTOM)"
   ]
  },
  {
   "cell_type": "markdown",
   "id": "a971c87a-b3a9-46dd-90b8-d1bf0cb161ea",
   "metadata": {},
   "source": [
    "### 2.6. Remove fragments not passing the previous filtering steps"
   ]
  },
  {
   "cell_type": "markdown",
   "id": "54a63bbf-652a-4237-bb9a-8620d61058f2",
   "metadata": {},
   "source": [
    "We are removing the fragments not passing the previours filtering steps, namely\n",
    "* PAINS filter\n",
    "* Brenk filter\n",
    "* Rule of Three filter\n",
    "* QED filter\n",
    "* Building Block filter\n",
    "* SYBA filter\n",
    "\n",
    "to reduce the number of fragments used in building fragment pairs to avoid the combinatorial explosion and enable the use of the pairwise retrosynthesizability."
   ]
  },
  {
   "cell_type": "code",
   "execution_count": 18,
   "id": "bfc64f6d-282f-44b7-80e4-22a219405081",
   "metadata": {},
   "outputs": [
    {
     "data": {
      "text/plain": [
       "(778, 27)"
      ]
     },
     "execution_count": 18,
     "metadata": {},
     "output_type": "execute_result"
    }
   ],
   "source": [
    "for subpocket in fragment_library.keys():\n",
    "    fragment_library[subpocket].drop(\n",
    "        fragment_library[subpocket].loc[fragment_library[subpocket]['bool'] == 0].index,\n",
    "        inplace=True,\n",
    "    )\n",
    "    fragment_library[subpocket] = fragment_library[subpocket].reset_index(drop=True)\n",
    "pd.concat(fragment_library).reset_index(drop=True).shape"
   ]
  },
  {
   "cell_type": "code",
   "execution_count": 19,
   "id": "e50df849-7063-40a8-8345-95b40531c7c6",
   "metadata": {},
   "outputs": [
    {
     "data": {
      "text/html": [
       "<div>\n",
       "<style scoped>\n",
       "    .dataframe tbody tr th:only-of-type {\n",
       "        vertical-align: middle;\n",
       "    }\n",
       "\n",
       "    .dataframe tbody tr th {\n",
       "        vertical-align: top;\n",
       "    }\n",
       "\n",
       "    .dataframe thead th {\n",
       "        text-align: right;\n",
       "    }\n",
       "</style>\n",
       "<table border=\"1\" class=\"dataframe\">\n",
       "  <thead>\n",
       "    <tr style=\"text-align: right;\">\n",
       "      <th></th>\n",
       "      <th>subpocket</th>\n",
       "      <th>smiles</th>\n",
       "      <th>ROMol</th>\n",
       "      <th>ROMol_dummy</th>\n",
       "      <th>ROMol_original</th>\n",
       "      <th>kinase</th>\n",
       "      <th>family</th>\n",
       "      <th>group</th>\n",
       "      <th>complex_pdb</th>\n",
       "      <th>ligand_pdb</th>\n",
       "      <th>alt</th>\n",
       "      <th>chain</th>\n",
       "      <th>atom_subpockets</th>\n",
       "      <th>atom_environments</th>\n",
       "      <th>smiles_dummy</th>\n",
       "      <th>fragment_count</th>\n",
       "      <th>connections</th>\n",
       "      <th>connections_name</th>\n",
       "      <th>bool_pains</th>\n",
       "      <th>bool_brenk</th>\n",
       "      <th>bool_ro3</th>\n",
       "      <th>bool_qed</th>\n",
       "      <th>qed</th>\n",
       "      <th>bool_bb</th>\n",
       "      <th>bool_syba</th>\n",
       "      <th>syba</th>\n",
       "      <th>bool</th>\n",
       "    </tr>\n",
       "  </thead>\n",
       "  <tbody>\n",
       "    <tr>\n",
       "      <th>0</th>\n",
       "      <td>AP</td>\n",
       "      <td>Nc1c[nH]c2ncccc12</td>\n",
       "      <td><img data-content=\"rdkit/molecule\" src=\"data:image/png;base64,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\" alt=\"Mol\"/></td>\n",
       "      <td><img data-content=\"rdkit/molecule\" src=\"data:image/png;base64,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\" alt=\"Mol\"/></td>\n",
       "      <td><img data-content=\"rdkit/molecule\" src=\"data:image/png;base64,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\" alt=\"Mol\"/></td>\n",
       "      <td>AAK1</td>\n",
       "      <td>NAK</td>\n",
       "      <td>Other</td>\n",
       "      <td>5l4q</td>\n",
       "      <td>LKB</td>\n",
       "      <td>A</td>\n",
       "      <td>A</td>\n",
       "      <td>AP AP AP AP AP AP AP AP AP AP AP AP AP AP AP F...</td>\n",
       "      <td>16 16 16 16 16 16 16 16 16 16 16 16 16 5 5 na na</td>\n",
       "      <td>[11*]c1cnc2[nH]cc(N[27*])c2c1</td>\n",
       "      <td>3</td>\n",
       "      <td>[FP, SE]</td>\n",
       "      <td>[AP=FP, AP=SE]</td>\n",
       "      <td>1</td>\n",
       "      <td>1</td>\n",
       "      <td>1</td>\n",
       "      <td>1</td>\n",
       "      <td>0.565900</td>\n",
       "      <td>1</td>\n",
       "      <td>1</td>\n",
       "      <td>30.950959</td>\n",
       "      <td>1</td>\n",
       "    </tr>\n",
       "    <tr>\n",
       "      <th>1</th>\n",
       "      <td>AP</td>\n",
       "      <td>Nc1ncnn2cccc12</td>\n",
       "      <td><img data-content=\"rdkit/molecule\" src=\"data:image/png;base64,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\" alt=\"Mol\"/></td>\n",
       "      <td><img data-content=\"rdkit/molecule\" src=\"data:image/png;base64,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\" alt=\"Mol\"/></td>\n",
       "      <td><img data-content=\"rdkit/molecule\" src=\"data:image/png;base64,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\" alt=\"Mol\"/></td>\n",
       "      <td>AAK1</td>\n",
       "      <td>NAK</td>\n",
       "      <td>Other</td>\n",
       "      <td>8gmd</td>\n",
       "      <td>ZRR</td>\n",
       "      <td></td>\n",
       "      <td>A</td>\n",
       "      <td>AP AP AP AP AP AP AP AP AP AP AP AP AP AP GA FP</td>\n",
       "      <td>14 14 14 14 14 14 14 16 14 14 14 14 5 5 na na</td>\n",
       "      <td>*Nc1ncnn2ccc([25*])c12</td>\n",
       "      <td>6</td>\n",
       "      <td>[GA, FP]</td>\n",
       "      <td>[AP=GA, AP=FP]</td>\n",
       "      <td>1</td>\n",
       "      <td>1</td>\n",
       "      <td>1</td>\n",
       "      <td>1</td>\n",
       "      <td>0.563803</td>\n",
       "      <td>1</td>\n",
       "      <td>1</td>\n",
       "      <td>28.754427</td>\n",
       "      <td>1</td>\n",
       "    </tr>\n",
       "    <tr>\n",
       "      <th>2</th>\n",
       "      <td>AP</td>\n",
       "      <td>CNc1ncnc2[nH]ccc12</td>\n",
       "      <td><img data-content=\"rdkit/molecule\" src=\"data:image/png;base64,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\" alt=\"Mol\"/></td>\n",
       "      <td><img data-content=\"rdkit/molecule\" src=\"data:image/png;base64,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\" alt=\"Mol\"/></td>\n",
       "      <td><img data-content=\"rdkit/molecule\" src=\"data:image/png;base64,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\" alt=\"Mol\"/></td>\n",
       "      <td>ACK</td>\n",
       "      <td>Ack</td>\n",
       "      <td>TK</td>\n",
       "      <td>4ewh</td>\n",
       "      <td>T77</td>\n",
       "      <td></td>\n",
       "      <td>B</td>\n",
       "      <td>AP AP AP AP AP AP AP AP AP AP AP AP AP AP AP A...</td>\n",
       "      <td>14 14 14 14 14 14 14 14 14 16 14 5 5 4 4 4 na ...</td>\n",
       "      <td>[26*]c1[nH]c2ncnc(NC[54*])c2c1[37*]</td>\n",
       "      <td>11</td>\n",
       "      <td>[FP, SE, FP]</td>\n",
       "      <td>[AP=FP, AP=SE, AP=FP]</td>\n",
       "      <td>1</td>\n",
       "      <td>1</td>\n",
       "      <td>1</td>\n",
       "      <td>1</td>\n",
       "      <td>0.633912</td>\n",
       "      <td>1</td>\n",
       "      <td>1</td>\n",
       "      <td>38.386371</td>\n",
       "      <td>1</td>\n",
       "    </tr>\n",
       "    <tr>\n",
       "      <th>3</th>\n",
       "      <td>AP</td>\n",
       "      <td>c1cnc2ccnn2c1</td>\n",
       "      <td><img data-content=\"rdkit/molecule\" src=\"data:image/png;base64,iVBORw0KGgoAAAANSUhEUgAAAMgAAADICAIAAAAiOjnJAAAABmJLR0QA/wD/AP+gvaeTAAAY5ElEQVR4nO2de1hT5xnA30QiCAHBC+AFlYKIt1oVhytu1IIFa2a3tbH2gVi3tWlrbbAOGy9PF63djHZq0D2u1NqaCl0X9+xpo9NVtNjSCgqWdqKIXLxxERAQCQiE5N0fJw2IEHI530ki3+8vzfnO970hv5zzne99cw4PEYFCYRu+swOgPJxQsShEoGJRiEDFohCBikUhAhWLQgQqFoUIVCwKEahYFCJQsShEoGJRiEDFohCBikUhAhWLQgQqFoUIVCwKEahYFCJQsShEoGJRiEDFohCBikUhAhWLQgQqFoUIVCwKEahYFCJQsShEoGJRiEDFohCBikUhAhWLQgQqFoUIVCwKEahYFCJQsShEoGJRiEDFohCBikUhAhWLQgQqFoUIHs4OgNI3VVWwdy8AwJIl8Itf9N76ww/w2WcQHg4vvcR9aFbBow8QcE3On4eoKACACRPg4kUQCu/b+umnkJQEcXFw8qRTohsYeip0dW7cgK1bnR2E7VCxXJqxYyEgAHbvhgsXnB2KjVCxXBo/P9iwAfR6ePVVMBqdHY0tULFcnZQUiIiAM2fgwAFnh2ILVCxXZ+hQeO89AID166GuztnRWA0Vyw1YuhQWL4bGRkhNdXYoVkPFcg/27gUvL8jIgOxsZ4diHVQs9yAsDORyQITVq0Gvd3Y0VkDFchs2bICICLh0CT74wNmhWAEVy+W4fRv6zIZ4ekJaGgDA5s3Q3Nz9en193+2dCxXLhdDrIS0NwsPhH//ou0FiIvz2t3D7NuzcaXrFaISnn4b58yEvj7MwrYKK5SocOQLTp8OaNdDcDF9/3W8zlQqEQigvN/23rAxu3oRz5yAmBl56CWpruQl2YKhYzqekBEQiWLoUSkshIgKOHoX09H4bh4TA2293/zciAsrLQaEAgQAOHICwMNi8GTo6OIh6IJDiPBobUS7HoUMRAP39UanEjg7TpoICBMDIyD720utx5kwEwLi47hdLS1EsRgAEwPBw1Gi4iN8CVCznYDCgWo2BgQiAfD5KJFhbe1+D1lYsKMCior53r67GggIsKen9+smTJucA8Mkn8X//IxK8NVCxnMBXX+Gjj5o+/oUL8Ycf2Oxcr8f0dBw9GgHQwwOlUqyrY7N/K3GaWBcvXvz888/Dw8NlMllOTo7RaHRWJFxy4wZKJCalQkJQrSY1UEMDymTo4YEAGBCAKhXq9aTG6hPniNXW1jZz5kw+v/vSITQ0NDU1NTc392E1TKdDhQK9vBAAvb1RocB794gPWlyMiYkmjyMj8dgx4iOacY5Yq1atAoDJkyd/+eWXMpls3LhxZsNGjx4tkUi0Wq2e468YMYxG1GhwwgQEQB4PxWK8fp3TALRaDAsz6SUSYVkZF4M6QayjR4/yeDxPT8/vv//e/GJRUZFCoZg8ebLZsJEjRzKGdZivlNyQ/Hx8/HHThxoVhd9955wwOjtRpUI/PwRAgQBlMmxuJjsi12JVVlaOHDkSANLS0vpswBg2depUs2EBAQESiUSj0eh0Oo6jdYSqKpRKkc9HABw7FtPT0WBwckjV1d0hjRmD6enY1UVqLE7FMhgMTz75JAAsXrx4wLlUUVGRUqmMiYkxG+bt7S0SidRq9d27d7kJ2D7a2tr27Mn28UEA9PLCTZvQpb4RZ8/i/Pnma1L9mTNnSIzCqVhbtmwBgKCgoFu3blm/V0VFhUqliomJ4fF4jGHDhg1jDLtz5w65aO1Dq9WGhoZ6eXmFhFSIRFhezsWgth54mGnfxIkYG/s5j8cTi8XXrl1jNyTuxDp79qxAIODz+VlZWfb1cP36dcYw8+Wkp6dnfHy8SqWq7bW86AwKCwtjY2OZwGbNmpWTw+ryVP8UFeHEiahWo63X0zod/ulPW728vADAx8dn69atbW1tbEXFkVhNTU2TJk0CgI0bNzreW11dnVqtFolEAoGA+SCHDBkSExOjUqmqq6sd799WGhoaZDLZkCFDAGDEiBEqlaqL3OTlAV5/3XRee/xxzM+3efebN29KJBLmbDB+/Hi1Ws3Kig9HYi1fvhwA5s2b19nZyWK3t2/fZgwbOnQoYxifz2cMq6ysZHGg/ujs7FSpVP7+/gAgEAikUml9fT0H4/bEaES1GoODTcsZEgnW1NjcyenTpx977DHmbxgdHZ2Xl+dgVFyIlZ6eDgDDhw+vqKggNERjY6NarRaLxT4+PubJ/rRp0xQKxZUrVwgNmpWVNX36dGas+Pj4ov4Se5zQcwHWx8eeBViDwaBWq4OCgpjvp0QisWkq3AviYl28eNHb2xsAMjMzSY+FiK2trVqtViKR+Pr69jLs0qVLbI1SUlIiEomYzidPnqxxei3BT/SscbAvZdTS0qJQKDw9PQFAKBQqFIr29nY7IiErVnt7O3OA/f3vf090oAdpa2tjDBs+fHhPw+RyeU5Ojt3dNjU1yeVy5u/u7++vVCrt+7sT5dSp+5LcP/5ocw9XrlwRi8WOfHPIirV69WoACA8Pt2blaefOnXK5/Ny5c+ymC9vb27OysmQyWWBgYM/UpK3Jb+ZMwXTi+JmCNExZDlPjwJTl2FHjkJWVNWPGDOYvFhcXd+HCBev3JSjWf/7znwdTNxZ45JFHmPcQEhIik8mysrLYTRd2dXXl5OTIZLIxY8aYDZswYQJjmMHiunh2dvasWbOYXWJjYwsLC1kMjBw9CwkDAu4rJLSSzs7O9PT0UaNGAYCHh4f1VyekxKqsrGSi2b17tzXtjUbj119/nZKSEhISYv7Ux4wZs2rVqlOnTrF79W4wGBjD+kx+97puJXQ1ziVFRRgfbzozLl26/cSJE7b2YMd6ChGxDAZDXFwcACQmJtrxMTDpwilTppg/9REjRhBKSDNjRUREmMcyJ7+bmpoUCgWzfujt7a1QKFhcP+Sezz/HZ54pY97j0qVLS0tLbe3h0qVLCQkJTA9Tp049fvy4hcZExNq6dSsABAUF1dixotID5lOfNm2a+VP39/cXi8VqtZr1hHRBQcGGDRt62swccXk8XnJyMjerYqRhVt2YqxmBQCCTyezIiR0+fJhZ6wYAC5Mc9sUyp27sOOT2R3l5eX/pQtYT0kzyOzIy0s/Pb+zYsbm5uez273Ru375tPq+NHDnSjjzBvXv3Nm7cKBQKo6Oj+2vDslh37twJDQ0FgPXr17PbM8PVq1d7Gebl5UUiIX3w4EEAWLFiBYt9uhTnz5//xU83zZ0zZ84333xj0+63bt0CgMDAwP4asCzWCy+8AABRUVGkq/Nu3LihUqni4+M9PEw3fjanC1lZBXjoxWLQarXm85pIJLp69aqVO3Iq1v79+wFAKBSWPPi7JGLU19f3l5Cuqqqyu9tBIhYitra2KpVKoVDITDDkcnlLS8uAe3En1pUrV5gsSkZGBlt92kRDQ0OfCWmlUllme5n34BGLobKy0ryqMm7cuAFXVTgSq729ffbs2QCwcuVKVjp0hKamJo1GI5FIHkxIX7582cpOBptYDN988w3zOQKAQqGw0JIjsWQyGViduuEMc7rwwYT0xYsXLe87OMXCnzJXkyZNslxTyoVYx44d4/F4AoHA8SIeQrS1tf373/9OSkrqmZDet2+fhV0GrVgMAy5ADCiWo3ebqa2t/d3vfoeI27dvj46OdrA3QgwbNuw3v/lNRkZGQ0MDk8wJCgpiftZB6RNmlcsRHBLLaDQmJSXV1tYmJiauWbPGwVA4YMiQIQsWLEhLS6uqquq5yE5hHYfE2rZt26lTpwIDAz/++GPziqVb4Pg3kmIZ+8XKz8/fsmULn8/PyMgIDg5mMSbKQ4CdYjU3Nz///PN6vX7dunWLFi1iNybKQ4CdYq1aterq1atRUVHvvPMOuwFRHg7sEevAgQOffvqpUCjMzMw0L3NTKD2xWayysrI333wTAP7+97/3rI+jUHpim1gdHR3Lli1raWl58cUXk5OTCcVEeQiwTSy5XF5YWBgWFrZnzx5CAVEeDmwQ6/jx43v27BEIBJmZmX5+fuRiojwEWCuWOXWzbds2l03dUFwHq8QyGo3Jycm1tbUJCQlr164lHRPlIcAqsbZv337y5MnAwMCDBw+6V+qG4iwGFis/P3/z5s08Hu+jjz6iqRuKlXhY3qzT6ZKSkjo7O9etW7dkyRJuYnIFvLyenjevJjCwy9mBuCsDiPXqq6+WlpbOnTv33Xff5SYgF6G9fXR+PvS4dzPFNiydCj/++OPMzEyauqHYQb9ilZWVpaSkAMC+ffss1MTpdDqZTFZVVUUkOorb0q9Yp0+fbm1tffbZZyUSiYX9U1NT9+7dK5FIjEYjgfAo7kq/Yt29e9doNDY2Nlo2ZuvWrWPGjMnOzlYqlQTCo7gr/YqVnJwcHBycnZ3917/+1cL+o0ePPnjwIJ/PVygUZ86cIRAhxS3pVyzzcuimTZvyLD4i/amnnvrjH//Y1dW1fPnyxsZGAkFS3A9LV4UJCQlvvvlmV1dXUlLS3bt3LbT885//PH/+/Js3b77yyitsR0hxSwZYeVcqldHR0RUVFS+//LKFZgKBICMjw8/P71//+teBAwdYjZDilgwgFmOMr6+vRqP55JNPLLQMCwtj7jaTkpJSXFzMZowUN2TgXGF4eDhT1rdq1aqSkhILLZctWyaRSFpbW5ctW3bv3j3WYqS4IVZVN6xcuTIpKam1tZXJG1poyaymFhUVbdiwgaUIKW6JtYV+77//fkRExPnz5zdt2mShmTn/s2fPHq1Wy0aEFLfEWrHMxuzcufPo0aMWWjIZa0T8wx/+UF1dzUaQFPfDhpr3qKioLVu2MMbU1NRYaJmampqQkHD79u2UlA000zM4se1XOm+99daiRYvq6upWrlxpIdXD4/HUanVCwisnTuzZscPhGCluiG1i8fn8Q4cOBQcHnzhxYteuXRZaBgUFrV37vk43/O23ITfXsRgpbojNv4QOCgpiblq0cePGs2fPWmj51FOwdi10dUFyMjQ3OxAjxQ2x594NiYmJKSkper1+wFTPX/4C0dFQUQEW1+0pDyF23m1GqVTOnj27vLz8jTfesNBMIIDMTPDzg8OH4eBB+4aiuCV2iuXp6anRaHx9fT/55JOMjAwLLcPCYO9eAIDVq+HyZftGo7gf9t/RLzw8PC0tTSAQZGQ0lJVZarliBSQnQ2srJCVBR4fdA1LcCgfv2/z66yUAOG8e3v/4yN60tGBEBALg2rUODsgRFy7gtm149Kiz43BViN/n/c4dDA1FAHzrrQFaFhTg0KHI46FW6+CYRGhpwfJyLC/HPp8d3tiI5eVo3UNrBwVcPEDg3DkUCJDPxwGfT7h9OwLg6NFYXe34sCzz2Wemh9uuW9fH1nfeQQCUSjkPy1Uh/gABAJg3DzZvBqMRkpPh1i1LLVNTYdEiqK+HpCRw2VTP7t3www/ODsJ56HS6Q4cOOd4PC2IBwPr1EB8PdXWwciUg9j8YHzIyIDgYsrNh505WRmYZHx/o6oJVq1zXe3Ig4uHDh6dPn75ixYoTJ0442Bs7YjHGBAXBl1/C7t2WWgYGwkcfgUAAXS55V4TYWJg/H3Jz4cMPnR0Kt+Tl5f385z9ftmzZjRs3oqOjmedhOwSL591jx5DHQ4EAB3xYk8UHSzkHZo61ZAlmZyMABgRgzwe1PsRzrKqqKqlUyufzAWDs2LHp6ekGg2HAvbiYY5lZvBjeeAP0ekhOhpYWSy0nTmRxWJZ54gkQi6GpCVJTnR0KYTo7O9PS0iIjIz/44AMPDw+ZTFZcXGyWzEHYFAsAduyA2bOhrAxkMnY75pT33gNvb8jMhFOnnB0KMY4cOTJ16tQ1a9a0tLSIRKLi4uK0tDQWby3LslienvDPf4KvLxw8CJmZ7PbNHRMnwqZNgAivvQbt7c6Ohm2Ki4sTExOXLl1aUVExderU//73v0eOHHnkkUes76GhoUGhUPj7+8fGxvbbiNXztYn9+xEAhULk8KHjjmKeYzF0dOCUKQiA776L+LDMsRoaGmQyGfPksxEjRqhUqgEfeNmLjo6OHTt2MAe2oUOHFhYW9teSiFiI+MILCIBRUdjRQWgEFmhuxsxMfPZZrKvrLRYinj6NPB56e+P1624vVmdnZ3p6OnOt5+HhIZVK621PI2RlZU2bNo05HsXHx1t+/DEpscypnvXrCY1gP42NqFajWIze3qbV9v37+xALEZcvRwCUSNxbrKysrBkzZjBCxMXFXbhwwdYeLl++/PTTTzM9REREHLUih0pKLEQ8e9baVA833LqF77+Pixahh4fJpyFDcOFC/NvfsKamb7FqanD4cOTx8JlnusV66SX84gunvAObuXLlilgsZoSYPHmyRqOxtYfGxka5XM7czzEgIECpVHZYdw4iKBYibt2KABgUhDU1RMexxM2bmJ6OItF9PsXEoEp1X1R9ioWIu3aZ9mLEOnbM9O9Fi7CoiMv3YRstLS0KhcLT0xMAhEKhQqFo7zO73j/M4+wDAwMBgM/nSySS2tpa63cnK5bBgHFxCICJiWg0Eh2qN9euoUqFMTHI45lU8PJCkQjT07HPv09/Yun1+Nhj3WLp9ZiejqNHIwB6eKBUinV1HLwbG2CECAoKMgtxq+dSr3V89dVXjz76KHOoW7hw4Y8//mhrD2TFQsTKShw1CgFw927SQyEiVlT09mnYMBSJUK3G5mZLO/YnFiJ++62pN/Mcq7ERZTLTITAgAFUq1OvZfy92kJeXZ34gTXR0dN6AOZAHuHHjhvnmoCEhIWq12r5IiIuFiF98gaNGkZ2XFBWhQoFz53aftry9TT61tFjVQ34+SqW4d2/fW3ftQqkUDx2678XiYly82DTclCl47Jij78IRbt68KZFImOeGjB8/Xq1WG208R+h0OoVC4eXlBQA+Pj4KheLevXt2x8OFWIgDHC3shvEpMrLbp4AAlEhQq+27Xo8EWi2GhZlGF4mwrIyjcc20trYqlUqhUAgA3t7ecrm8xcov008YjUaNRjNhwgQA4PF4YrH4+vXrDkbFkViI+P33GBCAAQF9VydrNBgQgL/+9cD9GAxYUIAKBU6e3O3TyJEmn5yybNbZiSoV+vkhAAoEKJOR+iL1ghFi4k+ZV5FIdM329P65c+cef/xxpoeoqKjvvvuOldi4E+vcOZMEfH4f5Q8ZGQiA8fH97m4wYE4OymQ4bly3T+PHo1SKWq1LTHGqq1EqxSFDEABHjUKVCm1c1raNgoKCBQsWMELMmTMnJyfH1h7sq2uwEq7FYia8UVG9/+j9idXVZfIpOLjbp4kTUSbDnByurzSt4fx5XLDAFOecOWj7xz0w1dXVUqmUycyMGjXKvsyMSqXy9fVlMjMymezu3bvsBsm1WFOn4sKFCIB79ty3tZdY9+6hVotSKQYGdvsUGuq6PvXEaESNBidO7J54sVV/ZjQalUolI4Snp6dcLrdDCK1WGxoaaj57VlRUsBPc/ThBrNxc5PHQzw+rqrq3msUqLcXnn0df326fZs3CLVtcejWyT1pbUalEodB0iSqXW3t9aplf/epXjBBltl8mFBYW/vKXv2SUYuoaWAioH5wgFiJKJAiAy5Z1bzWLVVODfD4C4LRpqFBgcTFnARLh2jUUi7vP4BqNo9Ou0tLSrKwsW/dyvK7BVpwjVlWV6Zh0/Lhpa89TYWamK9YuO0JeHkZHIwA+8cS39q1b2k1nZ6dKpfL39wcAgUAgk8mampo4GNc5YiHie++ZvsQ6HaIVV4XuTlcXfvihYdKkGUym5eWXX7Yp9WYfWVlZ06dPNxe6FHE4n3CaWHo9zpiBAPj224iDQCwGx3PDVlJSUiISicyFLkeOHCExigWcJhYi5uQgj4deXlhRMVjEYnC8msUCTU1Ncrmccdff31+pVBJy1zLOFAsRX3wRAfC55waXWAyO19/14sFCFzvqGtjCyWLV1mJAAALga68NOrEQUa/XO14xzJCdnT1r1ixG09jYWAvV6NzgZLEQcd8+U4ptEIrF8OBagN6WFJXjdQ0kcL5YBoPpUnzQisVw6dKlhIQE5pATGRl53LwS0z+tra3mQhdvb2+FQtHW1sZBqNbgfLEQsaDAlLsdzGIxaLVa80/8RCJReXl5n80eLHSxo66BKNyJdfEizp2Lzz3X99aNG3HuXHztNc7CcV2YDLH5t3symaz5/iqc/Pz8mJgYRr65c+d+++23zgrVAtyJRbGJnjUtY8aMYWpamLqGXi86O9K+oWK5NLm5uT/72c+Yg1NYWJiPjw8AeHl5bdiwwdYyUY6hYrk65unU9OnTeTyehYmXS8FDC3fgo7gMOp2uvr5ep9PNnDnT2bFYBRWLQgSWb2NEoTBQsShEoGJRiEDFohCBikUhAhWLQgQqFoUIVCwKEahYFCJQsShEoGJRiEDFohCBikUhAhWLQgQqFoUIVCwKEahYFCJQsShEoGJRiEDFohCBikUhAhWLQgQqFoUIVCwKEahYFCJQsShEoGJRiEDFohCBikUhAhWLQgQqFoUIVCwKEahYFCJQsShEoGJRiEDFohCBikUhAhWLQoT/AyPFdf5C1elYAAAAu3pUWHRyZGtpdFBLTCByZGtpdCAyMDIxLjA5LjUAAHice79v7T0GIOBlQABOIOYC4gZGNocMIM3MjIXB7qABZrBBaBYYHyGOroObgTGDiYEpgZE1gYk5g4mZJYGFNYGFI4OJlS2BjT2DiZ0jQYSJjQEowcrIysbKwsEuXgbUyQh3FmufsAMDg8N+EEfzaoM9A8MBMBsqbo8kDmY/PDZ1H0wcygar5+W5s/9cyGwwO79Y7QDQp6pI4mD1YgA8nCl3gf9nqAAAAR16VFh0TU9MIHJka2l0IDIwMjEuMDkuNQAAeJx9kttqwzAMhu/zFHqBGvkgO77MoYwxmsCW7baU3awwBoW8P5VaEqVss5OA9PvLH1mKv4T5ePqem+Pn1+n801Yg67V/Oc+wLtdXrGPhzjnDh0fE6gASQLt/eh6gm5p2UbrxfZjeIINFuF2PaDONh0Wx0IEzHomChx2aROzMbxjEe7CAjkHLaiQk2FlD+A/ot44FwwCDGhb8iP24MJcd+aJhZEMFS2dJQlqTbLa2lshZT47+IGv5uDMRMeW42f8FZgFXy4LjfugfBnAfSTsOvY4k8OO08ZJ6bW9gKWoXg0jaLBFIW8KJwumWZj1cYCLpEQIT9VqGmNdKS+HbMiVffjqOqytILYv/2VG1QQAAAL56VFh0U01JTEVTIHJka2l0IDIwMjEuMDkuNQAAeJxdzTEOwjAMBdCrMIKURrZTJ22ZuEGvAFEHhJpUUJh6eEKlAvZi6f8nfUeMiVKMsRzcLXuyDphrU4ENbI5oATyjqdCWVEpqiZ3buNQBW6SPEzp2pSLrARoDf/rD74CcX9e31ysdzHnOY3/PUwf28bxMOd6G2Z76Eof0ut5zGoc0W/QdSkftJJ20O+lOey291s7SWbuX7rUH6UF7I71RvrwBeHaHOhE7t/MAAAAASUVORK5CYII=\" alt=\"Mol\"/></td>\n",
       "      <td><img data-content=\"rdkit/molecule\" src=\"data:image/png;base64,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\" alt=\"Mol\"/></td>\n",
       "      <td><img data-content=\"rdkit/molecule\" src=\"data:image/png;base64,iVBORw0KGgoAAAANSUhEUgAAAMgAAADICAIAAAAiOjnJAAAABmJLR0QA/wD/AP+gvaeTAAAX1UlEQVR4nO2deVQUV9qHf03TLI0ISKAVxG7QiZ5IXIKKkAQwiis6g4KOYRxR55B8WdSoAYkYZzQLLigzMR4xkcTELSQxiaLG4HGJDmEwxA0kUWQV2ZtFQOntfn+UQbqByFJFd3Xd5y/7VtWtV8/j+966VXVLRAgBhcI2FsYOgGKeULEonEDFonACFYvCCVQsCidQsSicQMWicAIVi8IJVCwWCAoKioyMNGhcu3btiBEjjBGOSUDFYoHq6uq6ujqDxoaGhsrKSqPEYwpQsSicQMWicIKlsQMwE5qamm7evNm2pb6+3ljBmAIi+nRD7/H29s7JyWnf7uTkpFQq+z4eU4CWQnaYOnVqkT6LFi0ydlDGhJZCdrC1tR0yZEjbln79+hkrGFOAZiwKJ1CxKJxAxaJwAr0qZIGLFy9KpdKRI0e2tLT079+fabxx40ZZWdnkyZONG5uxoGKxxunTp4ODg2fOnHn8+HFjx2J8aClkjaKiIgCurq7GDsQkoGKxRnFxMQC5XG7sQEwCKhZrMBnLYDZLsFCxWIPJWFQsBioWa9CM1RZ6VcgOOp3O1tZWrVY3NTXZ2toaOxzjQzMWO5SXl6tUKldXV2oVAxWLHWgdNICKxQ50rsEAKhY70IxlABWLHehcgwFULHagpdAAKhY70FJoABWLHWjGMoBOkLJAQ0ODg4ODVCptamoydiymAs1YLMDUQZqu2kLFYgFaB9tDxWIBOnJvDxWLBegkVnuoWL1FpVKdPn0agIuLi7FjMSGoWL3i+vXrfn5+WVlZtra2V69eNXY4JgSdbughGo0mISHh7bffVqlUgwcPLi0tlUqlhYWFTzzxhLFDMwloxuoJOTk5fn5+a9euVavVUVFRubm506ZNa2pq2rlzp7FDMxkIpTtoNCQxca+1tTUAT0/Pc+fOMe3p6ekAHBwc6urqjBuhiUAzVje4fRuTJuHjj5/SarVRUVFXr14NDAwEoNVq7ezsAgIC6uvrk5KSjB2maWBss/mBVku2bye2tgQgQ4aQs2fzWjfl5eUFBAT079//s88+AyCTyZqbm40YqolAxSKEkCNHSHw8KSkxbPzkE0IIyc8nQUEEIAAJDydK5cMdtFrt9u3bmYfcPTw8MjIyxo0bB2Dnzp19HL8JQsUihJDQUAKQGTP0GufOJWPHkqQk0q8fAcjAgeTbbx9tvXVLExQ0icn6S5cuZYZWX3/9NSNZS0tL3/4NTA4qFiGEhIYSZ2ciEumpM3cuGT2aKBQEIBERjxKVTvfQtqCguIEDB37b5hidTuft7Q3gEybXCRgqFiGEhIaSZ58l4eFkyBBy797DRiZjnTtHjhx5tGdBAXnhhYdlMTKyRdmq2+8wI61hw4ZpNJq+Ct8UoWIR8rtYxcVEKiVr1jxsZMRqS2oqsbcnAJHJyDffdNyVRqMZNmwYgJSUFG6DNm3odMMjPDwQHY3ERHR2b2bkSAAID0d2Nv7yl473EYvFq1evBvDuu+8SAd/VoGLpERMDuRyvvIIOlVAocPUqUlLwx7dtlixZ4u7ufvXq1ZMnT3IUp+lDxdLDxga7diE9HQcOdLyDp+fjO7G2tn7jjTcAbNq0idXo+AQVy5CpUzF3LmJj0dzc805efvllFxeXjIyMc+fOsRYZr6BidUBiImprkZbW8x7s7Oxee+01AO+99x5rYfEKKlYHeHhg/Xpotb3qZMWKFQ4ODmlpaT/99BNLcfEJKhYAjBqFceP0WlatQng4fH173qeDg8PLL78MYMuWLb2LjpfQB/30SE/Hvn3w8UFUFAu9VVZWKhSKBw8eXLt2jZmRFw40Y+lx8yb27AFbtcvV1XXZsmWEkPj4+N70U11dnZ+fz05MfQUVSw+xGEBvR1dtiY6OtrKyOnz48K1bt3rcyfnz5z/44APWYuoTqFh6WFgAgE7HWoceHh4RERFarXbbtm2d7fPJJ5/MmDHjf//7HwCtVpuYmDhnzpzJkyd/8cUXqampS5YsaWhokEqlmzZt4tPEmJFvKZkYhw4RgPz1r2z2mZeXJxaLJRJJUVFR+61FRUUBAQHz58//4YcfCCEffvhhRERETU2NSqVSKpW1tbVpaWnz5s2bOHHi0aNHi4uL2YyMS2jG0oP1jAVg6NCh8+bNU6vViYmJBpsIIW+++WZcXJydnR3Tsnfv3n/+858DBgyQSCROTk6Ojo5isdjOzi4kJOS3337z8PBgMzIuoWLpwYVYAN566y2RSJSUlFRVVdW2/eDBgw4ODsHBwczP+/fvV1ZWJiYmTp482c/Pj5m1z8zMXLVq1auvvlpaWqpWq1mOjDuMnTJNiyNHCEBCQ9nvedasWQDi4uKYn0qlsry8fNy4cWVlZYSQJUuW/PDDD3V1dR4eHjdv3iSEpKen+/j4sB9HX0Ezlh4cZSwA69atA7B161Z3d/dRo0aNGTPm+PHjNjY2kZGR06dPT09P37Bhg1KptLW1Zb546OXlVV1dTXg7y0g/Nq4H69MNrYwbN44ZMN29e1cul6vV6rCwsKVLlzJbly5dunDhQk9Pz4ULF27YsCEyMvLTTz8NCQkRiUTsh9In0IylR+8zVkZGhq6j40+cOFFXV+fk5FRcXHz27Nnc3NzWb7ECCAwMHDx4MIC4uLjx48cfOHDA29s7ISGh53EYHWPXYtPi5EkCkOnTe3j47du3RSLR8OHDtVqtwabQ0FAAW7du7W2IPIFmLD16WQr37dtHCPH19bWw0PuHrampOXHihKWlZURERK9j5AdULD16UwoJIfv37wewePFig0379+9vaWmZPn36oEGDehsiT6Bi6dGbjHX27Nn8/Hy5XB4UFGSwad++fehIODOGiqVHbzIWY09kZKRBHczOzr58+fKAAQNmz57NQog8gYqlR4/FamxsPHLkiEgkWrRokcGmvXv3AnjxxReZxY8EAhVLjx6XwpSUlMbGxoCAgKFDh7Zt12g0hw4dgsDqIKhYBvQ4Y3366afoyJ7U1NSKioqRI0eOM3j22dyhYunRs4xVUFBw8eJFOzu7sLAwg02tAy9WwuMR9JaOHgoFkpIe86Jze5i1ZcLCwuzt7du2C3D66hHGnZ81Eb77jvj4kPXr9RqPHiU+PqSi4jHH6nQ6T09PAGfOnDHYtGPHDgAhISGsBssPaCkEgOpqZGXh3XeRkfGosaYGWVlQqR5z7JkzZwoKCuRyObMeaVsEWwdBx1htGTsWr73W7QFWZ9NX169fv3LlyoABA0JCQlgMki9QsR6xeTOuXMGHH3bjkMbGxm+++abD6avk5GQAERERgpq+aoWK9YgxY7BsGdavR2lpVw/54osvGhsbAwMD6fSVAVQsPd57D1ZWeOONru7f2U3AY8eOMdNXPj4+7EbIF6hYejg747338OWXXVpqpnX6at68eQabGOGWLFnCRZC8gIplyLJlmDgRK1dCo3nMnsnJyYSQ8PBwg+mryspK4U5f/Q4VyxALC+zahd9+w969AFBVhb/9rYNRl06nYxZIbl8HDxw4oFarZ8yYMXDgwL6I2DQx9kSaSbB3LwFIdfWjltdff/QpCoA4OpKPPyY63aMd0tLSACgUivZPIY8ePRrAV1991Sexmyg0Y3XMO+/AzQ0AYmMxdy7q6vCPfyAoCHl5D3fIzMwUiUSLFy82mL66fPny1atXnZ2dhTl99Qhjm20SHD1Kdu8m9+/rNWZkkKQk0thICCEpKcTFhQBEKiXx8YRJUvn5+RXt7visWLECwPLly/smcpOFikVKSohUSnx9yR9/tKuykixY8LA+BgSQW7ea2u+jUqmYL0NnZWVxFS5PoKXw4QLJCgVsbf9oNxcXHD6M1FQMHoyCAs3EiU9t3rxZq38DKDU1taqqytvb+5lnnuE2aNPH2GYbmawsYmFBrKxIXt7jd2ZQKsnq1Z8y/3q+vr45OTmtm+bMmQMgISGBk1h5Bf/EKiws/PXXXw0aq6qqrly5olaru9vb888TgKxd2+0wvv/++yFDhgCQSCQxMTEtLS0VFRUSicTS0pJZ50Pg8E+ssLCwJ5980qDxP//5D4Dy8vJudZWSQgDi6kp69h3npqammJgY5qpw1KhRK1euBDBnzpye9GV2CHeMpVLhrbcAYNMmODj0pAepVBofH3/69GkvL69r1679+9//hoDvOhsgXLESE5GXh6eewu8rvvSQSZMmZWdnR0dHOzg4KBSKmTNnshQgvxGoWFVVYL5FsmMHLHv93L+tre3mzZslEklhYaFSqex9eGYAL1+mqKurM1ie+scff+xWDwkJtfX1TjNnYupU1qLy9PSsqqoqLCx0Y+bshQ1fxdq1a1fbltra2q4fnpOTs337M889t33r1lcA1lY2UygUmZmZhYWF/v7+bPXJX3gplkKhyM3NbdvywQcfLF++vIuHr169Wq1WjRnz61NPsblenkKhAFBYWMhin/zFrMZY9+7du3Tp0h/vc/LkyVOnTjk6Om7YsIHds8vlcgBFRUXsdstTzEqs+Ph4X1/fv//97zU1NR3uoNVqo6OjAaxfv/6J7r6W+jhoxmqLWYnVr18/S0vLzz//3Nvb++DBg+13SEpKys7O9vLyevXVV1k/O/PaakFBAes98xGzEis2NjY7O3vKlCnl5eURERFBQUE3btxo3drQ0LBx40YA27Zt4+KVLIVCIRKJioqKOlzcVnAYe+q/22i12vYPbep0Oo1G0/rnffv2ubq6ApBIJMuXL29sbCSErFmzBkBgYCB3sclkMgB37tzh7hR8gX9idRGlUrl8+XLmRp6Xl1dycrK1tbWFhcWlS5e4O6mvry+AixcvcncKvmC2YjH897//HTVqVGt6joyM5PR0CxYsALB//35Oz8ILzGqM1R5/f/+srKzExERHR0eZTMY8N8wd9MKwFTMXC4ClpeWKFSuGDx9eUVFx7949Ts9FxWrF/MViYNZW4PrLyn/60/iAgP8TiaZwehZewMtbOj2AEev27ducnsXd3efHH33u3uX0JPxAKGJ5eXmho4xVVlb2/fff9+/fv/36Cz1AoYBIhOJi6HSwEEox6Bih/O07y1g3btxYunQp8/Bn77GxgUwGlQo0aQldLNbHXgoFANDhu1DEGjRokFQqraqqamhoaNvu4eFhZWV19+7d5uZmVk7k6QkA9IahUMQSiUTMXIBBchKLxXK5nBDC1hwBzVgMQhELnVc9di8Y5XIAoA9lCU6s9gIxF4xsiUVLIYOAxOpMIHbH77QUMghIrD4rhRYWKCnp+fd/zQPBicV1KbS2xsCBUKu7saa3WSIgsRQKhVgsLi4uVqvVbduHDh0qEokKCwvZevKTVkMISixra2t3d3eNRlNcXNy2XSqVymSylpaWUpaSDB2/Q1Bi4XHjd7aq4dNPw8fnMcu4mT3CEovr8fuxY/jmG0RH4+efMX/+w8bUVPzySy875h9CFKuz8XvvZxxeeglz5+KzzwwbP/64lx3zD2GJ1ZlALJZCqRRvvolOXpgVEMISqw9mHF58EQBiYnrfE78RlljDhg0Dx5PvDg545x0kJ+Pcud53xmOEJZajo6OTk1NjY2NlZWXbdplMZm9vr1Qqu7UcUmcsW4axY/H669CfLxMWwhILnVc9ZuUFVpKWWIxdu3DjBnbs6H1nfEVwYvXNHUNfXyxbhk2bhPuMskDF4vqOIYD334eNDeLi2OqPZwjlLZ1W+ubhGQDOzoiPx0svsbB4Lh8RaMbiuhQyLF2KCRPQ0sJil7xBoGJxVArlcgwY8OinSIRduzB0KNhePJAHiAghxo6hT9HpdFKpVKVS3bt3z87OrrVdrVbb29u7ubndunVLLBY/tp+mJqxdi9hYtK69vXMn8vPx9ttwdOQodl5h5NVujMHw4cMBXL9+3aBdpVJ1vZO4OAKQSZMe/qyoII6OBCDHj7MVJr8RXClE51VPIpF0sYf8fGzbBpEIGzc+bFm3DnV1mDUL9IsnDEIUq/cXgKtX48EDLFqE554DgMuXkZwMKyskJLAVI+8Roli9HKefOYNvv4W9Pd5/HwAIwYoV0OmwciWGD2cxTH4jRLF6k7E0GqxcCQBxcQ+H7QcP4sIFyGQPP1JHYRCuWDk5Oeru3yX+6KPPnJxyhg8Hs+hkc/NDnzZv7uFHD80WY189GIH09HSZTCaRSORyeVJSUvvFvTujqqrKyckJQGrqaablrbcIQHx8SJf7EApCFGvWrFkAnJ2dmf9aPj4+aWlpXTnwpZdeAjBlyhTmZ35+iZeXSiQiGRlchstPBCdWZmamSCTq169fWVlZSkoK87QMo8vPP//8BwdevnxZLBZbWlpmZ2czLaGhoba2A2JiqFYdIDixpkyZAmDdunXMz5aWlqSkJBcXFwAikSg8PPzWrVsdHhgYGAhg1apVzM/Tp08DsLe3Ly0t7aPQeYWwxLpw4QIABweHmpqatu1KpTImJsbW1haARCKJiooqKytru8OhQ4cAuLq61tbWEkLUavXTTz8NYMuWLX36F+APwhKLyTobN27scOudO3eioqIsLS0B2NnZxcTE1NXVMZsyMjJ8fHw++ugj5mdiYiKAoUOHPnjwoI9C5xsCEuvUqVPMmL2+vv4PdsvNzQ0PDxeJRMzO8fHxjD2tH4eqqalhBv6pqal9FDoPEZBYEydOBBAfH9+VnTMyMpj0BmDIkCFtZyWioqIABAcHcxks7xGKWMeOHQPg4uJy7969rh+VlpY2evRoRi9vb++UlJRffvlFLBZLJJJff/2Vu2jNAEGIpdPppk2bBmDHjh3dPVaj0SQnJ3t4eDB6MROka9as4SJOc0IQYh0/ftzDwyMsLOz+/fs966F1VsLJycnNza11UE/pDPO/V6jT6RISEjQaTUhIiI2NTc86sbKyioqKOn/+fG1trUajcaD3BR+H+Yt19OjR3Nxcd3f3hQsX9rKrESNG2NjYVFZWNjY2shKbGWPmYmm12u3btwNYtWqVlZVVL3tr/QoB/SLhYzFzsb766qu8vDyFQhEeHs5Khyy+iW/emLNYarWamSJfvXq1JUuvjTJiFQh8gdEuYM5iHT58uKioyMvL689//jNbfVKxuojZiqVWq3fu3AkgJiaGrXQF9haVNHvMVqzPP/+8pKRkxIgRzGN9bEEzVhcxW7EqKyslEklMTIwFq9/QZTJWQUEBEdgb5N3F3F6xP3r06IQJEwYOHAjgzp077u7uzHMKLOLs7KxUKisqKlxdXdnt2ZzgWcZSqVRtf+p0utY3bZhJy7179zY0NKjVakLI4MGDWbcKdMaha/BGrMLCwtmzZ0+bNs3Pz+/LL7/U6XQbN2709/d/4YUXli1b9uDBg/nz57/yyitisfjkyZMTJky4du0aR5G0VkOO+jcPeLMoWGZmZmxsrL+/f0FBwbRp05577jkbG5uffvoJwIIFC06cOPHdd99dvHhxzZo11dXVZ8+edeRszReasboCbzLW/Pnz/f39AZSWlspkskGDBkVHR4tEopaWlpqaGplMdv/+/S1btuzevTs9Pf0XLr8xQi8MuwJvxAJQVlY2Y8aMxYsXx8fHMy3/+te/xo4d6+3t/eyzz+p0uvnz548fPz4uLu4JLlc6o6WwSxj3qZ0ekJmZOWbMmObmZuZnfX19aGjo119/3WcB3Lx5E4BCoeizM/IR3mSs5uZm5g/jx4/XarXl5eVNTU0A+vfv7+fnl52d3WeRMB/ULCkp6cHSD8KBN4P3PXv25ObmTp069dKlS25ubgBmz569aNEisVh86NCh3bt391kkEonEzc2tpKSkpKSEKYuU9vBpgjQtLe3GjRtyuTw4ONjOzq6oqOjkyZMSieT5559/8skn+zKSoKCg8+fPp6WlMe9VUzrA2LWYl0RGRgLYs2ePsQMxXXgzxjIpvLy8RCJRVVWVsQMxXfhUCk2BU6dOKRQKNzc3Kysra2trpvHSpUsajcbPz8+4sZkUVKzuYW1t/frrr2/btq1tY3BwcH19fWZmprGiMkFoKaRwAhWLwglULAon8GaC1HS4cOFCbGxs25a8vDxmTUBKK1SsblNeXm4wTm9oaKBiGUDF6jbh4eEdXhUaKx7ThI6xKJxAxaJwAhWLwgl0jNU9ZDKZvb29QaOTkxOLL1ubB/SWDoUTaCmkcAIVi8IJVCwKJ1CxKJxAxaJwAhWLwglULAonULEonPD/MjivGCINc8sAAAFielRYdHJka2l0UEtMIHJka2l0IDIwMjEuMDkuNQAAeJx7v2/tPQYg4GVAAD4g5gfiBkY2Bw0gzcwCoxkZQDQjIzqfHcJnhonD+Oji6PoZDDQYQQKKQEKSA0g4luTn+pXm5GjIMGjDJPWwSXIzMGYwMTAnMDIxMLInAE1iZs1gYmVLYGNPYOPOYGLnSODgzGDi5GLg5E7gYWDg5mUQYWIDKmJjZ2TlYGfj5hTfBDIbihn4rBlj93+pbXLkWGPo5B3Ztt+lqtexcLaRkyHHmf0f1Cc4fhAzc9pnILlv4bU6RxEBXSeLH057dv7JdUzz0HHyeLjL7nl1m6PmHE2nXbe87CZLTHT0ztJyujKLbX/C0ymOOxj0nep6OPdvvDDPsfuvnpOVMpddWeEiR5NFWk4HV7TYNZxY5cg+X9PpToaCvZbVLMfCvepORs/W7Vf2KnVMMzd1Wsy4xv7f4VmOyreVnMQAvKhdtMBDLKAAAAHUelRYdE1PTCByZGtpdCAyMDIxLjA5LjUAAHicfZNLixsxDMfv+RQ6F2okS/Lj0EMeS1tKJtBke12WXrpQCoV8fyrZmbXn0kkOluanh/XX8F+5v7z+vu9ffv56fftz2IE/30/f3u7w/vBpZ378z7/WCj8YEXdn8AMcnj5/XeB42x9Wz/HyvNyuQAKkFmO/Lbu/Xc6rh+AIHzGUxJYTKAUmUjuJBKFiZUZwdJQCSk2O5pCK5I4mdXagDF8c1SqegUpAqi2rBo1RZlR6A/TIqqHG7IBwiEnzjKpnRctF1VEJJUvsKGbcoAkWwMBJsd+qELb6MQhGncls9a18NaJ1Spyxkwl5c6liOa28Ri0dTRSxl8+6LV8fKOc21RqKtp4dlZxmlLA3wOJAtKZR5dGAls2oiGwAGKJW7zVSYMl1vZXyBo0ta4op9QZibrmEQmXdyEoMH1wsTkm6ArYKqYvFKF4K4by/Xj8xv8eIxXj9NiFLz9KkEgyZmuaPEElryNNy2ixeX8XDZTmNVbSFhTjWzU0ZK2XvgMfaiJllrIZH65Df36ehsRmQh5BirjLEcpPipIgYU6exi0E0D5ecIppmKM0TpwmRuwfiLXqkzBOZ7+/2+hnbefcPuMjL7v8LLTIAAAFoelRYdFNNSUxFUyByZGtpdCAyMDIxLjA5LjUAAHicZZC9bgJBDIRfJSWgxbLXP7vLVRRRUiKlRBQEUUQRd4iQVDx8vEfDLc3teT5rNJ4t82J3oMNs+76b97G///hXbOGvC+TCy222JGAzCaTAjBbEXxTqlgjZmAMZMJEGERDKna+jFAuUwLKkKpvedS3ukgGpaHXRGKW6aNRcdaMYhCEpplHm5OYFslIZdUnWIRBLCRE9g0qQ6OZZXI5aKESPKqlUWVDZZYtm1SSm7NsEhbWrS5yryqIeECFRtaCSqeYgTqMxcnaVTeuJmVDvvlFrOhpvVCgxSU0XTcfUSJ6WBHKS8RpMmOZhfx1Om8twXiH8/H6eh8P38Qofrz4e+7+vy9Cfjv0V+v2KHvh64+MjJ1vFKY8t5ynnlsuUS8t1yrXlNuXW8jTlqeV5ynPLywN/W/vY9oNNQdg6UFvhU4fUlEhPLVJTI7U93v4Bm7XsrCXF5C4AAAAASUVORK5CYII=\" alt=\"Mol\"/></td>\n",
       "      <td>ACTR2</td>\n",
       "      <td>STKR</td>\n",
       "      <td>TKL</td>\n",
       "      <td>3q4t</td>\n",
       "      <td>TAK</td>\n",
       "      <td>A</td>\n",
       "      <td>B</td>\n",
       "      <td>AP AP AP AP AP AP AP AP AP AP AP AP SE GA</td>\n",
       "      <td>16 16 16 16 16 16 16 16 16 16 16 16 na na</td>\n",
       "      <td>[33*]c1cnc2c([46*])cnn2c1</td>\n",
       "      <td>11</td>\n",
       "      <td>[SE, GA]</td>\n",
       "      <td>[AP=SE, AP=GA]</td>\n",
       "      <td>1</td>\n",
       "      <td>1</td>\n",
       "      <td>1</td>\n",
       "      <td>1</td>\n",
       "      <td>0.511376</td>\n",
       "      <td>1</td>\n",
       "      <td>1</td>\n",
       "      <td>39.622898</td>\n",
       "      <td>1</td>\n",
       "    </tr>\n",
       "    <tr>\n",
       "      <th>4</th>\n",
       "      <td>AP</td>\n",
       "      <td>Nc1cc(C2CC2)[nH]n1</td>\n",
       "      <td><img data-content=\"rdkit/molecule\" src=\"data:image/png;base64,iVBORw0KGgoAAAANSUhEUgAAAMgAAADICAIAAAAiOjnJAAAABmJLR0QA/wD/AP+gvaeTAAATUUlEQVR4nO2dfVSUVR7Hv8PbiJiAAoIgBioIaFqsqIlailkuGmEjq+LLlpnKMbdNG0u3NKsz6rplbSUonjJFds4uppt6EkQTyKxAOSo6ICq6hjiAaCgvDnP3jwd5Z2aAufPMQ7/P8XCY+9zn3t8Mn7n3Pve591HGGANBmBsbsQMguickFsEFEovgAolFcIHEIrhAYhFcILEILpBYBBdILIILJBbBBRKL4AKJRXCBxCK4QGIRXCCxCC6QWAQXSCyCCyQWwQUSi+ACiUVwgcQiuEBiEVwgsQgukFgEF0gsggskFsEFEovgAolFcIHEIrhAYhFcILEILpBYBBdILIILJBbBBRKL4AKJRXCBxCK4QGIRXCCxCC6QWAQXSCyCCyQWwQUSi+ACiUVwgcQiuEBiEVwgsQgukFgEF0gsggskFsEFEovgAolFcIHEIrhAYhFcILEILpBYBBdILIILJBbBBRKL4AKJRXCBxCK4QGKZRGoq/vAHbN7cLHHRIqxbh1u3EBqK48ebHTp2DKGh0GotGKKVYSd2ANLg9m1kZ+PsWURGIiioPlGjgU6H2lrk5KCiomX+nBzU1lo+UmuBWqwOEB6OJUvAmNhxSAESqwNs2oQffsDXX4sdhxSgrrADhIQgLg6rViEyEn36NDuUldWs4/vpJwuHZnWQWG1TWYkLF3DuHC5cgI8PPD3r09evx7/+hdWrkZDQLH9SEg4caHb67xwJixUTA50Oe/agR4/6lBMnsGEDvvkGTk4dK6q2FgUFyMvD+fP1Py9ehF5ff3TsWPzlL/W/Oztj82YsWIBXXmlWwmefISqq8WVKCmbO7Myb6jZIWKyMDBQXQ6XCunX1KSUlSEuDTmfkRKE1anAoLw9FRS2H5A4OGDoUwcEICcETTzRrgebORWIi3niDRvGGkLBYAMLCoFJhzhwEBLSbx3BrJGBvjwED6jUSfg4bBrm8MYNa3fi7TIbPPsPIkbCzw+DB5n5L3QVpizVzJuzssHQp0tIgk9Unlpdj3z7jrVFQEIYNq/85aBDsOvJJBAfj9dexaZPZ3kj3Q9piAfjkE4SFYc8exMbWpxQX489/bsxgtDUyhQEDoFDA1rYx5Z13cOMGRo2CoyMiI+Hl1Sy/lxciI+Ho2Ln31C1gksXLi23cyBhjS5YwDw9WXs7UagawkhL2pz+xDRvYv//NLl5kDx7wCiA7my1YwKqqeJUvaSTfYgH48EOkpGDdOoSHA4Bcjr17LVHvokU4fRqPP44VKyxRnbToDjPvrq7YuBFffIGLFy1a73vvAcAHH+C33yxaryToDmIBWLAAo0fj73+3aKWRkRg7Flot/vlPi9YrCbqJWDIZvvgCVVWWrlelAoBNm3D7tqWrtnIkLNZjjzXeaQEwbBjWrkVoaLNrN95MmIDJk1FRgX/8w3KVSgIZk/j8cUoKPD0RFtaxiSgz8vPPGD0aTk4oLISHhzgxWCESbrEA6PWYOxfh4SJ0gg2MGoXISFRWYuNG0WKwQqTdYl29Cj8/eHvjf/8TM4yzZzFyJBwcUFAAHx8xI7EepN1iaTQADN0otAzDh0OhQHU1PvhA5EisB2mLlZ8PAIGBYscBbNgAOzskJqKwUOxQrIPuIJboLRaAIUMwbx4ePMD69WKHYh1IW6w2u8LcXMyZg8RESwfz7ruQy5GUhLw8S1dthUhbrDa7wpwc7N3bcqOfBRg4sH5ZaUKCxtJ1Wx8SFquqCtevw8EBjz7aLF3E/nHNGn1gYPQnnwRlZ2eLUL01IWGxCgqg18Pfv+XUqIiXip6eNn/842DG2N/+9jcRqrcmJCxWe5eE4l4qKpXK3r17Hz58+PvvvxcnAutA8mK1aJn0ehQWQiYTbTV63759X3/9dQBr164VJwLroLuJdfUqqqvh7Y1evUQJCgBWrlzp7u6emZmZmpoqWhCcyczM/PLLLw1kkLBYbY6lrGHKtFevXitXrgTw9ttvS/qOWWsqKioSEhJGjBgxfvz4RYsWrTCwdlbcldFdoU8fBrCbN5slfvwxA9jSpSLF9JD79+97e3sD+Oabb0QOxRzU1dUdOXJk1qxZ8oe7UPr27Qtg4sSJ7Z0i1RartLTG1rbE2Rn9+jVLLygArGAu3tHRcfXq1QDWrl2rb7GJUVIUFxdv3LgxICDgmWeeUavVDx48iIiIUKvVb7/9NoCQkJB2z7Sg9+YkKysLwPjxE1ukP/dcDcAOHhQjpubU1NT4+fkBSEpKEjuWDlNXV5eamqpQKOzt7QVPvL29lUrl1atXhQzLli0D8PHHH7dXglTF2rlzJ4DY2NgW6b6+vl5ePpcu3RAlqhYkJiYCGDJkyAN+e9DMzfXr11Uq1cCBAwWfHBwcIiMj1Wq1Tqdrmm3y5MkADh061F45UhVL6Gjee++9pon379+3sbFxcHCwkj+kTqcbOnQogB07dogdixFqamrUanVkZKTtw5XdAQEBKpWqpKSkzfwDBgwAUFhY2F6BUhUrOjoaQHJyctPEM2fOAAgKCrJ8PMeOHfv1119bp+/duxeAr69vdXW15aMyBY1Go1QqPR6uqu7Ro4dCoUhNTdXr9e2d0vAFbtGMNUWqYgnDxpycnKaJarUaQFRUlIWDSUtLc3R0DAgIKCsra3Gorq5u+PDhACZPnrxt27b09PQbN6yim66qqlKr1REREbKHD70IDg5WqVSlpaVGzxW+wMHBwQbySHIntF6vLywslMlkQ4YMaZqen58PIMCy14SZmZlRUVFVVVUTJkxwdXVtcbS6uhqAs7Pz0aNHjx49KiTK5fJBgwaFhIT4+/v7+/sHBwc/9thjvXv3tkzAeXl5u3bt2rFjR1lZGYBHHnkkKipq/vz5ERERJpag0Whg7HOWpFhFRUXV1dU+Pj69ms+vW16srKys5557rrKy8qWXXoqPj2/49gvcu3dv2rRpZ8+e7d+//5IlS7RarUaj0Wg0paWleXl5ec3XbXl5eQUGBgYEBAQEBAi/+Pn5NVyUdZ27d+8mJyfv2rVLuKAGEBoaunjx4jlz5vTq4G0K4XMONDgNLUmx2vvGmPJNMiMnT54UrFq4cOH27dttbJpNClZVVc2YMePEiRM+Pj7Hjx8fNGhQw6GKiorCwsLLly9fvnz5/PnzeXl5Go2muLi4uLj4eJN1ZHZ2dr6+vg2tmtDC+fn5tdDXKNnZ2QkJCUlJSZWVlQBcXFxmzZq1bNmyESNGdO6Nm/QFNl+vbTm2bt0KYGmr+fU+ffoAaO9CxrycPHlS6LxiYmJaj2Grq6unTZsGoF+/fhcuXDClwPLy8oyMjPj4eKVSqVAogoODbdvaeiuXy4ODgxUKhVKpjI+Pz8jIuHPnTpsF3r59Oz4+vqk9oaGh8fHx9+7d6+J7DwsLA5CRkWEgjyRbrDa/MVqttry83NnZ2YP/ttHTp09Pmzbt7t27CoVi9+7dLQyora2dOXPmoUOHPDw80tPThRkHo7i6uoaHh4cLT8wBANTU1BQUFGg0moKCgvz8/IsXL+bn55eVlbXuRr29vQMeEhgYWFVVlZKSkpKSUlNTA8DT03PhwoUvv/zyYDMt+TClK5RkiyUMMw82n1/PyMgAEBYWxrv206dPC03jiy++2HrCrKamZvr06QA8PDzOnTtn9trLy8t/+eUXtVqtUqnmzZsXGhrq1OpRvl5eXgBsbGyE2y+1tbVmDKCkpASAi4uL4WySFMvX1xfApUuXmib++OOPU6dOXblyJdeqz5w5I9x/jY6Obv0Hq62tnTFjBgB3d/ezZ89yjaSBurq6K1eufPfdd59++mlcXNykSZN69uwJ4Mknn7x165bZqztx4gSA0aNHG84mPbFEnF7Pzc11c3MDEBUV1doqnU4XExMDwNXVNTs728KxNSUrK0totHx8fE6dOmXewnfs2AFg/vz5hrNJT6zc3FyIMb1+4cIFT09PAM8++2zraXSdTjd79myhj/j5558tHFtrbt269dRTTwGQy+WJiYlmLPnNN98E8P777xvOJjGx6urqli9fDmDYsGFdv7oxHY1GI7QBU6dOrWr11FGdTjd37lwAzs7OP/30k8WiMsyDBw+USqUw6lq8eHFNTY1Zio2KigKgVqsNZ5OSWKmpqSNHjgQgtBzu7u4qlcoCeuXn5/fv3x/AlClT2rQqNjZWsMrs/U7X2bVrl6OjI4Dw8PDi4uKuFxgUFAQgNzfXcDZpiHX48OHQ0FDhy+fn5/fGG2+MHj1aeNmvX78tW7bw06ugoEBYCxoREXH//v0WR/V6/SuvvALAycnpxIkTnGLoItnZ2cIyGG9v75MnT3alKJ1OJ5fLZTKZ0Q/c2sXKysp6+umnBYc8PDxUKlXD+CY1NbVBLzc3t3fffbe9qcJOc/Xq1UcffVT4uv/2228tjur1+ldffVWw6vjx4+at2rxotdpJkyYJQ67t27d3upxLly4B8PX1NZrTesXKzc1VKBSCN3379lWpVK0bDMZTr6KiImEJ6Lhx49q0aunSpQB69ux57Ngxs9TIFbMMuQ4ePCg03kZzWqNY58+fVygUwh2xXr16KZXKiooKw6dkZGRMnDjRjHpdu3bN399fmA26e/dui6N6vT4uLg6Ao6Pj0aNHu1KRhdm9e3fDLFebC8gM89FHHwGIi4szmtO6xLpy5crixYuFOyROTk6vvfZah278mUuv69evC/eMx4wZ07oEvV4vXJnK5fKD1rC6voPk5OQI/bu7u3tH21qhkd66davRnNYiVlERW7HiQzs7O+EPtmLFipstNnaZTEZGhjCF0zm9iouLhWVeYWFhbbaUQofi4ODw7bffdi5C0dFqtcJtMTs7O5VKZfqJwkDt8OHDRnOKL5ZWy5RK1qMHmzDhnJ2d3bx58wyspDadTutVXV09ffr0kSNHtl4Oyhh76623BKsOHDjQ9SBFRKfTNQy55s2b1+b4tTU+Pj4ALl++bDSnmGKVlbHVq5mTEwOYjQ2bP7+uoOCS8dM6Quf0qqqqKi8vb52+Zs0aAPb29vv37zdvnGKRlJQkDLmeeOKJhq1d7VFZWSmTyeRyuYGl7g2II1ZlJVOpmIsLAxjAIiLY6dMcq+ti5yggPJnI3t5+3759PIIUizNnzggXv25uboYvRHJycgCEhISYUqylxaqpYfHxzNOzUSmL3QLpil7r1q0DYGtru3fvXq5BikJpaemUKVOMDrmSk5MBREdHm1Km5cSqrWXx8czbu16psWOZKNfpGRkZDTOuJuq1efNmwao9e/ZYJkjLIwy5hCmeuXPntjmxvn79egCrV682pUBDYvn7s+YbQtn166xXrzY2sB86xFxd2csvN0uMimIvvcQYY3V1TK1mgwfXKzV8ODN2B5M7puu1ZcsWwaqvv/7awkFanuTkZGHZ4OOPP37lypUWR4Vbojt37jSlKENieXiwNWuapRQVMYC1Hrnu318/AE9Pb0yMiGAxMWzfPhYUVK9USAj7z39Y+xshLY1RvYT5QBsbm6+++kqsIC1Mbm6uMIfn5uaWmpra9NCoUaMAZGZmmlKOOcWaNYsNHcoalioJYq1cyQA2cCCLj2cmXEyIQGu9hOkrYcuGTCbbtm2b2DFalDt37jz//PNCO910yOXi4gJAq9WaUog5xcrPZ87Ojb2nIJZWyxISmFlXXXPhyJEj48aNa9ArOjpaJpPJZLLPP/9c7NBEQK/Xq1QqYUPb7Nmz7927d/PmTQCurq4mlmBErIkT2YYNjf+E5qc9sSoq2ObNrEcPVlDA2EOxpEVD6+Xi4vK7taqBAwcOODs7AxgxYoRwSThmzBgTzzWy/evGDfz4Y+PL6mrD2bFiBb78EnFx+O47Izmtk/Dw8PT09LS0NJ1O5+zsPHbsWLEjEpPp06efOnXqhRdeyM3NXbRoEYxu+WqCEbFiYvD++40vr13DwwcntY29PbZtw4QJ2L/fxACsEdOfYtDtCQwM/OGHH2JjYw8ePGhra9viYRkGMP+G1fBwxMZi1Sp4eZm9bEIEXFxcDhw4sGXLlgULFgg9oyl0/hmk164hPx9tPl9z82ZotXj47AlC8tjY2KxatcrDw6Ph4bZG6UyLxRhmz0ZJCVxcUFqKtLSWGfr1w4YNWL68E2UT3QRDYi1dijFjmqX07o2//hW+voiKQkwMAEyZguPHMWQIlEo0tXnpUpSVweQemehudPX/hJ4yBe+8g/HjzRUP0U3o0nPe09NRXo4nnzRXMET3ofNXhadOYfly/Pe/aOspTsTvnU6KtWsX4uNx6JCRaS3id0tnxlj5+Zgzp/Hl8uVYsMCcMRHdgK4O3gmiTaT6nzQRVg6JRXCBxCK4QGIRXCCxCC6QWAQXSCyCCyQWwQUSi+ACiUVwgcQiuEBiEVwgsQgukFgEF0gsggskFsEFEovgAolFcIHEIrhAYhFcILEILpBYBBdILIILJBbBBRKL4AKJRXCBxCK4QGIRXCCxCC6QWAQXSCyCCyQWwQUSi+ACiUVwgcQiuEBiEVwgsQgukFgEF0gsggskFsEFEovgAolFcIHEIrhAYhFcILEILpBYBBdILIILJBbBBRKL4AKJRXCBxCK4QGIRXCCxCC6QWAQXSCyCCyQWwQUSi+ACiUVwgcQiuEBiEVwgsQgu/B/1khWEg5RSaQAAAOZ6VFh0cmRraXRQS0wgcmRraXQgMjAyMS4wOS41AAB4nHu/b+09BiDgZUAATiDmAuIGRjaGBCDNxIRKMzOyOWiAaBY2hwwQzczI7mABlmBmh8gww1SwM4BVMDJxMzACTWBgZGJgYgaKZzAxsyawsCewsiWwsWcwsXMoiADFGZlYWZhZ2djFy4CaGOHuWVRm7/BWunk/iPNru6/DXJ7XdiD2kv0v7Gfu2L4XxLZvWm1nZskBFi+Zar6/emk+WP3ZJdv2aafutgexN/O83m9xbTaYvek484Ei5Y59IPaWbxEH7FVLwerFAJrsMJZln9o/AAABQ3pUWHRNT0wgcmRraXQgMjAyMS4wOS41AAB4nH2SS2oDMQyG93MKXSBGsuSHlpNMKKVkAm3abQnZNFDaRXN/KqUkTsDUnoWl/7NGD/PP9+F9/3ka3w8f++PXOICv5+npeILritNgfvznU1V4Y0QcNuAHWK4fHmdY7cblxbPavs67F1AghPO+R8fddnPxEKwgBlXKlGFBAaNEtRsBz6tdjQZyiCScxGRJipU6HBtHoVJlqbAwvWrB2gHFQAzMosVlYkbuBUzGWZxChaL4STkTaYfMMLvOKZeYLQnJgjF1wOKgJcmZTSerqkjpgdX/HQNasZk9dsypao9UD8mBFTGVc5apZOw1cj1PdxP4m8lyO09tJr5j67yb3BpsWjPFNZDWLbGdWkvczK1w06C28kyD0moQI64qeSYV9Dbx2zTdvrw6Ow+/WLmM78LbARQAAAD2elRYdFNNSUxFUyByZGtpdCAyMDIxLjA5LjUAAHicXc67bsMwDAXQX+mYADTBlyjJngovnYrsRYfW8FAUsYPEzZSPj5JO0sh7pEu+T7x8LG+f026UcZT9xC+3XaeomcihI8whOgydIIX8n4iHlEPJGJO6KjAKR4slIdTgUbxE5kYCQ0nUckxAyKqkDEP5xknDo4pSjvToF8yZXaB0kphkGLSUWnlFaGVx4md75Mhiz7PUmTPs4Wtbj4fzeuoJL3/fp3X6nTd8PZRxXq4/53U5zsuGoeeauWK2XmqX1rV2bd1qt9ZD7aH20Hvt3nqsPbaeak/N/tsduTqO49z2nTAAAAAASUVORK5CYII=\" alt=\"Mol\"/></td>\n",
       "      <td><img data-content=\"rdkit/molecule\" src=\"data:image/png;base64,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\" alt=\"Mol\"/></td>\n",
       "      <td><img data-content=\"rdkit/molecule\" src=\"data:image/png;base64,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\" alt=\"Mol\"/></td>\n",
       "      <td>ACTR2</td>\n",
       "      <td>STKR</td>\n",
       "      <td>TKL</td>\n",
       "      <td>3soc</td>\n",
       "      <td>GVD</td>\n",
       "      <td>A</td>\n",
       "      <td>A</td>\n",
       "      <td>AP AP AP AP AP AP AP AP AP AP AP AP AP AP AP A...</td>\n",
       "      <td>15 15 15 15 15 15 15 15 14 14 14 14 14 14 14 5...</td>\n",
       "      <td>[17*]Nc1cc(C2CC2)[nH]n1</td>\n",
       "      <td>5</td>\n",
       "      <td>[SE]</td>\n",
       "      <td>[AP=SE]</td>\n",
       "      <td>1</td>\n",
       "      <td>1</td>\n",
       "      <td>1</td>\n",
       "      <td>1</td>\n",
       "      <td>0.581756</td>\n",
       "      <td>1</td>\n",
       "      <td>1</td>\n",
       "      <td>18.524861</td>\n",
       "      <td>1</td>\n",
       "    </tr>\n",
       "  </tbody>\n",
       "</table>\n",
       "</div>"
      ],
      "text/plain": [
       "<IPython.core.display.HTML object>"
      ]
     },
     "execution_count": 19,
     "metadata": {},
     "output_type": "execute_result"
    }
   ],
   "source": [
    "HTML(fragment_library[\"AP\"].head().to_html(notebook=True))\n",
    "# NBVAL_CHECK_OUTPUT"
   ]
  },
  {
   "cell_type": "markdown",
   "id": "14689485-43a9-4238-9842-e0cc0e69bc24",
   "metadata": {
    "tags": []
   },
   "source": [
    "## 3. Apply pairwise retrosynthesizability\n",
    "\n",
    "    3.1. Get valid fragment pairs\n",
    "    \n",
    "    3.2. Calculate pairwise retrosynthesizability"
   ]
  },
  {
   "cell_type": "markdown",
   "id": "42a78877-0e1a-4285-a452-a757be2cdc8a",
   "metadata": {
    "tags": []
   },
   "source": [
    "### 3.1. Get valid fragment pairs\n",
    "First we need to get all valid fragment pairs, meaning fragments which have adjacent subpockets, the same bond type and matching BRICS [(J. Chem. Inf. Model. 2017, 57, 4, 627–631)](https://doi.org/10.1021/acs.jcim.6b00596) environment types."
   ]
  },
  {
   "cell_type": "code",
   "execution_count": 20,
   "id": "03aa03a9-791b-4eb9-93a0-dac1edb2809e",
   "metadata": {},
   "outputs": [
    {
     "name": "stdout",
     "output_type": "stream",
     "text": [
      "\u001b[0;31mSignature:\u001b[0m \u001b[0mfilters\u001b[0m\u001b[0;34m.\u001b[0m\u001b[0mretro\u001b[0m\u001b[0;34m.\u001b[0m\u001b[0mget_valid_fragment_pairs\u001b[0m\u001b[0;34m(\u001b[0m\u001b[0mfragment_library\u001b[0m\u001b[0;34m)\u001b[0m\u001b[0;34m\u001b[0m\u001b[0;34m\u001b[0m\u001b[0m\n",
      "\u001b[0;31mDocstring:\u001b[0m\n",
      "Gets all possible fragment pairs and validates if their bond type, BRICS environment type\n",
      "and adjacent subpockets are matching. Then it creates the SMILES string from the combined\n",
      "pairs.\n",
      "\n",
      "Parameters\n",
      "----------\n",
      "fragment_libray : dict\n",
      "    fragments organized in subpockets including all information\n",
      "\n",
      "Returns\n",
      "-------\n",
      "DataFrame\n",
      "    SMILES from valid paired fragments.\n",
      "\u001b[0;31mFile:\u001b[0m      ~/KinFragLib/kinfraglib/filters/retro.py\n",
      "\u001b[0;31mType:\u001b[0m      function"
     ]
    }
   ],
   "source": [
    "?filters.retro.get_valid_fragment_pairs"
   ]
  },
  {
   "cell_type": "markdown",
   "id": "db9b43d7-dded-4935-9fbe-cdf0cb747f42",
   "metadata": {},
   "source": [
    "Note: this function might take a few minutes"
   ]
  },
  {
   "cell_type": "code",
   "execution_count": 21,
   "id": "1117a8b8-b194-4c0f-b351-759de62cb7d5",
   "metadata": {},
   "outputs": [
    {
     "name": "stdout",
     "output_type": "stream",
     "text": [
      "Number of fragments:  778\n",
      "Number of unique pairs: 46415\n"
     ]
    }
   ],
   "source": [
    "valid_fragment_pairs, unique_pairs = filters.retro.get_valid_fragment_pairs(fragment_library)"
   ]
  },
  {
   "cell_type": "markdown",
   "id": "3b41ee6c-81e6-43a0-9a02-ed93b2da1b7b",
   "metadata": {},
   "source": [
    "Note: valid_fragment_pairs contains also the duplicated pairs like [AP_0, SE_0] and [SE_0, AP_0]"
   ]
  },
  {
   "cell_type": "markdown",
   "id": "7047f58c-4888-4afd-ad13-3f7c21e1abab",
   "metadata": {},
   "source": [
    "### 3.2. Calculate pairwise retrosynthesizability\n",
    "ASKCOS is used to check if for the fragment pairs a retrosynthetic route can be found. We will exclude all fragments without at least one retrosynthetic route found.\n",
    "\n",
    "For each fragment pair, we will start an ASKCOS query, requesting if ASKCOS can find a one step retrosynthetic route building this fragment pair. For all routes found, we will retrieve the children building the requested fragment pair and also the plausibility of this reaction.\n",
    "Afterwards, we will compare the children retrieved from ASKCOS with the fragments building the pair. If the fragments are substructures of the children their `retro_count` is increased by one and the fragments, pair, children and plausibility are stored in the `mol_df` dataframe. If they are no substructures, we will store the information in the `diff_df` dataframe.\n",
    "\n",
    "[ASKCOS webpage for One-step Retrosynthesis](https://askcos.mit.edu/retro/)"
   ]
  },
  {
   "cell_type": "markdown",
   "id": "fea233ff-ad56-4bcd-97c5-be9e8ae06acf",
   "metadata": {},
   "source": [
    "ASKCOS query is started for fragment pairs which were not already requested (already requested fragment pairs can be found in [/data/filters/retrosynthesizability/retro.txt](https://github.com/sonjaleo/KinFragLib/blob/fragment_pairs/data/filters/retrosynthesizability/retro.txt)) and children retrieved from ASKCOS get compared with the fragments building the pairs.\n",
    "Depending on the number of new queries and molecule comparisons this could run a long time (a query of 1000 fragment pairs takes about 1h 30min on an 8 core machine).\n",
    "\n",
    "Note: If your internet connection is instable, you might need to run this several times. When starting it again it will only compute the pairs which were not yet computed."
   ]
  },
  {
   "cell_type": "code",
   "execution_count": 22,
   "id": "b95e14ee-d016-44ed-b2ed-63a0cb01bab7",
   "metadata": {},
   "outputs": [
    {
     "name": "stdout",
     "output_type": "stream",
     "text": [
      "ASKCOS query started for 0 fragments.\n",
      "ASKCOS query finished.\n",
      "Comparing ASKCOS children with fragments..\n"
     ]
    }
   ],
   "source": [
    "%%time\n",
    "warnings.filterwarnings(\"ignore\")\n",
    "fragment_library, mol_df, diff_df = filters.retro.get_pairwise_retrosynthesizability(\n",
    "    unique_pairs,\n",
    "    PATH_DATA_RETRO,\n",
    "    valid_fragment_pairs,\n",
    "    fragment_library,\n",
    ")"
   ]
  },
  {
   "cell_type": "markdown",
   "id": "d571d72e-5a14-4e0b-91eb-c22ebbaeaa8b",
   "metadata": {},
   "source": [
    "Note: if not all fragment pairs were requested, please run this function again."
   ]
  },
  {
   "cell_type": "markdown",
   "id": "23ffbc33-356a-4d1c-860a-bc372b5454f3",
   "metadata": {},
   "source": [
    "Inspect individual subpockets, including the new column if at least one retrosynthetic route was found or not per fragment (`bool_retro`) and number of retrosynthetic routes found (`retro_count`). "
   ]
  },
  {
   "cell_type": "code",
   "execution_count": null,
   "id": "27ec3820-7d31-491c-953a-a8680a3b5d17",
   "metadata": {},
   "outputs": [
    {
     "data": {
      "text/html": [
       "<div>\n",
       "<style scoped>\n",
       "    .dataframe tbody tr th:only-of-type {\n",
       "        vertical-align: middle;\n",
       "    }\n",
       "\n",
       "    .dataframe tbody tr th {\n",
       "        vertical-align: top;\n",
       "    }\n",
       "\n",
       "    .dataframe thead th {\n",
       "        text-align: right;\n",
       "    }\n",
       "</style>\n",
       "<table border=\"1\" class=\"dataframe\">\n",
       "  <thead>\n",
       "    <tr style=\"text-align: right;\">\n",
       "      <th></th>\n",
       "      <th>subpocket</th>\n",
       "      <th>smiles</th>\n",
       "      <th>ROMol</th>\n",
       "      <th>ROMol_dummy</th>\n",
       "      <th>ROMol_original</th>\n",
       "      <th>kinase</th>\n",
       "      <th>family</th>\n",
       "      <th>group</th>\n",
       "      <th>complex_pdb</th>\n",
       "      <th>ligand_pdb</th>\n",
       "      <th>alt</th>\n",
       "      <th>chain</th>\n",
       "      <th>atom_subpockets</th>\n",
       "      <th>atom_environments</th>\n",
       "      <th>smiles_dummy</th>\n",
       "      <th>fragment_count</th>\n",
       "      <th>connections</th>\n",
       "      <th>connections_name</th>\n",
       "      <th>bool_pains</th>\n",
       "      <th>bool_brenk</th>\n",
       "      <th>bool_ro3</th>\n",
       "      <th>bool_qed</th>\n",
       "      <th>qed</th>\n",
       "      <th>bool_bb</th>\n",
       "      <th>bool_syba</th>\n",
       "      <th>syba</th>\n",
       "      <th>bool</th>\n",
       "      <th>retro_count</th>\n",
       "      <th>bool_retro</th>\n",
       "    </tr>\n",
       "  </thead>\n",
       "  <tbody>\n",
       "    <tr>\n",
       "      <th>0</th>\n",
       "      <td>AP</td>\n",
       "      <td>Nc1c[nH]c2ncccc12</td>\n",
       "      <td><img data-content=\"rdkit/molecule\" src=\"data:image/png;base64,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\" alt=\"Mol\"/></td>\n",
       "      <td><img data-content=\"rdkit/molecule\" src=\"data:image/png;base64,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\" alt=\"Mol\"/></td>\n",
       "      <td><img data-content=\"rdkit/molecule\" src=\"data:image/png;base64,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\" alt=\"Mol\"/></td>\n",
       "      <td>AAK1</td>\n",
       "      <td>NAK</td>\n",
       "      <td>Other</td>\n",
       "      <td>5l4q</td>\n",
       "      <td>LKB</td>\n",
       "      <td>B</td>\n",
       "      <td>A</td>\n",
       "      <td>AP AP AP AP AP AP AP AP AP AP AP AP AP AP AP F...</td>\n",
       "      <td>16 16 16 16 16 16 16 16 16 16 16 16 16 5 5 na na</td>\n",
       "      <td>[11*]c1cnc2[nH]cc(N[27*])c2c1</td>\n",
       "      <td>3</td>\n",
       "      <td>[FP, SE]</td>\n",
       "      <td>[AP=FP, AP=SE]</td>\n",
       "      <td>1</td>\n",
       "      <td>1</td>\n",
       "      <td>1</td>\n",
       "      <td>1</td>\n",
       "      <td>0.565900</td>\n",
       "      <td>1</td>\n",
       "      <td>1</td>\n",
       "      <td>30.950959</td>\n",
       "      <td>1</td>\n",
       "      <td>0</td>\n",
       "      <td>0</td>\n",
       "    </tr>\n",
       "    <tr>\n",
       "      <th>1</th>\n",
       "      <td>AP</td>\n",
       "      <td>CNc1ncnc2[nH]ccc12</td>\n",
       "      <td><img data-content=\"rdkit/molecule\" src=\"data:image/png;base64,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\" alt=\"Mol\"/></td>\n",
       "      <td><img data-content=\"rdkit/molecule\" src=\"data:image/png;base64,iVBORw0KGgoAAAANSUhEUgAAAMgAAADICAIAAAAiOjnJAAAABmJLR0QA/wD/AP+gvaeTAAAbPklEQVR4nO2de1hNWRvA33NOnU6ULm4dlyIKp85JU18ad8kz5DaYkJnSh8c1GmaMMa5jZojBMBj6TA3DhBgzZdwKRW6hSBehIhyRLiqm07m93x+7qdRItNfZdVq/5zzzTOvsvde79Wvttfde6108RAQKhW34XAdA0U+oWBQiULEoRKBiUYhAxaIQgYpFIQIVi0IEKhaFCFQsChGoWBQiULEoRKBiUYhAxaIQgYpFIQIVi0IEKhaFCFQsChGoWBQiULEoRKBiUYhAxaIQgYpFIQIVi0IEKhaFCFQsChGoWBQiULEoRKBiUYhAxaIQgYpFIQIVi0IEKhaFCFQsChGoWBQiULEoRKBiUYhAxaIQgYpFIQIVi0IEKhaFCE1arGfPnnEdgt6i/2IhokqlqlaoUCgAYNasWQBQ81tK/eHp95Inp0+f3rVrF5/Pt7OzE4lEd+/eBYALFy589dVXsbGx+fn5FhYWEyZMGDJkCNeR6h2o12RkZKhUKkQcNmwYU5KZmblgwQJEDA8Pnz59emxsLJfx6S96fins0qVLfHy8v7+/t7c3UxIcHDx16lSlUpmSkvLjjz/GxsZyGqDeoudiAYCrq+vKlSt///13lUqVn5+fm5srkUiEQqG5ufnZs2eXLl3KdYD6iQHXAZDl4sWLMpmsQ4cOGo1Gq9Xu2rXL398fAHJycjZu3Mjn8xMSElq1asV1mHqInotlbm6+dOlSpVI5b948oVBYXFzcv39/APjtt980Gs2oUaOoVYTQ87vCf0Wj0bi7u8vl8sOHD7u7u3Mdjn6i/32smpw6dUoul3ft2rVXr15cx6K3NEWx9uzZAwC+vr48Ho/rWPSWJncplMvl7u7uAoEgMTHR0tKS63D0libXYu3du5fptlOriNK0xFKr1fv37wcAX19frmPRc5qWWFFRUU+fPrWzs3N1deU6Fj2naYnFdNsnT55Mu+2kaUKd9wcPHvTu3VsoFF6/ft3MzIzrcPScd2+xtm/ffuXKFRZDIc3evXu1Wu3o0aOpVTqgNrHOnj373//+d9q0adeuXQOAiIiImTNnTp069fHjxxMmTLhz587Zs2cDAwN1FWq9UKlUBw8eBIBPPvmE61gaPXK5vLi4+A0b1TKk5tChQwqFIi8vb/To0Xfu3PHz81Or1cxXhYWFkydP/uKLL5jRTg2fiIiIkSNHjhgxgutAGgelpaXPnz9//vx5WVkZU6JQKEpKShAxPz9/7dq1iYmJRUVFtRxBsHLlytc5J5FIDAwMCgoKYmNjDQ0N1Wp1TExMTk6OTCYLDQ0dNGjQ/fv3ra2tG8V73Dlz5pw4cWLu3Llubm5cx9II+Oabb86cOXPz5k1zc3OxWKxSqaZMmXLw4MFhw4YFBgZmZ2dnZmZev3590KBBrz1E7eaq1epp06bFx8dv2bLl22+/LSoqWrJkSVRUlFarRcTt27fv3LmTpT8SgmRkZPB4PGNj44KCAq5jaRzMmDGjaoO0efPmI0eOjB07FhEzMzMXLVo0Z84cpVJZyxFq62MVFRUFBAR4e3u7ubnZ2toaGxu3aNFCLBaXlJTweLz79++vXr16+fLlzAWR/b8a9tixYwci+vj4WFhYcB1L48DU1HT9+vX+/v6JiYlZWVlJSUnDhw9nvkpISJg5c+aAAQPkcnktR6jtccO4ceNevnxpY2MjEonWr18/f/58pVJpaGi4fv16Y2NjAPjrr78CAwNLS0vd3NxCQkJatmzJ7umxglKp7NixY25ubnx8PL0OvhVPnz79/PPPS0tLBw8e3L59+40bN4aGhtra2tZp53q2mSkpKa6urmKx+P33379z5049j0aCsLAwAJDJZFwH0mjQarV//PGHQqGIiYkJDAw8evRoZGRkRETEgAEDMjMz63gQFmbpPHnyZNiwYWKx2M7OLjo6uv4HZJcBAwYAwPbt27kOpDFx9OjRwMDAtWvXvnz5kinRarU//PBD3Y/AzvQvhUIxe/ZssVjcoUOHn3/+mZVjskJ6ejqPxzMxMan93pjyRm7cuNG9e/eDBw/WcXt23hUaGRlt3bp1yZIlWq122bJlDac7HxwcjIg+Pj4tWrTgOpZGzKNHj/z8/IqKipKSkuq6D7teR0REdO7cWSwWT5gwgfNGQqFQtG7dGgCuXr3KbSSNmhcvXnh4eIjF4okTJ9b9eTj7M6ETEhKcnJyY7vzdu3dZP37dYcYyODk5cRhDY0ej0fj7+4vF4n79+r1VS0Fkir1cLvf09BSLxT169Lh48SKJKupC37594Z+rIeXd+Oabb5jf4717995qR1K5G16+fDllypSBAweamJhs3bqVUC21kJaWRrvt9eTAgQNisdja2vr8+fNvuy/BpCAajWbFihVMT+7TTz+teIGtA9RqtZ+fHwDMmDFDZ5XqGfHx8TY2NmKx+Ndff32H3Ylnm9m3bx/zmP6DDz54/vw5uYo0Gk1KSkpwcLC3t7elpaWhoaGpqWlkZCS5GvWYBw8eSKVSsVj89ddfv9sRdJHG6OLFi23btgUAe3v727dvs3hkjUaTmJi4cePGUaNGmZubV73bZUbzffDBByxW10QoKSlhbgMnTZr0ztcZHeXHevjwobOzMwC0bNkyJiamnkfLzMxkWqZqbyfFYrG3t3dwcPC9e/eePXvGjOfZt28fG2fQVFCr1Z988olYLB40aBAzAOvd0F3itZKSktGjRwOAUCgMDQ19293rIlO1XX7++WcAaNu2LR0tU3c+/fTTwYMHOzs7v+1tYDV0mtFPq9VWdOfnzZv3xmb2jTJlZWXVXp2HhwcATJ8+ndXzYA2tFlu1wvT0ypLdu9HLCxMS0MICf/qpsnzwYDxwgHg8wcHBAGBkZHTp0qV6HoqDVJEhISFCoRAAhg4dWrM7XyFTtYGpdZSpGrdv3xaJRDweLy4ujtWTYAeNBgEwJaWyZMcOfP99jI9HIyNs1QofPy4vd3PDd7o5ewvOnTvH/F5YGbzJTQ7S8+fPt2nTBgCkUum9e/feKFPdR2vI5fJqJcuXLweAbt26KRQKts+jvtQiVps2OHs2TpxYXk5arKysLOYf/8svv2TlgJwlt83IyOjRowcAVBvVaW1t7efnFxoaWveWSS6XM5lqO3XqJBQKK0Z6MCgUCqaib7/9lsB51AtGrD17MC6u/LNwYaVYeXloaYknTyISFquoqMjBwQEAvLy82HrcyGXW5OfPn3fp0sXMzMzS0pJpmVKq/vHWSlZWVmhoqK+vb8eOHat62aZNm5s3b1bbODY2lsfjGRkZpVftzjQAGLHc3HDgwPKPvX2lWIi4Ywd27YqlpeVi+fujjw+uXo2RkZiVhVotCzGo1WovLy8A6NmzZ31uA6vBcTpuZprHmTNn6rJxRcvUuXPnqjK1bt16xIgRQUFB165d077mH3vy5MkAMHDgwNdtwAm1XwqZDdzc8LvvysUyN0eAyo+pKbq4oK8vBgVhZCTm5LxLDHPmzAEAKyur7Oxsds4KERE5zkFaUFAANa6GVcnJyTl//vypU6dOnTqVlZVVUW5qatqrVy9PT09PT09nZ2c+/w0DyzZs2HDs2LHY2Ni9e/c2olQzfD789BN4eoKlJSBCdDQkJ0NKSvl/c3IgIQESEiq3t7ICqRT699/drp1GJpNJJJJmzZrVcvyQkJBt27aJRKI//vjD2tqazdBZlPQdYE6m2t/K48ePmZZJIpFUDdXU1NTT05NpmTQazdvWtWvXLgBo2bJlbm4ue2dQL97YYjHMno0A/9LHKizEuDgMDsZ589DTE1u1Km/JbG27V/yjicXiESNGLFq0aPfu3deuXat6BxMVFWVgYMDj8fbu3cv6qXEslqmpKQAUFxdXLZTJZGzJVA1PT08AmDJlSj2PwxZaLQ4YgFWfREZE4KxZmJ6OH31UWVhYiF5eWJfpBPfu4ZEjGBS0zsfHRyqVGhoaVmtHRCLRe++95+fnt3DhQuat17Jly1g/L0TkMtuMSqUyMjISCARKpbJqXqHly5ffvHlz0KBBAwcOlEqlb7zM1Z27d+/KZLKysrJTp04xz04bGqtXQ0wMhIcDKzMg1Wr1gwcPUlNTExIS0tLSUlNT09PTtVot822HDh3c3d3Dw8OJJHUiYWsdefr0KQC0qdrok2fVqlUAYG9vX1paqst668Lhw8jnI59f/oiBBMXFxZcuXfrf//43d+7czMzMao9mWIRLsdLT0wGgW7duuqy0rKyM6bqtXLlSl/W+kevXsXlzBMDvv+c6FDbgUqyLFy8CgLu7u47rPXfuHI/HEwqFaWlpOq76deTkYMeOCID+/lyHwhJcpoosLCwEAN1nL+7Xrx+zANjMmTOxASQ0VChgzBh4+BD69oUdO7iOhiW4FOuND7HIsXbt2rZt2547d455BsEhiDB1Kly+DJ06weHDYGTEbTis0RRbLKbSDRs2AMDnn3+em5ur+wAqWLUKwsLA1BSOHIHWrTkMhGW4FEupbGVjM7h1axtOav/444+HDx9eUFCwcOFCTgIAgN9/h6+/BoEAwsLA0ZGrKMjAYf8uMBAB8G0yTbDMvXv3mjdvDgCc5DJJSMBmzRAAN2/WfeXE4fZSCADA4cojnTp1WrJkCQDMmjWLWddeZ8jl8vnzF5qaamfMgHnzdFmzruBQ6hEjEAC5naClUqmcnJwAYOnSpTqr9OXLl++99x4AjBs3t9Z8i40YLsXq0wcB8O0n2bLM5cuX+Xy+UCis+2iw+qDVaidOnAgAtra2z54900GNnMClWD16IACmpnIYQjkzZ84EAKlUmpiYWJGAmhDM8uYtWrTQjcdcweVLaLEYnjyBnBywsuIqhHIePnxob2/ftm3b7OxsAwMDa2triUTi4uLi4OAgkUh69OjB1ovwgwcPTpgwgc/nR0ZGMuM29RUuxRKJoKwMFAqOnwoyY3Ojo6OtrKzMzMwyMjI0Gk3VDUxMTCQSiUwmc3R0dHR0lMlkrd/pidO1a9cGDBjw999/b9u2bfbs2SyF30DhTKyXL8HEBJo3hxcvOKm/koCAgG3btllZWcXHx1tbW6tUqjt37jCDTJjRJszUzaq7WFhYSCQSpj1zcXHp2bOniYlJ7bU8fvzYzc1NLpcHBARs2bKF5Ak1CDgT69Ej6NgROnSAhw85qb+ckJCQadOmiUSimJiY161oX1RUlJGRUeFZUlLSs2fPqm0jFosrLp0ODg6Ojo5GVdrhFy9e9O3bNykpaciQIceOHTMw4HhEuA7gTKybN8HJCWQyqHtWS9aJjo728vLSaDR79uz5+OOP675jdnZ2SkpKSkpKcnJySkrKrVu3lEpl1Q2MjIwYw6RSqaOj45YtW06cONGtW7fLly9XS16it3B11xAbiwA4YABX9WN6ejrz/rv+Y3NVKlVmZmZkZOSKFSu8vb0lEkm1zr6ZmZmZmRm3iTN1DGdiHT6MADhmDDe15+fn29vbA8DYsWNrDqUvLCzcsGFDVFRUzrvNqEIsKSmJj4/fuXNnYGCgTCbj8Xhubm71jroxwdmlMDERdu8GqRSmTdN11SqVatiwYadPn3Z2do6Li2NeF1YlNja2Yl0rc3NzBweHis6Ts7Pz267sUlRUJBaLy8rKsrOzO3TowM45NHzIOfvFF688Vc/IQD8/VKvR2xt3764sDw5+5UcdMGvWLAAQi8UPHjz41w2Sk5NnzZrVv3//mmPFeDxe586dR44cuXjx4n379iUnJ9e+CBaDt7c3AKxbt47tU2m4EBRLKsWq89Xi49HYGJVKBMAWLbDidzpjBn72GbkoqrNp0yYAEIlEly9frsv2BQUFcXFxmzZtmj59ep8+fWrO/zQwMLC1tR0xYsSKFSvCw8NTUlJqXlsjIyMBwMHBgcAJNVC4EWvSJPzww/JyXYp14sQJZopmWFjYux1BpVLdunUrPDx82bJlY8eO7dq1a82H8lZWVtUm8qtUKiZZ5vXr19k4j0YANw9Uli0DDw+IjIRRo3RXaXp6+sSJE9Vq9cqVK318fN7tIAYGBt27d+/evTtzdQMApVJ59+7diol7aWlplpaW1WbqGRgYjB8/fsuWLXv27OnZs2d9z6RRQM5ZqRQNDFAoLP8YGla2WI8e4S+/oI0NvnihoxYrLy+va9euAPDRRx+Rzgvy999/1yy8cuUKALRp06axrKJdT8gO9PvlFygtLf/Exb3y1eTJ0LkzrFlT/mNsLPz1F7z6jo41VCqVt7d3RkaGi4vL7t27iUz8rQKTfrwa//nPfxwdHXNzc6Ojo4nW3kAgKxaPB3x++afab5PHgx9/hB9/hOxsAIBly2DkSLC2hi+/LC9hkYCAgJiYmHbt2kVERNSefYUokyZNAgBmhR/9h1xjWEvn/dGj8sIFCxAAFyzAdevQzq48WYpAgKNH49GjWO8kIIiI33//PQAYGxtfuXKFhcPVg0ePHgkEApFIRHQhhQYCx2IVF2P79pV9rGvXcPp0FInKDWvfHhctwvrkAzt+/LhAIODxePv373/3o7AHk4kkJCSE60CIQ1Csml3kOnaanzzBoCDs0qWyAfP0xPBwfNvsmKmpqUymnu++++7t9iTGrl27und3njLlENeBEIfj/Fi1oNHgyZM4bhwaGpYb5ul5dc2aNU+ePKnL7nl5eV26dAGA8ePHN5z0kMXF2mbNkMfD+/e5DoUwDVesCnJyMCgIbW2xTx9fABAKhd7e3tHR0bXoolQqmTXGXV1d//Xmn0MmTUIAbHgZnFmmEYjFoNHgiRPRY8aMqRglZ2dnt27dun/N+zht2jQAsLGxqWPzpkuOH0cAtLPjOg7CNBqxKsjJyQkKCqpInFyzAVuzZg0AmJiY3Lhxg9tQ/xWNBtu3RwCMj+c6FJI0PrEYNBpNdHS0t7d31QYsKCgoLCxMIBDw+fw///yT6xhfy2efIQAGBHAdB0kaq1gVPHz4cMWKFRXjnJjVYNauXct1XLWRnIwA2LIlEp7CyCVcTv9iEY1Gc/To0c2bNyclJSFiXl4e6fc29cTJCW7ehIgInb6G1yVcJgVhEYFAMGrUqOjo6GbNmhUUFFy4cKHiq9LS0tDQ0Pnz53MYXk2YNQz0+e0O100myyxevBheXaCwpKTExMSEx+O91Xp0pHn8GAUCFAoxL4/rUMigJy1WBcxyJgcOHCgtLWVKTExMRo8ejYhhYWGchvYKYjF4eoJSCYcOcR0KGfRNrB49eri6uhYVFR09erSikLFt9+7d2JA6lPp9NdQ3seAfjaqOThkyZEj79u3v3r179epV7uKqzpgxMHQoTJ3KdRxk0EOxfHx8DA0Njx07xqx8AQB8Pp8Zi9ygxkJdvQpqNbi6VpaMHw/JydwFxCp6KFbr1q2HDh2qVqvDw8MrCv39/QEgLCysrKyMs8he5elTiImBmTPhn7Vt4Nw5eP6c05jYQw/Fgn+7Gjo4ODg5ORUUFJw4cYK7uKrj5AQvXkBICNdxEEA/xRo5cqS5ufnVq1dTU1MrCv38/MTi/8TEcLBewesQCGDTJvjyS+A01TwR9FMskUjETM+q+ohh0qQ5+flXduzoX1DAXWQ1GDQIhgwB7lLNk0I/xQIAPz8/gUCYkGBe0YOxsjLy8ICyMqjS9WoQbNoEERHVZzE1dvRWrD59+ri4lJw8ufDs2crChvnoyMoKli+Hzz6DhvSUrb7orVg8Hm/oUCG8qtGYMWBmBhcvwu3bOgpDo4H8/DdvNm8eKJV61dPSW7EAwNcXeDw4eBBeviwvMTaGsWMBAHT2duezz6BnT0hMrF5eVgZCIZialv9oYABbt4KFBehPEkmuX1aSpXdvBMDffqssOXMGAbBTp7pOGaoPISEIgEIhxsa+Ur5lC0qlej6fQs/F2r4dAXDo0MoSrRY7dUIAPHeObNXnzqFQiAC4c+cr5VFRaGCAPB4eOEA2AG7Rc7EKCtDICPn8yimyiPjVVwiAy5cTrDczE1u1QgBcvPiV8vR0tLAgXntDQM/FQsRx4xAA16+vLHn0CIlOsygqQgcHBMAPP3wlS0B+fnkagbFj2cke0JDRf7H+/BMB0NFRR9Wp1ejlhQDYsyeWlFSWK5Xo4YEA6OyML17oKBgO0X+xlMryq1JSki6qW7Roi42N0soKq+U3nTkTAVAsxocPdREG5+i/WIgYEIAA+PnnxCvaunUrAIjFjvHxiqrlGzciABob6/lcwqo0CbHi4xEA27ZFosn0oqKimASne6sm2UE8caL8NnDfPoK1NzSahFiI6OSE3t5Ibt3JinUulr96v5eWhubmCICrVpGqumHSJMQqKsLVqzEhobLk0CE2r0r5+fl2dnZQY52L3Nzc4cN/MDXV+vjo4nlsg6JJiJWdjQBob4+Kf3o+o0YhW9n8lUrl4MGDAcDZ2flFlfu9srKyfv36AcCHHy4qLWWnrkaEPr8rrIa1Naxbx/5hly1bdvr06Xbt2h05cqTq6ikBAQFxcXHt2rXbunWuSMR+vQ0drs3WBUyLlZyMzZtjejoiqy2WXC7v37//1atXqxauXbsWAIyNjauVNx30JHdD7Tx4ADY2oNHAggVw6xacPAmjR0PfvuDmBgAglYKlJZvVHT9+fOTIkVqtdv/+/ePHj2fz0I0HvRmlUSdWrYLu3SsnH3/1FVy8CABgYQESCbi4gIMDSCTg7Aw1VgSrK2lpaT4+PhqNZs2aNU3WKuB2sXGdUdFi8fkQFgZLl4K9PQweDDk5cOECpKVVX5daIIAuXUAmA0dHcHQEmey5ra2pQCB4Y0V5eXm9evXKysry9fX99ddfSZ1PY6DJiQUAHh4QFwerV1dOYXj8GNLSIDUVEhLK/0ehqNzd3f2jhIRIOzu7itXFHRwcOnfuXC1TkkKh8PDwuHTpUu/evc+cOVN1TegmSNO6FDLs2AEy2Ssl7dpBu3bg6Vn+o1IJt25BaiokJ0NyMhQUFKpUqrS0tLS0tIpdLC0tZTKZo6Mjs+qzg4NDQEDApUuXbGxsDh8+3MStgibSYimVkJwMLi6VJenpYGEBbdvW9QjFxcXM0uLM6uLJyckFNSaR8fn85s2bX7hwQSqVshR4I6ZJiEWCwsLC1NTUitXkbty4sXLlSolE4uXlxXVoDQIqFjtoNBoAqEsHv4lAxaIQoQm90qHoEioWhQhULAoRqFgUIlCxKESgYlGIQMWiEIGKRSECFYtCBCoWhQhULAoRqFgUIlCxKESgYlGIQMWiEIGKRSECFYtCBCoWhQhULAoRqFgUIlCxKESgYlGIQMWiEIGKRSECFYtCBCoWhQhULAoRqFgUIlCxKESgYlGIQMWiEIGKRSECFYtCBCoWhQhULAoRqFgUIlCxKESgYlGIQMWiEOH/A7FP8Q1x4S0AAAFNelRYdHJka2l0UEtMIHJka2l0IDIwMjEuMDkuNQAAeJx7v2/tPQYg4GVAAD4g5gfiBkY2Bw0gzczC7mABohmZEQJgGsjPANOMCAGIAnSanQGskImRjSEByGBiYjDQYAQyGM2AhCQHkHAsyc/1K83J0ZBh0IZJSuGTVMUmyc3AmMDAnsHEyJTAxJzBxMSWwMySwMKawcTKkcDGnsDGkcHEwanAycXAxc3AwMPAzssgwsTKwMjExs7GzMLKwcYkvglkNjwomtw1DqxkD7MHcT5c1jsQI6y5H8Rub1u9/57+HDA7XCN4/xkHjQMgdqWMuv2XYxZgtte+c/b1HvfAal5GHtznvLxvL4hdFTptf+2BmWAz353usRe6vXwfiP3vL7OD99wgsLhRf5LD6hYBMHuO8ASH/e23wWzzV4UHHhk/A7OnxMnuf/NB1QHEFgMAacFUfv4Di7QAAAGxelRYdE1PTCByZGtpdCAyMDIxLjA5LjUAAHicfVM9ixtBDO39K1QHPOhrRpoihT+OEILXEDvXhhAO7pqrAvn7kWzs2cNLZreQtO9JGj2tvvx9/fn79dfb+3YFeb7vv739gfvh/Sri+J+39w7PgoirA6QB26cvXyfYnTfbW2R3/DGdT0AKVIMTz0fs5nw83CIEO1hzadylKWBxaVjTwMsZVIYpgSbUvMEaS2uolReQkimpiCKqpMWMTLSA1MwZNVld9NqG91oXkDVyRsnKZp5Ad6NI/ghskZJKo0rOWdukVbcFoGWXWMSsSU8LW2+Ltf16HzJVj5EWRqLFlD2AVFIhk0tuNl9skjC65KjIUT6Hzmy0CEx5pFSJnBEutcXIl9Qhhk+gpSJLzx6NKjrOgHDYnE6fq94JEoS1FLPeGZPRXas/MLjdGZqMEIHUogcutbPLYw2xG+Np2n/Ytev2bY/TfmxfNAs8dixdH4sUZUDGtmiGxkqka0P4/F6HvOFAGxpqIPpQSgPhMz3S77OxU2BoPl5KFNFsfnTB8Ww+SaN7v/HzxWUiPp/H/Pbp3/7bsFf/AClQx1U9I0ZtAAABcHpUWHRTTUlMRVMgcmRraXQgMjAyMS4wOS41AAB4nGWQvW4bMRCEXyWlbNAE9395qoIgQapAQII0ggr5cEUQ685wlFR++KyuEnkdOd9wdrhH1MfTCOPuSPZ4ehhx3H37dBSO8zzOIx7nryf48L57omxWKybIVp017Z8wK1bSVLKTFuGQIIMxe5iwANRQSlZgQ06YpaLTKpGZUk1xKlpVJO0hl1qr3SRCcw4fBkTyWzyiQSiUhcIViihLZO45S8FIilIgxW85CgKeoomRSjSIAoJmIWF2N+C1gSM7cVr/4FXW6sSl8O0lYkFYP2gEuvZULTExPaTzdbkc3pbXoeTL8vJjuf48v0zzOGUI5c/f59dl/D1d8/fPcZ3mf7/elvkyzdc8nwe44x8Pcb3noAO2HHtOm4l09+LLIa7dRG4TuU+UlkvPteXacBmsxdZgH3zT19u+3vetbWDt+0DpVlg2jn7Jmy1Dt2bY7Bmoc1DneP8P6KvzIAOrR1UAAAAASUVORK5CYII=\" alt=\"Mol\"/></td>\n",
       "      <td><img data-content=\"rdkit/molecule\" src=\"data:image/png;base64,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\" alt=\"Mol\"/></td>\n",
       "      <td>ACK</td>\n",
       "      <td>Ack</td>\n",
       "      <td>TK</td>\n",
       "      <td>4ewh</td>\n",
       "      <td>T77</td>\n",
       "      <td></td>\n",
       "      <td>B</td>\n",
       "      <td>AP AP AP AP AP AP AP AP AP AP AP AP AP AP AP A...</td>\n",
       "      <td>16 16 16 16 16 16 16 16 16 16 16 5 5 8 8 8 na ...</td>\n",
       "      <td>[26*]c1[nH]c2ncnc(NC[54*])c2c1[37*]</td>\n",
       "      <td>8</td>\n",
       "      <td>[FP, SE, FP]</td>\n",
       "      <td>[AP=FP, AP=SE, AP=FP]</td>\n",
       "      <td>1</td>\n",
       "      <td>1</td>\n",
       "      <td>1</td>\n",
       "      <td>1</td>\n",
       "      <td>0.633912</td>\n",
       "      <td>1</td>\n",
       "      <td>1</td>\n",
       "      <td>38.386371</td>\n",
       "      <td>1</td>\n",
       "      <td>0</td>\n",
       "      <td>0</td>\n",
       "    </tr>\n",
       "    <tr>\n",
       "      <th>2</th>\n",
       "      <td>AP</td>\n",
       "      <td>c1cnc2ccnn2c1</td>\n",
       "      <td><img data-content=\"rdkit/molecule\" src=\"data:image/png;base64,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\" alt=\"Mol\"/></td>\n",
       "      <td><img data-content=\"rdkit/molecule\" src=\"data:image/png;base64,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\" alt=\"Mol\"/></td>\n",
       "      <td><img data-content=\"rdkit/molecule\" src=\"data:image/png;base64,iVBORw0KGgoAAAANSUhEUgAAAMgAAADICAIAAAAiOjnJAAAABmJLR0QA/wD/AP+gvaeTAAAX1klEQVR4nO2deVQUV9qHf03TLI0ISKAVhG7QiZ5IXIKKkAQwirvOoKKjjCPqHJIvixo1IBHjjCYGF5SZGI+YSGLiFpKYRFFj8LhEhzAY4gaSKLKK7M0ioPR2vz/KIN1AZKmiu7ru85d9q+rWq+fxfW/dqrolIoSAQmEbC2MHQDFPqFgUTqBiUTiBikXhBCoWhROoWBROoGJROIGKReEEKhYLBAcHR0REGDSuXbt26NChxgjHJKBisUBVVVVtba1BY319fUVFhVHiMQWoWBROoGJROMHS2AGYCY2Njbdu3WrdUldXZ6xgTAERfbqh5/j4+GRnZ7dtd3JyUiqVvR+PKUBLITtMmjSpUJ9FixYZOyhjQkshO9ja2np6erZu6dOnj7GCMQVoxqJwAhWLwglULAon0KtCFrh06ZJUKh02bFhzc3Pfvn2Zxps3b5aWlk6YMMG4sRkLKhZrnDlzJiQkZNq0aSdOnDB2LMaHlkLWKCwsBODq6mrsQEwCKhZrFBUVAZDL5cYOxCSgYrEGk7EMZrMECxWLNZiMRcVioGKxBs1YraFXheyg0+lsbW3VanVjY6Otra2xwzE+NGOxQ1lZmUqlcnV1pVYxULHYgdZBA6hY7EDnGgygYrEDzVgGULHYgc41GEDFYgdaCg2gYrEDLYUGULHYgWYsA+gEKQvU19c7ODhIpdLGxkZjx2Iq0IzFAkwdpOmqNVQsFqB1sC1ULBagI/e2ULFYgE5itYWK1VNUKtWZM2cAuLi4GDsWE4KK1SNu3Ljh7++fmZlpa2t77do1Y4djQtDphm6i0Wji4+PfeecdlUo1cODAkpISqVRaUFDw1FNPGTs0k4BmrO6QnZ3t7++/du1atVodGRmZk5MzefLkxsbGXbt2GTs0k4FQuoJGQxIS9llbWwPw8vI6f/48056WlgbAwcGhtrbWuBGaCDRjdYE7dzB+PD7++BmtVhsZGXnt2rWgoCAAWq3Wzs4uMDCwrq4uMTHR2GGaBsY2mx9otWTHDmJrSwDi6UnOnctt2ZSbmxsYGNi3b9/PPvsMgEwma2pqMmKoJgIVixBCjh4lcXGkuNiw8ZNPCCEkL48EBxOAACQsjCiVj3bQarU7duxgHnL38PBIT08fPXo0gF27dvVy/CYIFYsQQkJDCUCmTtVrnD2bjBpFEhNJnz4EIP37k2+/fbz19m1NcPB4JusvXbqUGVp9/fXXjGTNzc29+zcwOahYhBASGkqcnYlIpKfO7NlkxAiiUBCAhIc/TlQ63SPbgoNj+/fv/22rY3Q6nY+PD4BPmFwnYKhYhBASGkqef56EhRFPT3L//qNGJmOdP0+OHn28Z34+eemlR2UxIqJZ2aLb7zAjrcGDB2s0mt4K3xShYhHyu1hFRUQqJWvWPGpkxGpNSgqxtycAkcnIN9+035VGoxk8eDCA5ORkboM2beh0w2M8PBAVhYQEdHRvZtgwAAgLQ1YW/vKX9vcRi8WrV68G8N577xEB39WgYukRHQ25HK++inaVUChw7RqSk/HHt22WLFni7u5+7dq1U6dOcRSn6UPF0sPGBrt3Iy0NBw+2v4OX15M7sba2fvPNNwFs2rSJ1ej4BBXLkEmTMHs2YmLQ1NT9Tl555RUXF5f09PTz58+zFhmvoGK1Q0ICamqQmtr9Huzs7F5//XUAmzdvZi0sXkHFagcPD6xfD622R52sWLHCwcEhNTX1p59+YikuPkHFAoDhwzF6tF7LqlUIC4OfX/f7dHBweOWVVwBs3bq1Z9HxEvqgnx5padi/H76+iIxkobeKigqFQvHw4cPr168zM/LCgWYsPW7dwt69YKt2ubq6Llu2jBASFxfXk36qqqry8vLYiam3oGLpIRYD6OnoqjVRUVFWVlZHjhy5fft2tzu5cOHCBx98wFpMvQIVSw8LCwDQ6Vjr0MPDIzw8XKvVbt++vaN9Pvnkk6lTp/7vf/8DoNVqExISZs2aNWHChC+++CIlJWXJkiX19fVSqXTTpk18mhgz8i0lE+PwYQKQv/6VzT5zc3PFYrFEIiksLGy7tbCwMDAwcN68eT/88AMh5MMPPwwPD6+urlapVEqlsqamJjU1dc6cOePGjTt27FhRURGbkXEJzVh6sJ6xAAwaNGjOnDlqtTohIcFgEyHkrbfeio2NtbOzY1r27dv3z3/+s1+/fhKJxMnJydHRUSwW29nZzZgx47fffvPw8GAzMi6hYunBhVgA3n77bZFIlJiYWFlZ2br90KFDDg4OISEhzM8HDx5UVFQkJCRMmDDB39+fmbXPyMhYtWrVa6+9VlJSolarWY6MO4ydMk2Lo0cJQEJD2e95+vTpAGJjY5mfSqWyrKxs9OjRpaWlhJAlS5b88MMPtbW1Hh4et27dIoSkpaX5+vqyH0dvQTOWHhxlLADr1q0DsG3bNnd39+HDh48cOfLEiRM2NjYRERFTpkxJS0vbsGGDUqm0tbVlvnjo7e1dVVVFeDvLSD82rgfr0w0tjB49mhkw3bt3Ty6Xq9XquXPnLl26lNm6dOnSBQsWeHl5LViwYMOGDREREZ9++umMGTNEIhH7ofQKNGPp0fOMlZ6ermvv+JMnT9bW1jo5ORUVFZ07dy4nJ6flW6wAgoKCBg4cCCA2NnbMmDEHDx708fGJj4/vfhxGx9i12LQ4dYoAZMqUbh5+584dkUg0ZMgQrVZrsCk0NBTAtm3behoiT6AZS48elsL9+/cTQvz8/Cws9P5hq6urT548aWlpGR4e3uMY+QEVS4+elEJCyIEDBwAsXrzYYNOBAweam5unTJkyYMCAnobIE6hYevQkY507dy4vL08ulwcHBxts2r9/P9oTzoyhYunRk4zF2BMREWFQB7Oysq5cudKvX7+ZM2eyECJPoGLp0W2xGhoajh49KhKJFi1aZLBp3759ABYuXMgsfiQQqFh6dLsUJicnNzQ0BAYGDho0qHW7RqM5fPgwBFYHQcUyoNsZ69NPP0V79qSkpJSXlw8bNmy0wbPP5g4VS4/uZaz8/PxLly7Z2dnNnTvXYFPLwIuV8HgEvaWjh0KBxMQnvOjcFmZtmblz59rb27duF+D01WOMOz9rInz3HfH1JevX6zUeO0Z8fUl5+ROO1el0Xl5eAM6ePWuwaefOnQBmzJjBarD8gJZCAKiqQmYm3nsP6emPG6urkZkJleoJx549ezY/P18ulzPrkbZGsHUQdIzVmlGj8PrrXR5gdTR9dePGjatXr/br12/GjBksBskXqFiP2bIFV6/iww+7cEhDQ8M333zT7vRVUlISgPDwcEFNX7VAxXrMyJFYtgzr16OkpLOHfPHFFw0NDUFBQXT6ygAqlh6bN8PKCm++2dn9O7oJePz4cWb6ytfXl90I+QIVSw9nZ2zejC+/7NRSMy3TV3PmzDHYxAi3ZMkSLoLkBVQsQ5Ytw7hxWLkSGs0T9kxKSiKEhIWFGUxfVVRUCHf66neoWIZYWGD3bvz2G/btA4DKSvztb+2MunQ6HbNActs6ePDgQbVaPXXq1P79+/dGxKaJsSfSTIJ9+whAqqoet7zxxuNPUQDE0ZF8/DHR6R7vkJqaCkChULR9CnnEiBEAvvrqq16J3UShGat93n0Xbm4AEBOD2bNRW4t//APBwcjNfbRDRkaGSCRavHixwfTVlStXrl275uzsLMzpq8cY22yT4NgxsmcPefBArzE9nSQmkoYGQghJTiYuLgQgUimJiyNMksrLyytvc8dnxYoVAJYvX947kZssVCxSXEykUuLnR/74o10VFWT+/Ef1MTCQ3L7d2HYflUrFfBk6MzOTq3B5Ai2FjxZIVihga/tHu7m44MgRpKRg4EDk52vGjXtmy5YtWv0bQCkpKZWVlT4+Ps899xy3QZs+xjbbyGRmEgsLYmVFcnOfvDODUklWr/6U+dfz8/PLzs5u2TRr1iwA8fHxnMTKK/gnVkFBwa+//mrQWFlZefXqVbVa3dXeXnyRAGTt2i6H8f3333t6egKQSCTR0dHNzc3l5eUSicTS0pJZ50Pg8E+suXPnPv300waN//nPfwCUlZV1qavkZAIQV1fSve84NzY2RkdHM1eFw4cPX7lyJYBZs2Z1py+zQ7hjLJUKb78NAJs2wcGhOz1IpdK4uLgzZ854e3tfv3793//+NwR819kA4YqVkIDcXDzzDH5f8aWbjB8/PisrKyoqysHBQaFQTJs2jaUA+Y1AxaqsBPMtkp07Ydnj5/5tbW23bNkikUgKCgqUSmXPwzMDePkyRW1trcHy1D/++GOXeoiPr6mrc5o2DZMmsRaVl5dXZWVlQUGBGzNnL2z4Ktbu3btbt9TU1HT+8Ozs7B07nnvhhR3btr0KsLaymUKhyMjIKCgoCAgIYKtP/sJLsRQKRU5OTuuWDz74YPny5Z08fPXq1Wq1auTIX595hs318hQKBYCCggIW++QvZjXGun///uXLl/94n1OnTp0+fdrR0XHDhg3snl0ulwMoLCxkt1ueYlZixcXF+fn5/f3vf6+urm53B61WGxUVBWD9+vVPdfW11CdBM1ZrzEqsPn36WFpafv755z4+PocOHWq7Q2JiYlZWlre392uvvcb62ZnXVvPz81nvmY+YlVgxMTFZWVkTJ04sKysLDw8PDg6+efNmy9b6+vqNGzcC2L59OxevZCkUCpFIVFhY2O7itoLD2FP/XUar1bZ9aFOn02k0mpY/79+/39XVFYBEIlm+fHlDQwMhZM2aNQCCgoK4i00mkwG4e/cud6fgC/wTq5Molcrly5czN/K8vb2TkpKsra0tLCwuX77M3Un9/PwAXLp0ibtT8AWzFYvhv//97/Dhw1vSc0REBKenmz9/PoADBw5wehZeYFZjrLYEBARkZmYmJCQ4OjrKZDLmuWHuoBeGLZi5WAAsLS1XrFgxZMiQ8vLy+/fvc3ouKlYL5i8WA7O2AtdfVv7Tn8YEBv6fSDSR07PwAl7e0ukGjFh37tzh9Czu7r4//uh77x6nJ+EHQhHL29sb7WWs0tLS77//vm/fvm3XX+gGCgVEIhQVQaeDhVCKQfsI5W/fUca6efPm0qVLmYc/e46NDWQyqFSgSUvoYrE+9lIoAIAO34Ui1oABA6RSaWVlZX19fet2Dw8PKyure/fuNTU1sXIiLy8AoDcMhSKWSCRi5gIMkpNYLJbL5YQQtuYIaMZiEIpY6LjqsXvBKJcDAH0oS3BitRWIuWBkSyxaChkEJFZHArE7fqelkEFAYvVaKbSwQHFx97//ax4ITiyuS6G1Nfr3h1rdhTW9zRIBiaVQKMRicVFRkVqtbt0+aNAgkUhUUFDA1pOftBpCUGJZW1u7u7trNJqioqLW7VKpVCaTNTc3l7CUZOj4HYISC08av7NVDZ99Fr6+T1jGzewRllhcj9+PH8c33yAqCj//jHnzHjWmpOCXX3rYMf8Qolgdjd97PuPw8suYPRuffWbY+PHHPeyYfwhLrI4EYrEUSqV46y108MKsgBCWWL0w47BwIQBER/e8J34jLLEGDx4MjiffHRzw7rtISsL58z3vjMcISyxHR0cnJ6eGhoaKiorW7TKZzN7eXqlUdmk5pI5YtgyjRuGNN6A/XyYshCUWOq56zMoLrCQtsRi7d+PmTezc2fPO+IrgxOqdO4Z+fli2DJs2CfcZZYGKxfUdQwDvvw8bG8TGstUfzxDKWzot9M7DMwCcnREXh5dfZmHxXD4i0IzFdSlkWLoUY8eiuZnFLnmDQMXiqBTK5ejX7/FPkQi7d2PQILC9eCAPEBFCjB1Dr6LT6aRSqUqlun//vp2dXUu7Wq22t7d3c3O7ffu2WCx+Yj+NjVi7FjExaFl7e9cu5OXhnXfg6MhR7LzCyKvdGIMhQ4YAuHHjhkG7SqXqfCexsQQg48c/+lleThwdCUBOnGArTH4juFKIjqueRCLpZA95edi+HSIRNm581LJuHWprMX066BdPGIQoVs8vAFevxsOHWLQIL7wAAFeuICkJVlaIj2crRt4jRLF6OE4/exbffgt7e7z/PgAQghUroNNh5UoMGcJimPxGiGL1JGNpNFi5EgBiYx8N2w8dwsWLkMkefaSOwiBcsbKzs9Vdv0v80UefOTllDxkCZtHJpqZHPm3Z0s2PHpotxr56MAJpaWkymUwikcjl8sTExLaLe3dEZWWlk5MTgJSUM0zL228TgPj6kk73IRSEKNb06dMBODs7M/+1fH19U1NTO3Pgyy+/DGDixInMz7y8Ym9vlUhE0tO5DJefCE6sjIwMkUjUp0+f0tLS5ORk5mkZRpeff/75Dw68cuWKWCy2tLTMyspiWkJDQ21t+0VHU63aQXBiTZw4EcC6deuYn83NzYmJiS4uLgBEIlFYWNjt27fbPTAoKAjAqlWrmJ9nzpwBYG9vX1JS0kuh8wphiXXx4kUADg4O1dXVrduVSmV0dLStrS0AiUQSGRlZWlraeofDhw8DcHV1rampIYSo1epnn30WwNatW3v1L8AfhCUWk3U2btzY7ta7d+9GRkZaWloCsLOzi46Orq2tZTalp6f7+vp+9NFHzM+EhAQAgwYNevjwYS+FzjcEJNbp06eZMXtdXd0f7JaTkxMWFiYSiZid4+LiGHtaPg5VXV3NDPxTUlJ6KXQeIiCxxo0bByAuLq4zO6enpzPpDYCnp2frWYnIyEgAISEhXAbLe4Qi1vHjxwG4uLjcv3+/80elpqaOGDGC0cvHxyc5OfmXX34Ri8USieTXX3/lLlozQBBi6XS6qVOnAti5c2dXj9VoNElJSR4eHoxezATpmjVruIjTnBCEWCdOnPD09Fy4cOGDBw+610PLrISTk5Obm1vLoJ7SEeZ/r1Cn08XHx6vV6kmTJtnY2HSvEysrq8jIyAsXLtTU1Gg0Ggd6X/BJmL9Yx44dy8nJcXd3X7BgQQ+7Gjp0qI2NTUVFRUNDAyuxmTFmLpZWq92xYweAVatWWVlZ9bC3lq8Q0C8SPhEzF+urr77Kzc1VKBRhYWGsdMjim/jmjTmLpVarmSny1atXW7L02igjVr7AFxjtBOYs1pEjRwoLC729vf/85z+z1ScVq5OYrVhqtXrXrl0AoqOj2UpXYG9RSbPHbMX6/PPPi4uLhw4dyjzWxxY0Y3USsxWroqJCIpFER0dbsPoNXSZj5efnE4G9Qd5VzO0V+2PHjo0dO7Z///4A7t696+7uzjynwCLOzs5KpbK8vNzV1ZXdns0JnmUslUrV+qdOp2t504aZtNy3b199fb1arSaEDBw4kHWrQGccOgdvxCooKJg5c+bkyZP9/f2//PJLnU63cePGgICAl156admyZQ8fPpw3b96rr74qFotPnTo1duzY69evcxRJSzXkqH/zgDeLgmVkZMTExAQEBOTn50+ePPmFF16wsbH56aefAMyfP//kyZPffffdpUuX1qxZU1VVde7cOUfO1nyhGasz8CZjzZs3LyAgAEBJSYlMJhswYEBUVJRIJGpubq6urpbJZA8ePNi6deuePXvS0tJ+4fIbI/TCsDPwRiwApaWlU6dOXbx4cVxcHNPyr3/9a9SoUT4+Ps8//7xOp5s3b96YMWNiY2Of4nKlM1oKO4Vxn9rpBhkZGSNHjmxqamJ+1tXVhYaGfv31170WwK1btwAoFIpeOyMf4U3GampqYv4wZswYrVZbVlbW2NgIoG/fvv7+/llZWb0WCfNBzeLi4m4s/SAceDN437t3b05OzqRJky5fvuzm5gZg5syZixYtEovFhw8f3rNnT69FIpFI3NzciouLi4uLmbJIaQufJkhTU1Nv3rwpl8tDQkLs7OwKCwtPnTolkUhefPHFp59+ujcjCQ4OvnDhQmpqKvNeNaUdjF2LeUlERASAvXv3GjsQ04U3YyyTwtvbWyQSVVZWGjsQ04VPpdAUOH36tEKhcHNzs7Kysra2ZhovX76s0Wj8/f2NG5tJQcXqGtbW1m+88cb27dtbN4aEhNTV1WVkZBgrKhOElkIKJ1CxKJxAxaJwAm8mSE2HixcvxsTEtG7Jzc1l1gSktEDF6jJlZWUG4/T6+noqlgFUrC4TFhbW7lWhseIxTegYi8IJVCwKJ1CxKJxAx1hdQyaT2dvbGzQ6OTmx+LK1eUBv6VA4gZZCCidQsSicQMWicAIVi8IJVCwKJ1CxKJxAxaJwAhWLwgn/D8n1rx4UfRlSAAABYnpUWHRyZGtpdFBLTCByZGtpdCAyMDIxLjA5LjUAAHice79v7T0GIOBlQAA+IOYH4gZGNgcNIM3MAqMZGUA0IyM6nx3CZ4aJw/jo4uj6GQw0GEECikBCkgNIOJbk5/qV5uRoyDBowyT1sElyMzBmMDEwJzAyMTCyJwBNYmbNYGJlS2BjT2DjzmBi50jg4Mxg4uRi4OROYOBh4OZlEGFiAypiY2dk5WBn4+YU3wQyG4oZ+KwZY/d/qW1y5Fhj6OQd2bbfparXsXC2kZMhx5n9H9QnOH4QM3PaZyC5b+G1OkcRAV0nix9Oe3b+yXVM89Bx8ni4y+55dZuj5hxNp123vOwmS0x09M7Scroyi21/wtMpjjsY9J3qejj3b7wwz7H7r56TlTKXXVnhIkeTRVpOB1e02DWcWOXIPl/T6U6Ggr2W1SzHwr3qTkbP1u1X9ip1TDM3dVrMuMb+3+FZjsq3lZzEALycXbTf/j0fAAAB1XpUWHRNT0wgcmRraXQgMjAyMS4wOS41AAB4nH2TS4sbMQzH7/kUOhdqJEvy49BDHktbSibQZHtdll66UAqFfH8q2Zm159KZHCzNTw/rr/Bfub+8/r7vX37+en37c9iBP99P397u8P7waWd+/M+v1go/GBF3Z/ADHJ4+f13geNsfVs/x8rzcrkACpBZj75bd3y7n1UNwhI8YSmLLCZQCE6mdRIJQsTIjODpKAaUmR3NIRXJHkzo7UIYvjmoVz0AlINWWVYPGKDMqvQF6ZNVQY3ZAOMSkeUbVs6LlouqohJIldhQzbtAEC2DgpNhvVQhb/RgEo85ktvpWvhrROiXO2MmEvLlUsZxWXqOWjiaK2Mtn3ZavD5Rzm2oNRVvPjkpOM0rYG2BxIFrTqPJoQMtmVEQ2AAxRq/caKbDkut5KeYPGljXFlHoDMbdcQqGybmQlhg8uFqckXQFbhdTFYhQvhXDeX6+fmN9jxGK8fpuQpWdpUgmGTE3zR4ikNeRpOW0Wr6/i4bKcxirawkIc6+amjJWyb8BjbcTMMlbDo3XI79/T0NgMyENIMVcZYrlJcVJEjKnT2MUgmodLThFNM5TmidOEyN8xMm/RI2WeyHx/t9e/sZ13/wC4s8vuvvB+swAAAXt6VFh0U01JTEVTIHJka2l0IDIwMjEuMDkuNQAAeJxlkL1OAzEQhF+FMkFmtev9sZ1UKRCUkUA0KEWIrkCQuygEqjw860uTc5rz7Xz2aHbeme83O9rN3p838z72lx//it376QK5cHeePRCwmQRSYEYL4icKLR8QsjEHMmAiDSIglJd+HaVYoASWJVXZ9KJrcZcMSEWri8Yo1UWj5qobxSAMSTGNMic3L5CVyqhLsiUCsZQQ0TOoBIlunsXlqIVC9KiSSpUFlV22aFZNYsp+m6CwLuslzlVlUQ+IkKhaUMlUcxCn0Rg5u8qmdcVMqBffqDUdjTsqlJikpoumY2okT0sCOcm4DSZM87A9Dfv1cTgsEPbD9+twett+d/2uA3Ll5/fjMOy+uhO8PPrY9X+fx6Hfd/0J+u2Crvhq7eM1J1vEKY8t5ynnlsuUS8t1yrXlNuXW8jTlqeV5ynPLy01j5erF08rHtjFsKsPWk9pSb1qlpla66ZWaYqlt9vwP1nX5Hdfsqp4AAAAASUVORK5CYII=\" alt=\"Mol\"/></td>\n",
       "      <td>ACTR2</td>\n",
       "      <td>STKR</td>\n",
       "      <td>TKL</td>\n",
       "      <td>3q4t</td>\n",
       "      <td>TAK</td>\n",
       "      <td>A</td>\n",
       "      <td>B</td>\n",
       "      <td>AP AP AP AP AP AP AP AP AP AP AP AP SE GA</td>\n",
       "      <td>16 16 16 16 16 16 16 16 16 16 16 16 na na</td>\n",
       "      <td>[33*]c1cnc2c([46*])cnn2c1</td>\n",
       "      <td>10</td>\n",
       "      <td>[SE, GA]</td>\n",
       "      <td>[AP=SE, AP=GA]</td>\n",
       "      <td>1</td>\n",
       "      <td>1</td>\n",
       "      <td>1</td>\n",
       "      <td>1</td>\n",
       "      <td>0.511376</td>\n",
       "      <td>1</td>\n",
       "      <td>1</td>\n",
       "      <td>39.622898</td>\n",
       "      <td>1</td>\n",
       "      <td>152</td>\n",
       "      <td>1</td>\n",
       "    </tr>\n",
       "  </tbody>\n",
       "</table>\n",
       "</div>"
      ],
      "text/plain": [
       "<IPython.core.display.HTML object>"
      ]
     },
     "execution_count": 23,
     "metadata": {},
     "output_type": "execute_result"
    }
   ],
   "source": [
    "HTML(fragment_library[\"AP\"].head(3).to_html(notebook=True))\n",
    "# NBVAL_CHECK_OUTPUT"
   ]
  },
  {
   "cell_type": "code",
   "execution_count": null,
   "id": "3faadcb8-2f14-4682-a483-7ba4deee749b",
   "metadata": {},
   "outputs": [],
   "source": [
    "HTML(mol_df.to_html(notebook=True))\n",
    "# NBVAL_CHECK_OUTPUT"
   ]
  },
  {
   "cell_type": "code",
   "execution_count": null,
   "id": "2623b6c3-9471-4e1d-93f9-1488a285cf10",
   "metadata": {},
   "outputs": [],
   "source": [
    "HTML(diff_df.head(3).to_html(notebook=True))\n",
    "# NBVAL_CHECK_OUTPUT"
   ]
  },
  {
   "cell_type": "markdown",
   "id": "0baf9851-65ad-4b9f-b035-2b33d57fd625",
   "metadata": {
    "tags": []
   },
   "source": [
    "## 4. Analyze accepted/ rejected fragments\n",
    "\n",
    "    4.1. Count number of accepted/rejected fragments\n",
    "    \n",
    "    4.2. Plot number of retrosynthetic routes found per fragment and subpocket\n",
    "    \n",
    "    4.3. Inspect fragments with no retrosynthetic routes found and with most retrosynthetic routes found\n",
    "    \n",
    "    4.4 Save custom filtered fragment library\n",
    "    \n",
    "        4.4.1. Add results from pairwise retrosynthesizability to the filtering results\n",
    "        \n",
    "        4.4.2. Save fragment_library_custom_filtered to data"
   ]
  },
  {
   "cell_type": "markdown",
   "id": "6cab8269-47eb-403e-aef5-504155546de5",
   "metadata": {},
   "source": [
    "### 4.1. Count number of accepted/rejected fragments"
   ]
  },
  {
   "cell_type": "code",
   "execution_count": null,
   "id": "1de5d54c-aab5-4441-9b36-4e3df55ffb4e",
   "metadata": {},
   "outputs": [],
   "source": [
    "num_fragments_retro = pd.concat(\n",
    "    [\n",
    "        filters.analysis.count_fragments(\n",
    "            fragment_library, \"custom_filtered\"\n",
    "        ),\n",
    "        filters.analysis.count_accepted_rejected(\n",
    "            fragment_library, \"bool_retro\", \"pairwise_retosynthesizability\"\n",
    "        ),\n",
    "    ],\n",
    "    axis=1,\n",
    ")\n",
    "num_fragments_retro = pd.concat([num_fragments_retro, num_fragments_retro.sum().rename(\"Total\").to_frame().T])\n",
    "num_fragments_retro\n",
    "# NBVAL_CHECK_OUTPUT"
   ]
  },
  {
   "cell_type": "markdown",
   "id": "1eed107d-5000-4519-8811-8d3cd163e243",
   "metadata": {},
   "source": [
    "### 4.2. Plot number of retrosynthetic routes found per fragment and subpocket"
   ]
  },
  {
   "cell_type": "code",
   "execution_count": null,
   "id": "6a4c85ee-142d-4037-8cd0-42b775d4dd54",
   "metadata": {
    "tags": []
   },
   "outputs": [],
   "source": [
    "filters.plots.make_retro_hists(fragment_library, \"retro_count\", cutoff=0)"
   ]
  },
  {
   "cell_type": "markdown",
   "id": "04dd64c2-ba0e-4ae8-8805-93bb11a421a6",
   "metadata": {},
   "source": [
    "legend: red bars display the number fragments without a retrosynthetic route found"
   ]
  },
  {
   "cell_type": "markdown",
   "id": "1a8b225a-5db9-42bf-a6cb-0ea227c51110",
   "metadata": {},
   "source": [
    "### 4.3. Inspect fragments with no retrosynthetic routes found and with most retrosynthetic routes found"
   ]
  },
  {
   "cell_type": "markdown",
   "id": "17a131a6-afbd-43df-ac17-9e20bc6f3b7b",
   "metadata": {
    "tags": []
   },
   "source": [
    "#### Adenine Pocket (AP)"
   ]
  },
  {
   "cell_type": "code",
   "execution_count": null,
   "id": "7c016b3b-4f15-467c-b4eb-3f393f8faf1d",
   "metadata": {
    "tags": []
   },
   "outputs": [],
   "source": [
    "filters.plots.retro_routes_fragments(\n",
    "    fragment_library,\n",
    "    evaluate=\"none\",\n",
    "    subpocket=\"AP\",\n",
    "    molsPerRow=10,\n",
    ")"
   ]
  },
  {
   "cell_type": "code",
   "execution_count": null,
   "id": "3647f5cc-768e-44c8-ab1f-3741a991f362",
   "metadata": {},
   "outputs": [],
   "source": [
    "filters.plots.retro_routes_fragments(\n",
    "    fragment_library,\n",
    "    evaluate=\"max\",\n",
    "    subpocket=\"AP\",\n",
    "    molsPerRow=10,\n",
    ")"
   ]
  },
  {
   "cell_type": "markdown",
   "id": "a89692ad-0483-4cd4-b5e0-7914f0e09d39",
   "metadata": {
    "tags": []
   },
   "source": [
    "#### Front Pocket (FP)"
   ]
  },
  {
   "cell_type": "code",
   "execution_count": null,
   "id": "b0002a69-70aa-4838-a476-dc2d08616a20",
   "metadata": {},
   "outputs": [],
   "source": [
    "filters.plots.retro_routes_fragments(\n",
    "    fragment_library,\n",
    "    evaluate=\"none\",\n",
    "    subpocket=\"FP\",\n",
    "    molsPerRow=10,\n",
    ")"
   ]
  },
  {
   "cell_type": "code",
   "execution_count": null,
   "id": "a1311af0-e963-47c7-ae8e-b84736c3f621",
   "metadata": {},
   "outputs": [],
   "source": [
    "filters.plots.retro_routes_fragments(\n",
    "    fragment_library,\n",
    "    evaluate=\"max\",\n",
    "    subpocket=\"FP\",\n",
    "    molsPerRow=10,\n",
    ")"
   ]
  },
  {
   "cell_type": "markdown",
   "id": "ee8295b0-8fbd-4695-800c-db885ee6651a",
   "metadata": {},
   "source": [
    "#### Solvent Exposed Pocket (SE)"
   ]
  },
  {
   "cell_type": "code",
   "execution_count": null,
   "id": "f667cf28-1427-4531-9375-d199f15d08b0",
   "metadata": {},
   "outputs": [],
   "source": [
    "filters.plots.retro_routes_fragments(\n",
    "    fragment_library,\n",
    "    evaluate=\"none\",\n",
    "    subpocket=\"SE\",\n",
    "    molsPerRow=10,\n",
    ")"
   ]
  },
  {
   "cell_type": "code",
   "execution_count": null,
   "id": "2a0f93d9-bfc9-45d4-8435-4ba10c6c7a59",
   "metadata": {},
   "outputs": [],
   "source": [
    "filters.plots.retro_routes_fragments(\n",
    "    fragment_library,\n",
    "    evaluate=\"max\",\n",
    "    subpocket=\"SE\",\n",
    "    molsPerRow=10,\n",
    ")"
   ]
  },
  {
   "cell_type": "markdown",
   "id": "ac97a23b-655d-4770-9cda-32aec185695d",
   "metadata": {},
   "source": [
    "#### Gate Area Pocket (GA)"
   ]
  },
  {
   "cell_type": "code",
   "execution_count": null,
   "id": "da6de0e3-7599-4d81-a447-ff49069d8276",
   "metadata": {},
   "outputs": [],
   "source": [
    "filters.plots.retro_routes_fragments(\n",
    "    fragment_library,\n",
    "    evaluate=\"none\",\n",
    "    subpocket=\"GA\",\n",
    "    molsPerRow=10,\n",
    ")"
   ]
  },
  {
   "cell_type": "code",
   "execution_count": null,
   "id": "0b638a55-4846-4f47-822f-3f38b014cef6",
   "metadata": {},
   "outputs": [],
   "source": [
    "filters.plots.retro_routes_fragments(\n",
    "    fragment_library,\n",
    "    evaluate=\"max\",\n",
    "    subpocket=\"GA\",\n",
    "    molsPerRow=10,\n",
    ")"
   ]
  },
  {
   "cell_type": "markdown",
   "id": "2a8165e7-cdd4-452a-9481-665c9b4acb02",
   "metadata": {},
   "source": [
    "#### Back Pocket 1 (B1)"
   ]
  },
  {
   "cell_type": "code",
   "execution_count": null,
   "id": "27f4d1f4-c672-4d7d-ab15-a34b09f16053",
   "metadata": {},
   "outputs": [],
   "source": [
    "filters.plots.retro_routes_fragments(\n",
    "    fragment_library,\n",
    "    evaluate=\"none\",\n",
    "    subpocket=\"B1\",\n",
    "    molsPerRow=10,\n",
    ")"
   ]
  },
  {
   "cell_type": "code",
   "execution_count": null,
   "id": "d13bf3b9-fecb-4a44-a14c-bbf86203646d",
   "metadata": {},
   "outputs": [],
   "source": [
    "filters.plots.retro_routes_fragments(\n",
    "    fragment_library,\n",
    "    evaluate=\"max\",\n",
    "    subpocket=\"B1\",\n",
    "    molsPerRow=10,\n",
    ")"
   ]
  },
  {
   "cell_type": "markdown",
   "id": "6e6a3a24-f4c7-46d0-bfd6-b1c2f6bd37bd",
   "metadata": {},
   "source": [
    "#### Back Pocket 2 (B2)"
   ]
  },
  {
   "cell_type": "code",
   "execution_count": null,
   "id": "5a0787b4-d199-4522-a0f2-4f6d61ecc004",
   "metadata": {},
   "outputs": [],
   "source": [
    "filters.plots.retro_routes_fragments(\n",
    "    fragment_library,\n",
    "    evaluate=\"none\",\n",
    "    subpocket=\"B2\",\n",
    "    molsPerRow=10,\n",
    ")"
   ]
  },
  {
   "cell_type": "code",
   "execution_count": null,
   "id": "ef0cbdad-5684-4d5e-ab0c-5a67a45a5f4c",
   "metadata": {},
   "outputs": [],
   "source": [
    "filters.plots.retro_routes_fragments(\n",
    "    fragment_library,\n",
    "    evaluate=\"max\",\n",
    "    subpocket=\"B2\",\n",
    "    molsPerRow=10,\n",
    ")"
   ]
  },
  {
   "cell_type": "markdown",
   "id": "35480ac5-3c7f-4a3e-876a-594a5126a4f9",
   "metadata": {},
   "source": [
    "### 4.4 Save custom filtered fragment library"
   ]
  },
  {
   "cell_type": "markdown",
   "id": "3fd20c5f-3f06-4807-a9c4-9457420efcef",
   "metadata": {},
   "source": [
    "#### 4.4.1. Add results from pairwise retrosynthesizability to the filtering results"
   ]
  },
  {
   "cell_type": "markdown",
   "id": "b6bc28ef-2434-4053-95b5-7fe8cfcd7f52",
   "metadata": {},
   "source": [
    "Load previous filtering results and values from [/data/filters/fragment_library_custom_filtered/custom_filter_results.csv](https://github.com/sonjaleo/KinFragLib/blob/fragment_pairs/data/fragment_library_custom_filtered/custom_filter_results.csv) file and add retro results to this file."
   ]
  },
  {
   "cell_type": "code",
   "execution_count": null,
   "id": "b1113ffc-909a-42af-a8ea-c165a7aadcb1",
   "metadata": {},
   "outputs": [],
   "source": [
    "saved_filter_results = pd.read_csv(PATH_DATA_CUSTOM / \"custom_filter_results.csv\")"
   ]
  },
  {
   "cell_type": "code",
   "execution_count": null,
   "id": "4dca157d-bc38-4721-9d51-c24b6167c8f1",
   "metadata": {},
   "outputs": [],
   "source": [
    "saved_filter_results.set_index([\"subpocket\", \"smiles\"])"
   ]
  },
  {
   "cell_type": "code",
   "execution_count": null,
   "id": "a76c8868-1d6d-4405-9f97-81b4875bb190",
   "metadata": {},
   "outputs": [],
   "source": [
    "fragment_library_concat = pd.concat(fragment_library)\n",
    "retro_results_df = pd.DataFrame()\n",
    "retro_results_df[\"subpocket\"] = fragment_library_concat[\"subpocket\"]\n",
    "retro_results_df[\"smiles\"] = fragment_library_concat[\"smiles\"]\n",
    "retro_results_df[\"retro_count\"] = fragment_library_concat[\"retro_count\"]\n",
    "retro_results_df[\"bool_retro\"] = fragment_library_concat[\"bool_retro\"]\n",
    "retro_results_df.set_index([\"subpocket\", \"smiles\"])"
   ]
  },
  {
   "cell_type": "code",
   "execution_count": null,
   "id": "3cf3aa42-5df2-459e-836c-82386ee12de8",
   "metadata": {},
   "outputs": [],
   "source": [
    "all_results_df = saved_filter_results.merge(\n",
    "    retro_results_df,\n",
    "    left_on=['subpocket', 'smiles'],\n",
    "    right_on=['subpocket', 'smiles'],\n",
    "    how=\"outer\",\n",
    ")\n",
    "all_results_df.to_csv(PATH_DATA_CUSTOM / \"custom_filter_results.csv\", index=False)"
   ]
  },
  {
   "cell_type": "markdown",
   "id": "e52b50c1-893a-4d80-9f32-624cef38867c",
   "metadata": {},
   "source": [
    "#### 4.4.2. Save fragment_library_custom_filtered to data"
   ]
  },
  {
   "cell_type": "markdown",
   "id": "308082f4-2807-4203-a887-b355e0827b3e",
   "metadata": {},
   "source": [
    "Save custom filtered fragment library as .sdf files to [/data/filters/fragment_library_custom_filtered/](https://github.com/sonjaleo/KinFragLib/blob/fragment_pairs/data/fragment_library_custom_filtered/)"
   ]
  },
  {
   "cell_type": "code",
   "execution_count": null,
   "id": "be565a33-a752-4bcd-96bc-0379e23f04cb",
   "metadata": {},
   "outputs": [],
   "source": [
    "for subpocket in fragment_library.keys():\n",
    "    fragment_library[subpocket].drop(\n",
    "        fragment_library[subpocket].loc[fragment_library[subpocket][\"bool_retro\"] == 0].index,\n",
    "        inplace=True,\n",
    "    )\n",
    "    fragment_library[subpocket] = fragment_library[subpocket].reset_index(drop=True)"
   ]
  },
  {
   "cell_type": "code",
   "execution_count": null,
   "id": "369c413b-62ec-4e09-91e4-deb5c3025584",
   "metadata": {},
   "outputs": [],
   "source": [
    "fragment_library_concat = pd.concat(fragment_library)\n",
    "fragment_library_concat.head()"
   ]
  },
  {
   "cell_type": "code",
   "execution_count": null,
   "id": "b277ca0c-e6e7-46da-9dd3-7b3cc8971922",
   "metadata": {},
   "outputs": [],
   "source": [
    "filters.retro.save_fragment_library_to_sdfs(\n",
    "    PATH_DATA_CUSTOM,\n",
    "    fragment_library_concat,\n",
    ")"
   ]
  },
  {
   "cell_type": "code",
   "execution_count": null,
   "id": "877854e7-7b9a-4839-830d-6cb3bc00cd55",
   "metadata": {},
   "outputs": [],
   "source": []
  }
 ],
 "metadata": {
  "kernelspec": {
   "display_name": "Python 3 (ipykernel)",
   "language": "python",
   "name": "python3"
  },
  "language_info": {
   "codemirror_mode": {
    "name": "ipython",
    "version": 3
   },
   "file_extension": ".py",
   "mimetype": "text/x-python",
   "name": "python",
   "nbconvert_exporter": "python",
   "pygments_lexer": "ipython3",
   "version": "3.8.19"
  }
 },
 "nbformat": 4,
 "nbformat_minor": 5
}
