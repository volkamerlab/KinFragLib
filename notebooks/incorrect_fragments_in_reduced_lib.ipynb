{
 "cells": [
  {
   "cell_type": "markdown",
   "metadata": {},
   "source": [
    "# Incorrect fragments in reduced fragment library"
   ]
  },
  {
   "cell_type": "code",
   "execution_count": null,
   "metadata": {},
   "outputs": [],
   "source": [
    "%load_ext autoreload\n",
    "%autoreload 2"
   ]
  },
  {
   "cell_type": "code",
   "execution_count": 2,
   "metadata": {},
   "outputs": [],
   "source": [
    "from pathlib import Path\n",
    "\n",
    "import pandas as pd\n",
    "from rdkit.Chem import PandasTools\n",
    "\n",
    "from util import *"
   ]
  },
  {
   "cell_type": "code",
   "execution_count": 3,
   "metadata": {},
   "outputs": [],
   "source": [
    "# Path to library folder\n",
    "PATH_TO_LIB = Path('.') / '..' / 'data'"
   ]
  },
  {
   "cell_type": "code",
   "execution_count": 4,
   "metadata": {},
   "outputs": [],
   "source": [
    "# Needed to display ROMol images in DataFrames\n",
    "PandasTools.RenderImagesInAllDataFrames(images=True)"
   ]
  },
  {
   "cell_type": "markdown",
   "metadata": {},
   "source": [
    "## Load reduced fragment library\n",
    "\n",
    "\"Reduced fragment library\" (`fragment_library_reduced`): This DataFrame contains the cluster centroids generated based on a clustering (Butina algorithm) of the full library."
   ]
  },
  {
   "cell_type": "code",
   "execution_count": 5,
   "metadata": {},
   "outputs": [
    {
     "data": {
      "text/plain": [
       "dict_keys(['AP', 'FP', 'SE', 'GA', 'B1', 'B2'])"
      ]
     },
     "execution_count": 5,
     "metadata": {},
     "output_type": "execute_result"
    }
   ],
   "source": [
    "# Load fragments per subpocket\n",
    "fragment_library_reduced = read_fragment_library(PATH_TO_LIB / 'fragment_library_reduced', reduced='_reduced_0.6')\n",
    "fragment_library_reduced.keys()"
   ]
  },
  {
   "cell_type": "code",
   "execution_count": 6,
   "metadata": {},
   "outputs": [
    {
     "data": {
      "text/plain": [
       "694"
      ]
     },
     "execution_count": 6,
     "metadata": {},
     "output_type": "execute_result"
    }
   ],
   "source": [
    "# Number of ligands from which fragments originate\n",
    "pd.concat(fragment_library_reduced).groupby(['kinase', 'complex_pdb', 'ligand_pdb']).first().shape[0]"
   ]
  },
  {
   "cell_type": "markdown",
   "metadata": {},
   "source": [
    "## Incorrect fragments in reduced fragment library?"
   ]
  },
  {
   "cell_type": "code",
   "execution_count": 7,
   "metadata": {},
   "outputs": [],
   "source": [
    "incorrect_fragments = [\n",
    "    \"HUMAN/CDK2/1h07_altB_chainA [{'dummy_atom': 16, 'subpocket_dummy': 'GA', 'subpocket_fragment': 'AP', 'bonds': [(16, 28), (28, 12)]}]\",\n",
    "    \"HUMAN/CDK2/2iw6_chainA [{'dummy_atom': 17, 'subpocket_dummy': 'GA', 'subpocket_fragment': 'AP', 'bonds': [(17, 24), (24, 13)]}]\",\n",
    "    \"HUMAN/EGFR/4jr3_chainA [{'dummy_atom': 39, 'subpocket_dummy': 'AP', 'subpocket_fragment': 'FP', 'bonds': [(41, 39), (41, 48)]}]\",\n",
    "    \"HUMAN/EphB4/2xvd_altA_chainA [{'dummy_atom': 4, 'subpocket_dummy': 'FP', 'subpocket_fragment': 'AP', 'bonds': [(4, 10), (10, 51)]}]\",\n",
    "    \"HUMAN/FGFR1/5ew8_altB_chainB [{'dummy_atom': 47, 'subpocket_dummy': 'FP', 'subpocket_fragment': 'GA', 'bonds': [(47, 46), (46, 57)]}]\",\n",
    "    \"HUMAN/LCK/2ofu_chainA [{'dummy_atom': 14, 'subpocket_dummy': 'GA', 'subpocket_fragment': 'AP', 'bonds': [(14, 11), (11, 12)]}]\",\n",
    "    \"HUMAN/MET/4xmo_chainA [{'dummy_atom': 21, 'subpocket_dummy': 'FP', 'subpocket_fragment': 'GA', 'bonds': [(22, 21), (22, 28)]}]\",\n",
    "    \"HUMAN/MET/5eob_altA_chainA [{'dummy_atom': 24, 'subpocket_dummy': 'FP', 'subpocket_fragment': 'GA', 'bonds': [(0, 24), (0, 27)]}]\",\n",
    "    \"HUMAN/SYK/4yjq_altA_chainA [{'dummy_atom': 29, 'subpocket_dummy': 'FP', 'subpocket_fragment': 'GA', 'bonds': [(29, 28), (28, 26)]}]\",\n",
    "    \"HUMAN/SYK/4yjr_altC_chainA [{'dummy_atom': 23, 'subpocket_dummy': 'FP', 'subpocket_fragment': 'AP', 'bonds': [(23, 22), (22, 34)]}]\",\n",
    "    \"HUMAN/SYK/4yjs_chainA [{'dummy_atom': 28, 'subpocket_dummy': 'FP', 'subpocket_fragment': 'GA', 'bonds': [(28, 27), (27, 21)]}]\",\n",
    "    \"HUMAN/p38a/2i0h_altB_chainA [{'dummy_atom': 21, 'subpocket_dummy': 'FP', 'subpocket_fragment': 'GA', 'bonds': [(21, 20), (20, 17)]}]\"\n",
    "]"
   ]
  },
  {
   "cell_type": "code",
   "execution_count": 8,
   "metadata": {},
   "outputs": [
    {
     "name": "stdout",
     "output_type": "stream",
     "text": [
      "12\n"
     ]
    },
    {
     "data": {
      "text/plain": [
       "[('1h07', 'AP'),\n",
       " ('2iw6', 'AP'),\n",
       " ('4jr3', 'FP'),\n",
       " ('2xvd', 'AP'),\n",
       " ('5ew8', 'GA'),\n",
       " ('2ofu', 'AP'),\n",
       " ('4xmo', 'GA'),\n",
       " ('5eob', 'GA'),\n",
       " ('4yjq', 'GA'),\n",
       " ('4yjr', 'AP'),\n",
       " ('4yjs', 'GA'),\n",
       " ('2i0h', 'GA')]"
      ]
     },
     "execution_count": 8,
     "metadata": {},
     "output_type": "execute_result"
    }
   ],
   "source": [
    "incorrect_fragments = [(i.split('/')[2].split('_')[0], i.split(',')[2].split(\"'\")[-2]) for i in incorrect_fragments]\n",
    "print(len(incorrect_fragments))\n",
    "incorrect_fragments"
   ]
  },
  {
   "cell_type": "code",
   "execution_count": 9,
   "metadata": {},
   "outputs": [
    {
     "name": "stdout",
     "output_type": "stream",
     "text": [
      "4jr3 FP\n",
      "4xmo GA\n"
     ]
    }
   ],
   "source": [
    "for complex_pdb, subpocket in incorrect_fragments:\n",
    "    match = any(fragment_library_reduced[subpocket].complex_pdb.str.contains(complex_pdb, regex=False))\n",
    "    \n",
    "    if match:\n",
    "        print(complex_pdb, subpocket)"
   ]
  }
 ],
 "metadata": {
  "kernelspec": {
   "display_name": "kinfraglib",
   "language": "python",
   "name": "kinfraglib"
  },
  "language_info": {
   "codemirror_mode": {
    "name": "ipython",
    "version": 3
   },
   "file_extension": ".py",
   "mimetype": "text/x-python",
   "name": "python",
   "nbconvert_exporter": "python",
   "pygments_lexer": "ipython3",
   "version": "3.7.6"
  }
 },
 "nbformat": 4,
 "nbformat_minor": 4
}
