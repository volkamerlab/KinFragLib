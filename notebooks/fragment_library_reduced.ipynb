{
 "cells": [
  {
   "cell_type": "markdown",
   "metadata": {},
   "source": [
    "# Original ligands"
   ]
  },
  {
   "cell_type": "code",
   "execution_count": 1,
   "metadata": {},
   "outputs": [],
   "source": [
    "%load_ext autoreload\n",
    "%autoreload 2"
   ]
  },
  {
   "cell_type": "code",
   "execution_count": 2,
   "metadata": {},
   "outputs": [
    {
     "name": "stderr",
     "output_type": "stream",
     "text": [
      "RDKit WARNING: [09:07:58] Enabling RDKit 2019.09.3 jupyter extensions\n"
     ]
    }
   ],
   "source": [
    "from pathlib import Path\n",
    "\n",
    "import pandas as pd\n",
    "from rdkit.Chem import PandasTools\n",
    "\n",
    "from util import *"
   ]
  },
  {
   "cell_type": "code",
   "execution_count": 3,
   "metadata": {},
   "outputs": [],
   "source": [
    "# Path to library folder\n",
    "PATH_TO_LIB = Path('.') / '..' / 'data'"
   ]
  },
  {
   "cell_type": "code",
   "execution_count": 4,
   "metadata": {},
   "outputs": [],
   "source": [
    "# Needed to display ROMol images in DataFrames\n",
    "PandasTools.RenderImagesInAllDataFrames(images=True)"
   ]
  },
  {
   "cell_type": "markdown",
   "metadata": {},
   "source": [
    "## Load full fragment library\n",
    "\n",
    "\"Full fragment library\" (`fragment_library`): This DataFrame contains all fragments (excluding pool X) that were generated with the KinFragLib fragmentation algorithm."
   ]
  },
  {
   "cell_type": "code",
   "execution_count": 5,
   "metadata": {},
   "outputs": [
    {
     "data": {
      "text/plain": [
       "dict_keys(['AP', 'FP', 'SE', 'GA', 'B1', 'B2', 'X'])"
      ]
     },
     "execution_count": 5,
     "metadata": {},
     "output_type": "execute_result"
    }
   ],
   "source": [
    "# Load fragments per subpocket\n",
    "fragment_library = read_fragment_library(PATH_TO_LIB / 'fragment_library')\n",
    "fragment_library.keys()"
   ]
  },
  {
   "cell_type": "markdown",
   "metadata": {},
   "source": [
    "## Load reduced fragment library\n",
    "\n",
    "\"Reduced fragment library\" (`fragment_library_reduced`): This DataFrame contains the cluster centroids generated based on a clustering (Butina algorithm) of the full library."
   ]
  },
  {
   "cell_type": "code",
   "execution_count": 6,
   "metadata": {},
   "outputs": [
    {
     "data": {
      "text/plain": [
       "dict_keys(['AP', 'FP', 'SE', 'GA', 'B1', 'B2'])"
      ]
     },
     "execution_count": 6,
     "metadata": {},
     "output_type": "execute_result"
    }
   ],
   "source": [
    "# Load fragments per subpocket\n",
    "fragment_library_reduced = read_fragment_library(PATH_TO_LIB / 'fragment_library_reduced', reduced='_reduced_0.6')\n",
    "fragment_library_reduced.keys()"
   ]
  },
  {
   "cell_type": "code",
   "execution_count": 7,
   "metadata": {},
   "outputs": [
    {
     "data": {
      "text/plain": [
       "694"
      ]
     },
     "execution_count": 7,
     "metadata": {},
     "output_type": "execute_result"
    }
   ],
   "source": [
    "# Number of ligands from which fragments originate\n",
    "pd.concat(fragment_library_reduced).groupby(['kinase', 'complex_pdb', 'ligand_pdb']).first().shape[0]"
   ]
  },
  {
   "cell_type": "markdown",
   "metadata": {},
   "source": [
    "## Original ligands covered by reduced library"
   ]
  },
  {
   "cell_type": "markdown",
   "metadata": {},
   "source": [
    "### Which fragments in the full library are in the reduced library?"
   ]
  },
  {
   "cell_type": "markdown",
   "metadata": {},
   "source": [
    "Loop over each subpocket pool in the full library and ask for each fragment if it is part of the respective reduced library's subpocket pool?"
   ]
  },
  {
   "cell_type": "code",
   "execution_count": 8,
   "metadata": {},
   "outputs": [
    {
     "data": {
      "text/plain": [
       "(7486, 13)"
      ]
     },
     "execution_count": 8,
     "metadata": {},
     "output_type": "execute_result"
    }
   ],
   "source": [
    "for subpocket, fragments in fragment_library.items():\n",
    "\n",
    "    fragments['subpocket'] = subpocket\n",
    "    \n",
    "    if subpocket != 'X':\n",
    "        smiles_match = fragments.smiles.isin(fragment_library_reduced[subpocket].smiles)\n",
    "        atom_environments_match = fragments.atom_environments.isin(fragment_library_reduced[subpocket].atom_environments)\n",
    "        fragments['in_reduced_library'] = smiles_match & atom_environments_match\n",
    "    else:\n",
    "        fragments['in_reduced_library'] = False\n",
    "    \n",
    "fragment_library_concat = pd.concat(fragment_library)\n",
    "fragment_library_concat.reset_index(drop=True, inplace=True)\n",
    "fragment_library_concat.shape"
   ]
  },
  {
   "cell_type": "code",
   "execution_count": 9,
   "metadata": {},
   "outputs": [
    {
     "name": "stdout",
     "output_type": "stream",
     "text": [
      "How many fragments are in reduced fragment library?\n",
      "801\n",
      "How many fragments in reduced library are part of full library? (sanity check)\n",
      "801\n"
     ]
    }
   ],
   "source": [
    "print(f'How many fragments are in reduced fragment library?')\n",
    "print(pd.concat(fragment_library_reduced).shape[0])\n",
    "\n",
    "print(f'How many fragments in reduced library are part of full library? (sanity check)')\n",
    "print(fragment_library_concat[fragment_library_concat.in_reduced_library].groupby(['subpocket', 'smiles']).first().shape[0])"
   ]
  },
  {
   "cell_type": "markdown",
   "metadata": {},
   "source": [
    "### How many ligands are fully covered by the reduced library?"
   ]
  },
  {
   "cell_type": "code",
   "execution_count": 10,
   "metadata": {},
   "outputs": [
    {
     "data": {
      "text/plain": [
       "kinase  complex_pdb  ligand_pdb\n",
       "AAK1    5l4q         LKB           False\n",
       "        5te0         XIN           False\n",
       "ABL1    2f4j         VX6           False\n",
       "        2gqg         1N1           False\n",
       "        2v7a         627           False\n",
       "Name: is_fully_covered, dtype: bool"
      ]
     },
     "execution_count": 10,
     "metadata": {},
     "output_type": "execute_result"
    }
   ],
   "source": [
    "ligand_is_fully_covered = fragment_library_concat.groupby(['kinase', 'complex_pdb', 'ligand_pdb'], sort=False).apply(\n",
    "    lambda ligand: all(ligand.in_reduced_library)\n",
    ")\n",
    "ligand_is_fully_covered.name = 'is_fully_covered'\n",
    "ligand_is_fully_covered.head()"
   ]
  },
  {
   "cell_type": "code",
   "execution_count": 11,
   "metadata": {},
   "outputs": [
    {
     "name": "stdout",
     "output_type": "stream",
     "text": [
      "Number of fully covered ligands by reduced fragment library: 55\n"
     ]
    }
   ],
   "source": [
    "print(f'Number of fully covered ligands by reduced fragment library: {ligand_is_fully_covered[ligand_is_fully_covered].shape[0]}')"
   ]
  },
  {
   "cell_type": "code",
   "execution_count": 12,
   "metadata": {},
   "outputs": [],
   "source": [
    "pdb_ids = list(ligand_is_fully_covered[ligand_is_fully_covered].reset_index().complex_pdb.unique())"
   ]
  },
  {
   "cell_type": "code",
   "execution_count": null,
   "metadata": {},
   "outputs": [],
   "source": [
    "#draw_ligands_from_pdb_ids(pdb_ids, mols_per_row=9)"
   ]
  }
 ],
 "metadata": {
  "kernelspec": {
   "display_name": "kffl",
   "language": "python",
   "name": "kffl"
  },
  "language_info": {
   "codemirror_mode": {
    "name": "ipython",
    "version": 3
   },
   "file_extension": ".py",
   "mimetype": "text/x-python",
   "name": "python",
   "nbconvert_exporter": "python",
   "pygments_lexer": "ipython3",
   "version": "3.6.8"
  }
 },
 "nbformat": 4,
 "nbformat_minor": 4
}
